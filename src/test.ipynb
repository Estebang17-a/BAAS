{
 "cells": [
  {
   "cell_type": "code",
   "execution_count": 1,
   "metadata": {},
   "outputs": [],
   "source": [
    "from typing import List\n",
    "import trendline\n",
    "import crypto_data\n",
    "import equities_data\n",
    "import numpy as np\n",
    "import pandas as pd\n",
    "import plotly.graph_objects as go\n",
    "import plotly.express as px\n",
    "from plotly.subplots import make_subplots"
   ]
  },
  {
   "cell_type": "markdown",
   "metadata": {},
   "source": [
    "# I can add that the signal is a maximum of a fraction of atr away from the breakout line"
   ]
  },
  {
   "cell_type": "code",
   "execution_count": 2,
   "metadata": {},
   "outputs": [],
   "source": [
    "def combine_market_data(crypto_df=None, equities_df=None):\n",
    "\n",
    "    dfs_to_concat = []\n",
    "    \n",
    "    if crypto_df is not None:\n",
    "        # Ensure the crypto data has the correct structure\n",
    "        if not isinstance(crypto_df.columns, pd.MultiIndex):\n",
    "            raise ValueError(\"Crypto DataFrame must have MultiIndex columns\")\n",
    "        dfs_to_concat.append(crypto_df)\n",
    "    \n",
    "    if equities_df is not None:\n",
    "        # Ensure the equities data has the correct structure\n",
    "        if not isinstance(equities_df.columns, pd.MultiIndex):\n",
    "            raise ValueError(\"Equities DataFrame must have MultiIndex columns\")\n",
    "        dfs_to_concat.append(equities_df)\n",
    "    \n",
    "    if not dfs_to_concat:\n",
    "        raise ValueError(\"At least one DataFrame must be provided\")\n",
    "    \n",
    "    # Concatenate along axis 1 (columns) to preserve the MultiIndex structure\n",
    "    combined_df = pd.concat(dfs_to_concat, axis=1)\n",
    "    \n",
    "    # Sort the columns for better organization\n",
    "    combined_df = combined_df.sort_index(axis=1)\n",
    "    \n",
    "    return combined_df"
   ]
  },
  {
   "cell_type": "code",
   "execution_count": 3,
   "metadata": {},
   "outputs": [],
   "source": [
    "def trendline_breakout_hl(data: pd.DataFrame, lookback: int, ema_period: int = 21):\n",
    "    \"\"\"\n",
    "    Calculate trendline breakouts with specific pattern conditions:\n",
    "    Long: price > EMA21 + negative resistance slope\n",
    "    Short: price < EMA21 + positive resistance slope\n",
    "    \"\"\"\n",
    "    # Calculate EMA\n",
    "    data['EMA21'] = data['Close'].ewm(span=ema_period, adjust=False).mean()\n",
    "    \n",
    "    # Initialize arrays\n",
    "    n = len(data)\n",
    "    s_tl = np.full(n, np.nan)\n",
    "    r_tl = np.full(n, np.nan)\n",
    "    signals = np.zeros(n)\n",
    "    r_slopes = np.full(n, np.nan)\n",
    "    s_slopes = np.full(n, np.nan)\n",
    "    \n",
    "    for i in range(lookback, n):\n",
    "        try:\n",
    "            # Get window data\n",
    "            window_close = data.iloc[i - lookback:i]['Close'].to_numpy()\n",
    "            window_high = data.iloc[i - lookback:i]['High'].to_numpy()\n",
    "            window_low = data.iloc[i - lookback:i]['Low'].to_numpy()\n",
    "            \n",
    "            # Calculate trendlines\n",
    "            s_coefs, r_coefs = trendline.fit_trendlines_high_low(\n",
    "                window_high, window_low, window_close\n",
    "            )\n",
    "            \n",
    "            # Store slopes\n",
    "            s_slopes[i] = s_coefs[0]\n",
    "            r_slopes[i] = r_coefs[0]\n",
    "            \n",
    "            # Project trendlines to current bar\n",
    "            s_val = s_coefs[1] + lookback * s_coefs[0]\n",
    "            r_val = r_coefs[1] + lookback * r_coefs[0]\n",
    "            \n",
    "            s_tl[i] = s_val\n",
    "            r_tl[i] = r_val\n",
    "            \n",
    "            # Get current price and EMA\n",
    "            current_close = data.iloc[i]['Close']\n",
    "            current_ema = data.iloc[i]['EMA21']\n",
    "\n",
    "            # Average price condition\n",
    "            window_average = window_close.mean()\n",
    "            \n",
    "            # Long condition: price > EMA + negative resistance slope\n",
    "            if (window_average > current_ema) and (r_coefs[0] < 0) and (current_close > r_val):\n",
    "                signals[i] = 1.0\n",
    "                \n",
    "            # Short condition: price < EMA + positive resistance slope    \n",
    "            elif (window_average < current_ema) and (r_coefs[0] > 0) and (current_close < s_val):\n",
    "                signals[i] = -1.0\n",
    "                \n",
    "            else:\n",
    "                signals[i] = 0\n",
    "                \n",
    "        except Exception as e:\n",
    "            signals[i] = signals[i - 1]\n",
    "            continue\n",
    "    \n",
    "    return s_tl, r_tl, signals, data['EMA21'].to_numpy(), r_slopes, s_slopes\n",
    "\n",
    "# Usage\n",
    "# s_tl, r_tl, signals, ema, r_slopes, s_slopes = trendline_breakout_hl(data, lookback=14)"
   ]
  },
  {
   "cell_type": "code",
   "execution_count": 4,
   "metadata": {},
   "outputs": [
    {
     "name": "stdout",
     "output_type": "stream",
     "text": [
      "Initializing data download for: bybit, Timeframe: 1d, Periods: 30...\n",
      "\n",
      "Downloading data for 1437 symbols\n",
      "Data for 10000000AIDOGE/USDT:USDT:\n",
      "  Start: 2025-02-05 00:00:00+00:00\n",
      "  End: 2025-03-06 00:00:00+00:00\n",
      "Last row: \n",
      "Timestamp    2025-03-06 00:00:00+00:00\n",
      "Open                          0.000993\n",
      "High                          0.001034\n",
      "Low                           0.000958\n",
      "Close                         0.000985\n",
      "Volume                     926611700.0\n",
      "Name: 29, dtype: object\n",
      "\n",
      "  Expected Interval: 1d, Actual Interval: 1 days 00:00:00\n",
      "Finished downloading data for 507 symbols in 32.85 seconds.\n",
      "YF.download() has changed argument auto_adjust default to True\n"
     ]
    },
    {
     "name": "stderr",
     "output_type": "stream",
     "text": [
      "[*********************100%***********************]  503 of 503 completed\n",
      "\n",
      "2 Failed downloads:\n",
      "['BF.B']: YFPricesMissingError('possibly delisted; no price data found  (period=1mo)')\n",
      "['BRK.B']: YFPricesMissingError('possibly delisted; no price data found  (period=1mo) (Yahoo error = \"No data found, symbol may be delisted\")')\n"
     ]
    },
    {
     "name": "stdout",
     "output_type": "stream",
     "text": [
      "Data downloaded successfully.\n",
      "Analyzing 1010 symbols\n",
      "Analyzing 10000000AIDOGE/USDT:USDT...\n",
      "Analyzing 1000000BABYDOGE/USDT:USDT...\n",
      "Analyzing 1000000CHEEMS/USDT:USDT...\n",
      "Analyzing 1000000MOG/USDT:USDT...\n",
      "Analyzing 1000000PEIPEI/USDT:USDT...\n",
      "Analyzing 10000COQ/USDT:USDT...\n",
      "Analyzing 10000ELON/USDT:USDT...\n",
      "Analyzing 10000LADYS/USDT:USDT...\n",
      "Analyzing 10000QUBIC/USDT:USDT...\n",
      "Analyzing 10000SATS/USDT:USDT...\n",
      "Analyzing 10000WEN/USDT:USDT...\n",
      "Analyzing 10000WHY/USDT:USDT...\n",
      "Analyzing 1000APU/USDT:USDT...\n",
      "Analyzing 1000BONK/USDT:USDT...\n",
      "Analyzing 1000BTT/USDT:USDT...\n",
      "Analyzing 1000CAT/USDT:USDT...\n",
      "Analyzing 1000CATS/USDT:USDT...\n",
      "Analyzing 1000FLOKI/USDT:USDT...\n",
      "Analyzing 1000LUNC/USDT:USDT...\n",
      "Analyzing 1000MUMU/USDT:USDT...\n",
      "Analyzing 1000NEIROCTO/USDT:USDT...\n",
      "Analyzing 1000PEPE/USDT:USDT...\n",
      "Analyzing 1000RATS/USDT:USDT...\n",
      "Analyzing 1000TOSHI/USDT:USDT...\n",
      "Analyzing 1000TURBO/USDT:USDT...\n",
      "Analyzing 1000X/USDT:USDT...\n",
      "Analyzing 1000XEC/USDT:USDT...\n",
      "Analyzing 1INCH/USDT:USDT...\n",
      "Analyzing A...\n",
      "Analyzing A8/USDT:USDT...\n",
      "Analyzing AAPL...\n",
      "Analyzing AAVE/USDT:USDT...\n",
      "Analyzing ABBV...\n",
      "Analyzing ABNB...\n",
      "Analyzing ABT...\n",
      "Analyzing ACE/USDT:USDT...\n",
      "Analyzing ACGL...\n",
      "Analyzing ACH/USDT:USDT...\n",
      "Analyzing ACN...\n",
      "Analyzing ACT/USDT:USDT...\n",
      "Analyzing ACX/USDT:USDT...\n",
      "Analyzing ADA/USDT:USDT...\n",
      "Analyzing ADBE...\n",
      "Analyzing ADI...\n",
      "Analyzing ADM...\n",
      "Analyzing ADP...\n",
      "Analyzing ADSK...\n",
      "Analyzing AEE...\n",
      "Analyzing AEP...\n",
      "Analyzing AERGO/USDT:USDT...\n",
      "Analyzing AERO/USDT:USDT...\n",
      "Analyzing AES...\n",
      "Analyzing AEVO/USDT:USDT...\n",
      "Analyzing AFL...\n",
      "Analyzing AGI/USDT:USDT...\n",
      "Analyzing AGLD/USDT:USDT...\n",
      "Analyzing AI/USDT:USDT...\n",
      "Analyzing AI16Z/USDT:USDT...\n",
      "Analyzing AIG...\n",
      "Analyzing AIOZ/USDT:USDT...\n",
      "Analyzing AIXBT/USDT:USDT...\n",
      "Analyzing AIZ...\n",
      "Analyzing AJG...\n",
      "Analyzing AKAM...\n",
      "Analyzing AKT/USDT:USDT...\n",
      "Analyzing ALB...\n",
      "Analyzing ALCH/USDT:USDT...\n",
      "Analyzing ALEO/USDT:USDT...\n",
      "Analyzing ALGN...\n",
      "Analyzing ALGO/USDT:USDT...\n",
      "Analyzing ALICE/USDT:USDT...\n",
      "Analyzing ALL...\n",
      "Analyzing ALLE...\n",
      "Analyzing ALPACA/USDT:USDT...\n",
      "Analyzing ALPHA/USDT:USDT...\n",
      "Analyzing ALT/USDT:USDT...\n",
      "Analyzing ALU/USDT:USDT...\n",
      "Analyzing AMAT...\n",
      "Analyzing AMCR...\n",
      "Analyzing AMD...\n",
      "Analyzing AME...\n",
      "Analyzing AMGN...\n",
      "Analyzing AMP...\n",
      "Analyzing AMT...\n",
      "Analyzing AMZN...\n",
      "Analyzing ANET...\n",
      "Analyzing ANIME/USDT:USDT...\n",
      "Analyzing ANKR/USDT:USDT...\n",
      "Analyzing ANSS...\n",
      "Analyzing AON...\n",
      "Analyzing AOS...\n",
      "Analyzing APA...\n",
      "Analyzing APD...\n",
      "Analyzing APE/USDT:USDT...\n",
      "Analyzing APH...\n",
      "Analyzing API3/USDT:USDT...\n",
      "Analyzing APO...\n",
      "Analyzing APT/USDT:USDT...\n",
      "Analyzing APTV...\n",
      "Analyzing AR/USDT:USDT...\n",
      "Analyzing ARB/USDT:USDT...\n",
      "Analyzing ARC/USDT:USDT...\n",
      "Analyzing ARE...\n",
      "Analyzing ARK/USDT:USDT...\n",
      "Analyzing ARKM/USDT:USDT...\n",
      "Analyzing ARPA/USDT:USDT...\n",
      "Analyzing ASTR/USDT:USDT...\n",
      "Analyzing ATA/USDT:USDT...\n",
      "Analyzing ATH/USDT:USDT...\n",
      "Analyzing ATO...\n",
      "Analyzing ATOM/USDT:USDT...\n",
      "Analyzing AUCTION/USDT:USDT...\n",
      "Analyzing AUDIO/USDT:USDT...\n",
      "Analyzing AVA/USDT:USDT...\n",
      "Analyzing AVAAI/USDT:USDT...\n",
      "Analyzing AVAIL/USDT:USDT...\n",
      "Analyzing AVAX/USDT:USDT...\n",
      "Analyzing AVB...\n",
      "Analyzing AVGO...\n",
      "Analyzing AVL/USDT:USDT...\n",
      "Analyzing AVY...\n",
      "Analyzing AWK...\n",
      "Analyzing AXL/USDT:USDT...\n",
      "Analyzing AXON...\n",
      "Analyzing AXP...\n",
      "Analyzing AXS/USDT:USDT...\n",
      "Analyzing AZO...\n",
      "Analyzing B3/USDT:USDT...\n",
      "Analyzing BA...\n",
      "Analyzing BAC...\n",
      "Analyzing BADGER/USDT:USDT...\n",
      "Analyzing BAKE/USDT:USDT...\n",
      "Analyzing BAL/USDT:USDT...\n",
      "Analyzing BALL...\n",
      "Analyzing BAN/USDT:USDT...\n",
      "Analyzing BANANA/USDT:USDT...\n",
      "Analyzing BAND/USDT:USDT...\n",
      "Analyzing BAT/USDT:USDT...\n",
      "Analyzing BAX...\n",
      "Analyzing BB/USDT:USDT...\n",
      "Analyzing BBY...\n",
      "Analyzing BCH/USDT:USDT...\n",
      "Analyzing BDX...\n",
      "Analyzing BEAM/USDT:USDT...\n",
      "Analyzing BEL/USDT:USDT...\n",
      "Analyzing BEN...\n",
      "Analyzing BERA/USDT:USDT...\n",
      "Analyzing BF.B...\n",
      "Error index -1 is out of bounds for axis 0 with size 0\n",
      "Analyzing BG...\n",
      "Analyzing BICO/USDT:USDT...\n",
      "Analyzing BIGTIME/USDT:USDT...\n",
      "Analyzing BIIB...\n",
      "Analyzing BIO/USDT:USDT...\n",
      "Analyzing BK...\n",
      "Analyzing BKNG...\n",
      "Analyzing BKR...\n",
      "Analyzing BLAST/USDT:USDT...\n",
      "Analyzing BLDR...\n",
      "Analyzing BLK...\n",
      "Analyzing BLUE/USDT:USDT...\n",
      "Analyzing BLUR/USDT:USDT...\n",
      "Analyzing BMY...\n",
      "Analyzing BNB/USDT:USDT...\n",
      "Analyzing BNT/USDT:USDT...\n",
      "Analyzing BNX/USDT:USDT...\n",
      "Analyzing BOBA/USDT:USDT...\n",
      "Analyzing BOME/USDT:USDT...\n",
      "Analyzing BR...\n",
      "Analyzing BRETT/USDT:USDT...\n",
      "Analyzing BRK.B...\n",
      "Error index -1 is out of bounds for axis 0 with size 0\n",
      "Analyzing BRO...\n",
      "Analyzing BROCCOLI/USDT:USDT...\n",
      "Analyzing BSV/USDT:USDT...\n",
      "Analyzing BSW/USDT:USDT...\n",
      "Analyzing BSX...\n",
      "Analyzing BTC/USDT:USDT...\n",
      "Analyzing BTC/USDT:USDT-250321...\n",
      "Analyzing BTC/USDT:USDT-250404...\n",
      "Analyzing BTC/USDT:USDT-250411...\n",
      "Analyzing BTC/USDT:USDT-250425...\n",
      "Analyzing BUZZ/USDT:USDT...\n",
      "Analyzing BWA...\n",
      "Analyzing BX...\n",
      "Analyzing BXP...\n",
      "Analyzing C...\n",
      "Analyzing C98/USDT:USDT...\n",
      "Analyzing CAG...\n",
      "Analyzing CAH...\n",
      "Analyzing CAKE/USDT:USDT...\n",
      "Analyzing CARR...\n",
      "Analyzing CARV/USDT:USDT...\n",
      "Analyzing CAT...\n",
      "Analyzing CATI/USDT:USDT...\n",
      "Analyzing CB...\n",
      "Analyzing CBOE...\n",
      "Analyzing CBRE...\n",
      "Analyzing CCI...\n",
      "Analyzing CCL...\n",
      "Analyzing CDNS...\n",
      "Analyzing CDW...\n",
      "Analyzing CE...\n",
      "Analyzing CEG...\n",
      "Analyzing CELO/USDT:USDT...\n",
      "Analyzing CELR/USDT:USDT...\n",
      "Analyzing CETUS/USDT:USDT...\n",
      "Analyzing CF...\n",
      "Analyzing CFG...\n",
      "Analyzing CFX/USDT:USDT...\n",
      "Analyzing CGPT/USDT:USDT...\n",
      "Analyzing CHD...\n",
      "Analyzing CHESS/USDT:USDT...\n",
      "Analyzing CHILLGUY/USDT:USDT...\n",
      "Analyzing CHR/USDT:USDT...\n",
      "Analyzing CHRW...\n",
      "Analyzing CHTR...\n",
      "Analyzing CHZ/USDT:USDT...\n",
      "Analyzing CI...\n",
      "Analyzing CINF...\n",
      "Analyzing CKB/USDT:USDT...\n",
      "Analyzing CL...\n",
      "Analyzing CLOUD/USDT:USDT...\n",
      "Analyzing CLX...\n",
      "Analyzing CMCSA...\n",
      "Analyzing CME...\n",
      "Analyzing CMG...\n",
      "Analyzing CMI...\n",
      "Analyzing CMS...\n",
      "Analyzing CNC...\n",
      "Analyzing CNP...\n",
      "Analyzing COF...\n",
      "Analyzing COMBO/USDT:USDT...\n",
      "Analyzing COMP/USDT:USDT...\n",
      "Analyzing COO...\n",
      "Analyzing COOK/USDT:USDT...\n",
      "Analyzing COOKIE/USDT:USDT...\n",
      "Analyzing COP...\n",
      "Analyzing COR...\n",
      "Analyzing CORE/USDT:USDT...\n",
      "Analyzing COS/USDT:USDT...\n",
      "Analyzing COST...\n",
      "Analyzing COTI/USDT:USDT...\n",
      "Analyzing COW/USDT:USDT...\n",
      "Analyzing CPAY...\n",
      "Analyzing CPB...\n",
      "Analyzing CPOOL/USDT:USDT...\n",
      "Analyzing CPRT...\n",
      "Analyzing CPT...\n",
      "Analyzing CRL...\n",
      "Analyzing CRM...\n",
      "Analyzing CRO/USDT:USDT...\n",
      "Analyzing CRV/USDT:USDT...\n",
      "Analyzing CRWD...\n",
      "Analyzing CSCO...\n",
      "Analyzing CSGP...\n",
      "Analyzing CSX...\n",
      "Analyzing CTAS...\n",
      "Analyzing CTC/USDT:USDT...\n",
      "Analyzing CTK/USDT:USDT...\n",
      "Analyzing CTRA...\n",
      "Analyzing CTSH...\n",
      "Analyzing CTSI/USDT:USDT...\n",
      "Analyzing CTVA...\n",
      "Analyzing CVC/USDT:USDT...\n",
      "Analyzing CVS...\n",
      "Analyzing CVX...\n",
      "Analyzing CVX/USDT:USDT...\n",
      "Analyzing CYBER/USDT:USDT...\n",
      "Analyzing CZR...\n",
      "Analyzing D...\n",
      "Analyzing DAL...\n",
      "Analyzing DASH/USDT:USDT...\n",
      "Analyzing DATA/USDT:USDT...\n",
      "Analyzing DAY...\n",
      "Analyzing DBR/USDT:USDT...\n",
      "Analyzing DD...\n",
      "Analyzing DE...\n",
      "Analyzing DECK...\n",
      "Analyzing DEEP/USDT:USDT...\n",
      "Analyzing DEGEN/USDT:USDT...\n",
      "Analyzing DELL...\n",
      "Analyzing DENT/USDT:USDT...\n",
      "Analyzing DEXE/USDT:USDT...\n",
      "Analyzing DFS...\n",
      "Analyzing DG...\n",
      "Analyzing DGB/USDT:USDT...\n",
      "Analyzing DGX...\n",
      "Analyzing DHI...\n",
      "Analyzing DHR...\n",
      "Analyzing DIS...\n",
      "Analyzing DLR...\n",
      "Analyzing DLTR...\n",
      "Analyzing DOC...\n",
      "Analyzing DODO/USDT:USDT...\n",
      "Analyzing DOG/USDT:USDT...\n",
      "Analyzing DOGE/USDT:USDT...\n",
      "Analyzing DOGS/USDT:USDT...\n",
      "Analyzing DOT/USDT:USDT...\n",
      "Analyzing DOV...\n",
      "Analyzing DOW...\n",
      "Analyzing DPZ...\n",
      "Analyzing DRI...\n",
      "Analyzing DRIFT/USDT:USDT...\n",
      "Analyzing DTE...\n",
      "Analyzing DUCK/USDT:USDT...\n",
      "Analyzing DUK...\n",
      "Analyzing DUSK/USDT:USDT...\n",
      "Analyzing DVA...\n",
      "Analyzing DVN...\n",
      "Analyzing DXCM...\n",
      "Analyzing DYDX/USDT:USDT...\n",
      "Analyzing DYM/USDT:USDT...\n",
      "Analyzing EA...\n",
      "Analyzing EBAY...\n",
      "Analyzing ECL...\n",
      "Analyzing ED...\n",
      "Analyzing EDU/USDT:USDT...\n",
      "Analyzing EFX...\n",
      "Analyzing EG...\n",
      "Analyzing EGLD/USDT:USDT...\n",
      "Analyzing EIGEN/USDT:USDT...\n",
      "Analyzing EIX...\n",
      "Analyzing EL...\n",
      "Analyzing ELV...\n",
      "Analyzing EMN...\n",
      "Analyzing EMR...\n",
      "Analyzing ENA/USDT:USDT...\n",
      "Analyzing ENJ/USDT:USDT...\n",
      "Analyzing ENPH...\n",
      "Analyzing ENS/USDT:USDT...\n",
      "Analyzing EOG...\n",
      "Analyzing EOS/USDT:USDT...\n",
      "Analyzing EPAM...\n",
      "Analyzing EQIX...\n",
      "Analyzing EQR...\n",
      "Analyzing EQT...\n",
      "Analyzing ERIE...\n",
      "Analyzing ES...\n",
      "Analyzing ESS...\n",
      "Analyzing ETC/USDT:USDT...\n",
      "Analyzing ETH/USDT:USDT...\n",
      "Analyzing ETH/USDT:USDT-250321...\n",
      "Analyzing ETH/USDT:USDT-250404...\n",
      "Analyzing ETH/USDT:USDT-250411...\n",
      "Analyzing ETH/USDT:USDT-250425...\n",
      "Analyzing ETHBTC/USDT:USDT...\n",
      "Analyzing ETHFI/USDT:USDT...\n",
      "Analyzing ETHW/USDT:USDT...\n",
      "Analyzing ETN...\n",
      "Analyzing ETR...\n",
      "Analyzing EVRG...\n",
      "Analyzing EW...\n",
      "Analyzing EXC...\n",
      "Analyzing EXPD...\n",
      "Analyzing EXPE...\n",
      "Analyzing EXR...\n",
      "Analyzing F...\n",
      "Analyzing F/USDT:USDT...\n",
      "Analyzing FANG...\n",
      "Analyzing FARTCOIN/USDT:USDT...\n",
      "Analyzing FAST...\n",
      "Analyzing FB/USDT:USDT...\n",
      "Analyzing FCX...\n",
      "Analyzing FDS...\n",
      "Analyzing FDX...\n",
      "Analyzing FE...\n",
      "Analyzing FFIV...\n",
      "Analyzing FI...\n",
      "Analyzing FICO...\n",
      "Analyzing FIDA/USDT:USDT...\n",
      "Analyzing FIL/USDT:USDT...\n",
      "Analyzing FIO/USDT:USDT...\n",
      "Analyzing FIRE/USDT:USDT...\n",
      "Analyzing FIS...\n",
      "Analyzing FITB...\n",
      "Analyzing FLM/USDT:USDT...\n",
      "Analyzing FLOCK/USDT:USDT...\n",
      "Analyzing FLOW/USDT:USDT...\n",
      "Analyzing FLR/USDT:USDT...\n",
      "Analyzing FLUX/USDT:USDT...\n",
      "Analyzing FMC...\n",
      "Analyzing FORTH/USDT:USDT...\n",
      "Analyzing FOX...\n",
      "Analyzing FOXA...\n",
      "Analyzing FOXY/USDT:USDT...\n",
      "Analyzing FRT...\n",
      "Analyzing FSLR...\n",
      "Analyzing FTN/USDT:USDT...\n",
      "Analyzing FTNT...\n",
      "Analyzing FTV...\n",
      "Analyzing FUEL/USDT:USDT...\n",
      "Analyzing FWOG/USDT:USDT...\n",
      "Analyzing FXS/USDT:USDT...\n",
      "Analyzing G/USDT:USDT...\n",
      "Analyzing GALA/USDT:USDT...\n",
      "Analyzing GAS/USDT:USDT...\n",
      "Analyzing GD...\n",
      "Analyzing GDDY...\n",
      "Analyzing GE...\n",
      "Analyzing GEHC...\n",
      "Analyzing GEMS/USDT:USDT...\n",
      "Analyzing GEN...\n",
      "Analyzing GEV...\n",
      "Analyzing GIGA/USDT:USDT...\n",
      "Analyzing GILD...\n",
      "Analyzing GIS...\n",
      "Analyzing GL...\n",
      "Analyzing GLM/USDT:USDT...\n",
      "Analyzing GLMR/USDT:USDT...\n",
      "Analyzing GLW...\n",
      "Analyzing GM...\n",
      "Analyzing GME/USDT:USDT...\n",
      "Analyzing GMT/USDT:USDT...\n",
      "Analyzing GMX/USDT:USDT...\n",
      "Analyzing GNO/USDT:USDT...\n",
      "Analyzing GNRC...\n",
      "Analyzing GOAT/USDT:USDT...\n",
      "Analyzing GODS/USDT:USDT...\n",
      "Analyzing GOMINING/USDT:USDT...\n",
      "Analyzing GOOG...\n",
      "Analyzing GOOGL...\n",
      "Analyzing GPC...\n",
      "Analyzing GPN...\n",
      "Analyzing GPS/USDT:USDT...\n",
      "Analyzing GRASS/USDT:USDT...\n",
      "Analyzing GRIFFAIN/USDT:USDT...\n",
      "Analyzing GRMN...\n",
      "Analyzing GRT/USDT:USDT...\n",
      "Analyzing GS...\n",
      "Analyzing GTC/USDT:USDT...\n",
      "Analyzing GWW...\n",
      "Analyzing HAL...\n",
      "Analyzing HAS...\n",
      "Analyzing HBAN...\n",
      "Analyzing HBAR/USDT:USDT...\n",
      "Analyzing HCA...\n",
      "Analyzing HD...\n",
      "Analyzing HEI/USDT:USDT...\n",
      "Analyzing HES...\n",
      "Analyzing HFT/USDT:USDT...\n",
      "Analyzing HIFI/USDT:USDT...\n",
      "Analyzing HIG...\n",
      "Analyzing HIGH/USDT:USDT...\n",
      "Analyzing HII...\n",
      "Analyzing HIPPO/USDT:USDT...\n",
      "Analyzing HIVE/USDT:USDT...\n",
      "Analyzing HLT...\n",
      "Analyzing HMSTR/USDT:USDT...\n",
      "Analyzing HNT/USDT:USDT...\n",
      "Analyzing HOLX...\n",
      "Analyzing HON...\n",
      "Analyzing HOOK/USDT:USDT...\n",
      "Analyzing HOT/USDT:USDT...\n",
      "Analyzing HPE...\n",
      "Analyzing HPOS10I/USDT:USDT...\n",
      "Analyzing HPQ...\n",
      "Analyzing HRL...\n",
      "Analyzing HSIC...\n",
      "Analyzing HST...\n",
      "Analyzing HSY...\n",
      "Analyzing HUBB...\n",
      "Analyzing HUM...\n",
      "Analyzing HWM...\n",
      "Analyzing HYPE/USDT:USDT...\n",
      "Analyzing IBM...\n",
      "Analyzing ICE...\n",
      "Analyzing ICP/USDT:USDT...\n",
      "Analyzing ICX/USDT:USDT...\n",
      "Analyzing ID/USDT:USDT...\n",
      "Analyzing IDEX/USDT:USDT...\n",
      "Analyzing IDXX...\n",
      "Analyzing IEX...\n",
      "Analyzing IFF...\n",
      "Analyzing ILV/USDT:USDT...\n",
      "Analyzing IMX/USDT:USDT...\n",
      "Analyzing INCY...\n",
      "Analyzing INJ/USDT:USDT...\n",
      "Analyzing INTC...\n",
      "Analyzing INTU...\n",
      "Analyzing INVH...\n",
      "Analyzing IO/USDT:USDT...\n",
      "Analyzing IOST/USDT:USDT...\n",
      "Analyzing IOTA/USDT:USDT...\n",
      "Analyzing IOTX/USDT:USDT...\n",
      "Analyzing IP...\n",
      "Analyzing IP/USDT:USDT...\n",
      "Analyzing IPG...\n",
      "Analyzing IQV...\n",
      "Analyzing IR...\n",
      "Analyzing IRM...\n",
      "Analyzing ISRG...\n",
      "Analyzing IT...\n",
      "Analyzing ITW...\n",
      "Analyzing IVZ...\n",
      "Analyzing J...\n",
      "Analyzing J/USDT:USDT...\n",
      "Analyzing JAILSTOOL/USDT:USDT...\n",
      "Analyzing JASMY/USDT:USDT...\n",
      "Analyzing JBHT...\n",
      "Analyzing JBL...\n",
      "Analyzing JCI...\n",
      "Analyzing JELLYJELLY/USDT:USDT...\n",
      "Analyzing JKHY...\n",
      "Analyzing JNJ...\n",
      "Analyzing JNPR...\n",
      "Analyzing JOE/USDT:USDT...\n",
      "Analyzing JPM...\n",
      "Analyzing JST/USDT:USDT...\n",
      "Analyzing JTO/USDT:USDT...\n",
      "Analyzing JUP/USDT:USDT...\n",
      "Analyzing K...\n",
      "Analyzing KAIA/USDT:USDT...\n",
      "Analyzing KAITO/USDT:USDT...\n",
      "Analyzing KAS/USDT:USDT...\n",
      "Analyzing KAVA/USDT:USDT...\n",
      "Analyzing KDA/USDT:USDT...\n",
      "Analyzing KDP...\n",
      "Analyzing KEY...\n",
      "Analyzing KEYS...\n",
      "Analyzing KHC...\n",
      "Analyzing KIM...\n",
      "Analyzing KKR...\n",
      "Analyzing KLAC...\n",
      "Analyzing KMB...\n",
      "Analyzing KMI...\n",
      "Analyzing KMNO/USDT:USDT...\n",
      "Analyzing KMX...\n",
      "Analyzing KNC/USDT:USDT...\n",
      "Analyzing KO...\n",
      "Analyzing KOMA/USDT:USDT...\n",
      "Analyzing KR...\n",
      "Analyzing KSM/USDT:USDT...\n",
      "Analyzing KVUE...\n",
      "Analyzing L...\n",
      "Analyzing L3/USDT:USDT...\n",
      "Analyzing LAI/USDT:USDT...\n",
      "Analyzing LDO/USDT:USDT...\n",
      "Analyzing LDOS...\n",
      "Analyzing LEN...\n",
      "Analyzing LEVER/USDT:USDT...\n",
      "Analyzing LH...\n",
      "Analyzing LHX...\n",
      "Analyzing LII...\n",
      "Analyzing LIN...\n",
      "Analyzing LINA/USDT:USDT...\n",
      "Analyzing LINK/USDT:USDT...\n",
      "Analyzing LISTA/USDT:USDT...\n",
      "Analyzing LKQ...\n",
      "Analyzing LLY...\n",
      "Analyzing LMT...\n",
      "Analyzing LNT...\n",
      "Analyzing LOOKS/USDT:USDT...\n",
      "Analyzing LOW...\n",
      "Analyzing LPT/USDT:USDT...\n",
      "Analyzing LQTY/USDT:USDT...\n",
      "Analyzing LRC/USDT:USDT...\n",
      "Analyzing LRCX...\n",
      "Analyzing LSK/USDT:USDT...\n",
      "Analyzing LTC/USDT:USDT...\n",
      "Analyzing LUCE/USDT:USDT...\n",
      "Analyzing LULU...\n",
      "Analyzing LUMIA/USDT:USDT...\n",
      "Analyzing LUNA2/USDT:USDT...\n",
      "Analyzing LUV...\n",
      "Analyzing LVS...\n",
      "Analyzing LW...\n",
      "Analyzing LYB...\n",
      "Analyzing LYV...\n",
      "Analyzing MA...\n",
      "Analyzing MAA...\n",
      "Analyzing MAGIC/USDT:USDT...\n",
      "Analyzing MAJOR/USDT:USDT...\n",
      "Analyzing MANA/USDT:USDT...\n",
      "Analyzing MANEKI/USDT:USDT...\n",
      "Analyzing MANTA/USDT:USDT...\n",
      "Analyzing MAR...\n",
      "Analyzing MAS...\n",
      "Analyzing MASA/USDT:USDT...\n",
      "Analyzing MASK/USDT:USDT...\n",
      "Analyzing MAV/USDT:USDT...\n",
      "Analyzing MAVIA/USDT:USDT...\n",
      "Analyzing MAX/USDT:USDT...\n",
      "Analyzing MBL/USDT:USDT...\n",
      "Analyzing MBOX/USDT:USDT...\n",
      "Analyzing MCD...\n",
      "Analyzing MCHP...\n",
      "Analyzing MCK...\n",
      "Analyzing MCO...\n",
      "Analyzing MDLZ...\n",
      "Analyzing MDT...\n",
      "Analyzing MDT/USDT:USDT...\n",
      "Analyzing ME/USDT:USDT...\n",
      "Analyzing MELANIA/USDT:USDT...\n",
      "Analyzing MEME/USDT:USDT...\n",
      "Analyzing MEMEFI/USDT:USDT...\n",
      "Analyzing MERL/USDT:USDT...\n",
      "Analyzing MET...\n",
      "Analyzing META...\n",
      "Analyzing METIS/USDT:USDT...\n",
      "Analyzing MEW/USDT:USDT...\n",
      "Analyzing MGM...\n",
      "Analyzing MHK...\n",
      "Analyzing MICHI/USDT:USDT...\n",
      "Analyzing MINA/USDT:USDT...\n",
      "Analyzing MKC...\n",
      "Analyzing MKR/USDT:USDT...\n",
      "Analyzing MKTX...\n",
      "Analyzing MLM...\n",
      "Analyzing MMC...\n",
      "Analyzing MMM...\n",
      "Analyzing MNST...\n",
      "Analyzing MNT/USDT:USDT...\n",
      "Analyzing MO...\n",
      "Analyzing MOBILE/USDT:USDT...\n",
      "Analyzing MOCA/USDT:USDT...\n",
      "Analyzing MOH...\n",
      "Analyzing MOODENG/USDT:USDT...\n",
      "Analyzing MORPHO/USDT:USDT...\n",
      "Analyzing MOS...\n",
      "Analyzing MOTHER/USDT:USDT...\n",
      "Analyzing MOVE/USDT:USDT...\n",
      "Analyzing MOVR/USDT:USDT...\n",
      "Analyzing MPC...\n",
      "Analyzing MPWR...\n",
      "Analyzing MRK...\n",
      "Analyzing MRNA...\n",
      "Analyzing MS...\n",
      "Analyzing MSCI...\n",
      "Analyzing MSFT...\n",
      "Analyzing MSI...\n",
      "Analyzing MTB...\n",
      "Analyzing MTCH...\n",
      "Analyzing MTD...\n",
      "Analyzing MTL/USDT:USDT...\n",
      "Analyzing MU...\n",
      "Analyzing MVL/USDT:USDT...\n",
      "Analyzing MYRIA/USDT:USDT...\n",
      "Analyzing MYRO/USDT:USDT...\n",
      "Analyzing NC/USDT:USDT...\n",
      "Analyzing NCLH...\n",
      "Analyzing NDAQ...\n",
      "Analyzing NDSN...\n",
      "Analyzing NEAR/USDT:USDT...\n",
      "Analyzing NEE...\n",
      "Analyzing NEIROETH/USDT:USDT...\n",
      "Analyzing NEM...\n",
      "Analyzing NEO/USDT:USDT...\n",
      "Analyzing NFLX...\n",
      "Analyzing NFP/USDT:USDT...\n",
      "Analyzing NI...\n",
      "Analyzing NKE...\n",
      "Analyzing NKN/USDT:USDT...\n",
      "Analyzing NMR/USDT:USDT...\n",
      "Analyzing NOC...\n",
      "Analyzing NOT/USDT:USDT...\n",
      "Analyzing NOW...\n",
      "Analyzing NRG...\n",
      "Analyzing NS/USDT:USDT...\n",
      "Analyzing NSC...\n",
      "Analyzing NTAP...\n",
      "Analyzing NTRN/USDT:USDT...\n",
      "Analyzing NTRS...\n",
      "Analyzing NUE...\n",
      "Analyzing NULS/USDT:USDT...\n",
      "Analyzing NVDA...\n",
      "Analyzing NVR...\n",
      "Analyzing NWS...\n",
      "Analyzing NWSA...\n",
      "Analyzing NXPI...\n",
      "Analyzing O...\n",
      "Analyzing ODFL...\n",
      "Analyzing OG/USDT:USDT...\n",
      "Analyzing OGN/USDT:USDT...\n",
      "Analyzing OKE...\n",
      "Analyzing OL/USDT:USDT...\n",
      "Analyzing OM/USDT:USDT...\n",
      "Analyzing OMC...\n",
      "Analyzing OMG/USDT:USDT...\n",
      "Analyzing OMNI/USDT:USDT...\n",
      "Analyzing ON...\n",
      "Analyzing ONDO/USDT:USDT...\n",
      "Analyzing ONE/USDT:USDT...\n",
      "Analyzing ONG/USDT:USDT...\n",
      "Analyzing ONT/USDT:USDT...\n",
      "Analyzing OP/USDT:USDT...\n",
      "Analyzing ORBS/USDT:USDT...\n",
      "Analyzing ORCA/USDT:USDT...\n",
      "Analyzing ORCL...\n",
      "Analyzing ORDER/USDT:USDT...\n",
      "Analyzing ORDI/USDT:USDT...\n",
      "Analyzing ORLY...\n",
      "Analyzing OSMO/USDT:USDT...\n",
      "Analyzing OTIS...\n",
      "Analyzing OXT/USDT:USDT...\n",
      "Analyzing OXY...\n",
      "Analyzing PANW...\n",
      "Analyzing PARA...\n",
      "Analyzing PAXG/USDT:USDT...\n",
      "Analyzing PAYC...\n",
      "Analyzing PAYX...\n",
      "Analyzing PCAR...\n",
      "Analyzing PCG...\n",
      "Analyzing PEAQ/USDT:USDT...\n",
      "Analyzing PEG...\n",
      "Analyzing PENDLE/USDT:USDT...\n",
      "Analyzing PENGU/USDT:USDT...\n",
      "Analyzing PEOPLE/USDT:USDT...\n",
      "Analyzing PEP...\n",
      "Analyzing PERP/USDT:USDT...\n",
      "Analyzing PFE...\n",
      "Analyzing PFG...\n",
      "Analyzing PG...\n",
      "Analyzing PGR...\n",
      "Analyzing PH...\n",
      "Analyzing PHA/USDT:USDT...\n",
      "Analyzing PHB/USDT:USDT...\n",
      "Analyzing PHM...\n",
      "Analyzing PIPPIN/USDT:USDT...\n",
      "Analyzing PIRATE/USDT:USDT...\n",
      "Analyzing PIXEL/USDT:USDT...\n",
      "Analyzing PKG...\n",
      "Analyzing PLD...\n",
      "Analyzing PLTR...\n",
      "Analyzing PLUME/USDT:USDT...\n",
      "Analyzing PM...\n",
      "Analyzing PNC...\n",
      "Analyzing PNR...\n",
      "Analyzing PNUT/USDT:USDT...\n",
      "Analyzing PNW...\n",
      "Analyzing PODD...\n",
      "Analyzing POL/USDT:USDT...\n",
      "Analyzing POLYX/USDT:USDT...\n",
      "Analyzing PONKE/USDT:USDT...\n",
      "Analyzing POOL...\n",
      "Analyzing POPCAT/USDT:USDT...\n",
      "Analyzing PORTAL/USDT:USDT...\n",
      "Analyzing POWR/USDT:USDT...\n",
      "Analyzing PPG...\n",
      "Analyzing PPL...\n",
      "Analyzing PRCL/USDT:USDT...\n",
      "Analyzing PRIME/USDT:USDT...\n",
      "Analyzing PROM/USDT:USDT...\n",
      "Analyzing PROS/USDT:USDT...\n",
      "Analyzing PRU...\n",
      "Analyzing PSA...\n",
      "Analyzing PSX...\n",
      "Analyzing PTC...\n",
      "Analyzing PUFFER/USDT:USDT...\n",
      "Analyzing PWR...\n",
      "Analyzing PYPL...\n",
      "Analyzing PYR/USDT:USDT...\n",
      "Analyzing PYTH/USDT:USDT...\n",
      "Analyzing QCOM...\n",
      "Analyzing QI/USDT:USDT...\n",
      "Analyzing QNT/USDT:USDT...\n",
      "Analyzing QTUM/USDT:USDT...\n",
      "Analyzing QUICK/USDT:USDT...\n",
      "Analyzing RAD/USDT:USDT...\n",
      "Analyzing RARE/USDT:USDT...\n",
      "Analyzing RAYDIUM/USDT:USDT...\n",
      "Analyzing RCL...\n",
      "Analyzing RDNT/USDT:USDT...\n",
      "Analyzing RED/USDT:USDT...\n",
      "Analyzing REG...\n",
      "Analyzing REGN...\n",
      "Analyzing RENDER/USDT:USDT...\n",
      "Analyzing REQ/USDT:USDT...\n",
      "Analyzing REX/USDT:USDT...\n",
      "Analyzing REZ/USDT:USDT...\n",
      "Analyzing RF...\n",
      "Analyzing RIF/USDT:USDT...\n",
      "Analyzing RIFSOL/USDT:USDT...\n",
      "Analyzing RJF...\n",
      "Analyzing RL...\n",
      "Analyzing RLC/USDT:USDT...\n",
      "Analyzing RMD...\n",
      "Analyzing ROK...\n",
      "Analyzing ROL...\n",
      "Analyzing RONIN/USDT:USDT...\n",
      "Analyzing ROP...\n",
      "Analyzing ROSE/USDT:USDT...\n",
      "Analyzing ROST...\n",
      "Analyzing RPL/USDT:USDT...\n",
      "Analyzing RSG...\n",
      "Analyzing RSR/USDT:USDT...\n",
      "Analyzing RSS3/USDT:USDT...\n",
      "Analyzing RTX...\n",
      "Analyzing RUNE/USDT:USDT...\n",
      "Analyzing RVN/USDT:USDT...\n",
      "Analyzing RVTY...\n",
      "Analyzing S/USDT:USDT...\n",
      "Analyzing SAFE/USDT:USDT...\n",
      "Analyzing SAGA/USDT:USDT...\n",
      "Analyzing SAND/USDT:USDT...\n",
      "Analyzing SBAC...\n",
      "Analyzing SBUX...\n",
      "Analyzing SC/USDT:USDT...\n",
      "Analyzing SCA/USDT:USDT...\n",
      "Analyzing SCHW...\n",
      "Analyzing SCR/USDT:USDT...\n",
      "Analyzing SCRT/USDT:USDT...\n",
      "Analyzing SD/USDT:USDT...\n",
      "Analyzing SEI/USDT:USDT...\n",
      "Analyzing SEND/USDT:USDT...\n",
      "Analyzing SFP/USDT:USDT...\n",
      "Analyzing SHELL/USDT:USDT...\n",
      "Analyzing SHIB1000/USDT:USDT...\n",
      "Analyzing SHW...\n",
      "Analyzing SJM...\n",
      "Analyzing SKL/USDT:USDT...\n",
      "Analyzing SLB...\n",
      "Analyzing SLERF/USDT:USDT...\n",
      "Analyzing SLF/USDT:USDT...\n",
      "Analyzing SLP/USDT:USDT...\n",
      "Analyzing SMCI...\n",
      "Analyzing SNA...\n",
      "Analyzing SNPS...\n",
      "Analyzing SNT/USDT:USDT...\n",
      "Analyzing SNX/USDT:USDT...\n",
      "Analyzing SO...\n",
      "Analyzing SOL/USDT:USDT...\n",
      "Analyzing SOL/USDT:USDT-250321...\n",
      "Analyzing SOL/USDT:USDT-250404...\n",
      "Analyzing SOL/USDT:USDT-250411...\n",
      "Analyzing SOLAYER/USDT:USDT...\n",
      "Analyzing SOLO/USDT:USDT...\n",
      "Analyzing SOLV...\n",
      "Analyzing SOLV/USDT:USDT...\n",
      "Analyzing SONIC/USDT:USDT...\n",
      "Analyzing SPEC/USDT:USDT...\n",
      "Analyzing SPELL/USDT:USDT...\n",
      "Analyzing SPG...\n",
      "Analyzing SPGI...\n",
      "Analyzing SPX/USDT:USDT...\n",
      "Analyzing SRE...\n",
      "Analyzing SSV/USDT:USDT...\n",
      "Analyzing STE...\n",
      "Analyzing STEEM/USDT:USDT...\n",
      "Analyzing STG/USDT:USDT...\n",
      "Analyzing STLD...\n",
      "Analyzing STORJ/USDT:USDT...\n",
      "Analyzing STPT/USDT:USDT...\n",
      "Analyzing STRK/USDT:USDT...\n",
      "Analyzing STT...\n",
      "Analyzing STX...\n",
      "Analyzing STX/USDT:USDT...\n",
      "Analyzing STZ...\n",
      "Analyzing SUI/USDT:USDT...\n",
      "Analyzing SUN/USDT:USDT...\n",
      "Analyzing SUNDOG/USDT:USDT...\n",
      "Analyzing SUPER/USDT:USDT...\n",
      "Analyzing SUSHI/USDT:USDT...\n",
      "Analyzing SW...\n",
      "Analyzing SWARMS/USDT:USDT...\n",
      "Analyzing SWEAT/USDT:USDT...\n",
      "Analyzing SWELL/USDT:USDT...\n",
      "Analyzing SWK...\n",
      "Analyzing SWKS...\n",
      "Analyzing SXP/USDT:USDT...\n",
      "Analyzing SYF...\n",
      "Analyzing SYK...\n",
      "Analyzing SYN/USDT:USDT...\n",
      "Analyzing SYS/USDT:USDT...\n",
      "Analyzing SYY...\n",
      "Analyzing T...\n",
      "Analyzing T/USDT:USDT...\n",
      "Analyzing TAI/USDT:USDT...\n",
      "Analyzing TAIKO/USDT:USDT...\n",
      "Analyzing TAO/USDT:USDT...\n",
      "Analyzing TAP...\n",
      "Analyzing TDG...\n",
      "Analyzing TDY...\n",
      "Analyzing TECH...\n",
      "Analyzing TEL...\n",
      "Analyzing TER...\n",
      "Analyzing TFC...\n",
      "Analyzing TFX...\n",
      "Analyzing TGT...\n",
      "Analyzing THE/USDT:USDT...\n",
      "Analyzing THETA/USDT:USDT...\n",
      "Analyzing TIA/USDT:USDT...\n",
      "Analyzing TJX...\n",
      "Analyzing TLM/USDT:USDT...\n",
      "Analyzing TMO...\n",
      "Analyzing TMUS...\n",
      "Analyzing TNSR/USDT:USDT...\n",
      "Analyzing TOKEN/USDT:USDT...\n",
      "Analyzing TON/USDT:USDT...\n",
      "Analyzing TPL...\n",
      "Analyzing TPR...\n",
      "Analyzing TRB/USDT:USDT...\n",
      "Analyzing TRGP...\n",
      "Analyzing TRMB...\n",
      "Analyzing TROW...\n",
      "Analyzing TROY/USDT:USDT...\n",
      "Analyzing TRU/USDT:USDT...\n",
      "Analyzing TRUMP/USDT:USDT...\n",
      "Analyzing TRV...\n",
      "Analyzing TRX/USDT:USDT...\n",
      "Analyzing TSCO...\n",
      "Analyzing TSLA...\n",
      "Analyzing TSN...\n",
      "Analyzing TSTBSC/USDT:USDT...\n",
      "Analyzing TT...\n",
      "Analyzing TTWO...\n",
      "Analyzing TWT/USDT:USDT...\n",
      "Analyzing TXN...\n",
      "Analyzing TXT...\n",
      "Analyzing TYL...\n",
      "Analyzing UAL...\n",
      "Analyzing UBER...\n",
      "Analyzing UDR...\n",
      "Analyzing UHS...\n",
      "Analyzing ULTA...\n",
      "Analyzing UMA/USDT:USDT...\n",
      "Analyzing UNH...\n",
      "Analyzing UNI/USDT:USDT...\n",
      "Analyzing UNP...\n",
      "Analyzing UPS...\n",
      "Analyzing URI...\n",
      "Analyzing USB...\n",
      "Analyzing USDC/USDT:USDT...\n",
      "Analyzing USDE/USDT:USDT...\n",
      "Analyzing USTC/USDT:USDT...\n",
      "Analyzing USUAL/USDT:USDT...\n",
      "Analyzing UXLINK/USDT:USDT...\n",
      "Analyzing V...\n",
      "Analyzing VANA/USDT:USDT...\n",
      "Analyzing VANRY/USDT:USDT...\n",
      "Analyzing VELO/USDT:USDT...\n",
      "Analyzing VELODROME/USDT:USDT...\n",
      "Analyzing VET/USDT:USDT...\n",
      "Analyzing VICI...\n",
      "Analyzing VIDT/USDT:USDT...\n",
      "Analyzing VINE/USDT:USDT...\n",
      "Analyzing VIRTUAL/USDT:USDT...\n",
      "Analyzing VLO...\n",
      "Analyzing VLTO...\n",
      "Analyzing VMC...\n",
      "Analyzing VOXEL/USDT:USDT...\n",
      "Analyzing VR/USDT:USDT...\n",
      "Analyzing VRA/USDT:USDT...\n",
      "Analyzing VRSK...\n",
      "Analyzing VRSN...\n",
      "Analyzing VRTX...\n",
      "Analyzing VST...\n",
      "Analyzing VTHO/USDT:USDT...\n",
      "Analyzing VTR...\n",
      "Analyzing VTRS...\n",
      "Analyzing VVV/USDT:USDT...\n",
      "Analyzing VZ...\n",
      "Analyzing W/USDT:USDT...\n",
      "Analyzing WAB...\n",
      "Analyzing WAT...\n",
      "Analyzing WAVES/USDT:USDT...\n",
      "Analyzing WAXP/USDT:USDT...\n",
      "Analyzing WBA...\n",
      "Analyzing WBD...\n",
      "Analyzing WDAY...\n",
      "Analyzing WDC...\n",
      "Analyzing WEC...\n",
      "Analyzing WELL...\n",
      "Analyzing WFC...\n",
      "Analyzing WIF/USDT:USDT...\n",
      "Analyzing WLD/USDT:USDT...\n",
      "Analyzing WM...\n",
      "Analyzing WMB...\n",
      "Analyzing WMT...\n",
      "Analyzing WOO/USDT:USDT...\n",
      "Analyzing WRB...\n",
      "Analyzing WST...\n",
      "Analyzing WTW...\n",
      "Analyzing WY...\n",
      "Analyzing WYNN...\n",
      "Analyzing XAI/USDT:USDT...\n",
      "Analyzing XCH/USDT:USDT...\n",
      "Analyzing XCN/USDT:USDT...\n",
      "Analyzing XDC/USDT:USDT...\n",
      "Analyzing XEL...\n",
      "Analyzing XEM/USDT:USDT...\n",
      "Analyzing XION/USDT:USDT...\n",
      "Analyzing XLM/USDT:USDT...\n",
      "Analyzing XMR/USDT:USDT...\n",
      "Analyzing XNO/USDT:USDT...\n",
      "Analyzing XOM...\n",
      "Analyzing XRD/USDT:USDT...\n",
      "Analyzing XRP/USDT:USDT...\n",
      "Analyzing XTER/USDT:USDT...\n",
      "Analyzing XTZ/USDT:USDT...\n",
      "Analyzing XVG/USDT:USDT...\n",
      "Analyzing XVS/USDT:USDT...\n",
      "Analyzing XYL...\n",
      "Analyzing YFI/USDT:USDT...\n",
      "Analyzing YGG/USDT:USDT...\n",
      "Analyzing YUM...\n",
      "Analyzing ZBCN/USDT:USDT...\n",
      "Analyzing ZBH...\n",
      "Analyzing ZBRA...\n",
      "Analyzing ZEC/USDT:USDT...\n",
      "Analyzing ZEN/USDT:USDT...\n",
      "Analyzing ZENT/USDT:USDT...\n",
      "Analyzing ZEREBRO/USDT:USDT...\n",
      "Analyzing ZETA/USDT:USDT...\n",
      "Analyzing ZEUS/USDT:USDT...\n",
      "Analyzing ZIL/USDT:USDT...\n",
      "Analyzing ZK/USDT:USDT...\n",
      "Analyzing ZKJ/USDT:USDT...\n",
      "Analyzing ZRC/USDT:USDT...\n",
      "Analyzing ZRO/USDT:USDT...\n",
      "Analyzing ZRX/USDT:USDT...\n",
      "Analyzing ZTS...\n",
      "\n",
      "Equities Results:\n",
      "--------------------\n",
      "Long: ['ADM', 'AOS', 'BG', 'DHR', 'EL', 'FMC', 'HAS', 'POOL', 'REGN', 'STZ']\n",
      "Short: ['BSX', 'CBRE', 'CMG', 'EQIX', 'EQT', 'HLT', 'KMI', 'NFLX', 'PODD']\n",
      "\n",
      "Crypto Results:\n",
      "--------------------\n",
      "Long: ['REZ/USDT:USDT']\n",
      "Short: ['COOK/USDT:USDT', 'L3/USDT:USDT']\n"
     ]
    }
   ],
   "source": [
    "# Main loop test\n",
    "\n",
    "long_tickers = []\n",
    "short_tickers = []\n",
    "\n",
    "crypto_data = crypto_data.download_crypto_ohlc_data(periods=30)  \n",
    "equities_data = equities_data.download_equities_ohlc_data(period=\"1mo\")  \n",
    "\n",
    "# Combine the data\n",
    "combined_data = combine_market_data(\n",
    "    crypto_df=crypto_data,\n",
    "    equities_df=equities_data\n",
    ")\n",
    "\n",
    "print(f\"Analyzing {len(combined_data.columns.levels[0])} symbols\")\n",
    "\n",
    "\n",
    "for ticker in combined_data.columns.levels[0]:\n",
    "\n",
    "    ticker_data = combined_data[ticker].dropna(subset=['Close'])\n",
    "\n",
    "    print(f\"Analyzing {ticker}...\")\n",
    "\n",
    "    s_tl, r_tl, signals, ema, r_slopes, s_slopes = trendline_breakout_hl(ticker_data, 7)\n",
    "    \n",
    "    try:\n",
    "        if signals[-1] == 1:\n",
    "            long_tickers.append(ticker)\n",
    "        elif signals[-1] == -1:\n",
    "            short_tickers.append(ticker)\n",
    "    except Exception as e:\n",
    "        print(f'Error {e}')\n",
    "\n",
    "def categorize_tickers(long_tickers, short_tickers):\n",
    "    # Initialize categorized lists\n",
    "    categorized = {\n",
    "        'crypto': {\n",
    "            'long': [],\n",
    "            'short': []\n",
    "        },\n",
    "        'equities': {\n",
    "            'long': [],\n",
    "            'short': []\n",
    "        }\n",
    "    }\n",
    "    \n",
    "    # Categorize long tickers\n",
    "    for ticker in long_tickers:\n",
    "        if '/USDT:USDT' in ticker:\n",
    "            categorized['crypto']['long'].append(ticker)\n",
    "        else:\n",
    "            categorized['equities']['long'].append(ticker)\n",
    "    \n",
    "    # Categorize short tickers\n",
    "    for ticker in short_tickers:\n",
    "        if '/USDT:USDT' in ticker:\n",
    "            categorized['crypto']['short'].append(ticker)\n",
    "        else:\n",
    "            categorized['equities']['short'].append(ticker)\n",
    "    \n",
    "    return categorized\n",
    "\n",
    "def print_categorized_results(categorized_tickers):\n",
    "    \"\"\"\n",
    "    Prints the categorized results in a formatted way.\n",
    "    \n",
    "    Parameters:\n",
    "    -----------\n",
    "    categorized_tickers : dict\n",
    "        Dictionary containing categorized lists of tickers\n",
    "    \"\"\"\n",
    "    print(\"\\nEquities Results:\")\n",
    "    print(\"-\" * 20)\n",
    "    print(f\"Long: {sorted(categorized_tickers['equities']['long'])}\")\n",
    "    print(f\"Short: {sorted(categorized_tickers['equities']['short'])}\")\n",
    "    \n",
    "    print(\"\\nCrypto Results:\")\n",
    "    print(\"-\" * 20)\n",
    "    print(f\"Long: {sorted(categorized_tickers['crypto']['long'])}\")\n",
    "    print(f\"Short: {sorted(categorized_tickers['crypto']['short'])}\")\n",
    "\n",
    "# Categorize the tickers\n",
    "categorized_results = categorize_tickers(long_tickers, short_tickers)\n",
    "\n",
    "# Print the results\n",
    "print_categorized_results(categorized_results)"
   ]
  },
  {
   "cell_type": "code",
   "execution_count": 5,
   "metadata": {},
   "outputs": [
    {
     "data": {
      "application/vnd.plotly.v1+json": {
       "config": {
        "plotlyServerURL": "https://plot.ly"
       },
       "data": [
        {
         "close": {
          "bdata": "54wo7Q2+kD8MHxFTIomOP9F0djI4So4/wf9WsmMjkD8mAWpq2VqPPx04Z0Rpb5A/dnEbDeAtkD8z4Zf6eVORP5OMnIU97ZA/wYu+gjRjkT+kcD0K16OQP36pnzcVqZA/41MAjGfQkD/rVs9J7xuPP7VU3o5wWpA/uRluwOeHkT+GG/D5YYSQP1Q1QdR9AJI/DRr6J7hYkT+SPxh47j2MP6yowTQMH5E/rhIsDmd+lT+693DJcaeUPwLZ690f75U/10y+2ebGlD+p2QOtwJCVP4ts5/up8ZI/evzepj/7kT+Zu5aQD3qWPxkEVg4tsp0/AAAAAAAA+H8AAAAAAAD4fwAAAAAAAPh/AAAAAAAA+H8AAAAAAAD4fwAAAAAAAPh/AAAAAAAA+H8AAAAAAAD4fwAAAAAAAPh/AAAAAAAA+H8AAAAAAAD4fwAAAAAAAPh/AAAAAAAA+H8AAAAAAAD4fwAAAAAAAPh/AAAAAAAA+H8AAAAAAAD4fwAAAAAAAPh/AAAAAAAA+H8=",
          "dtype": "f8"
         },
         "decreasing": {
          "line": {
           "color": "#EF5350"
          }
         },
         "high": {
          "bdata": "/DVZox6ikT9pjNZR1QSRP3L+JhQi4JA/2ht8YTJVkD83VIzzN6GQP8X+snvysJA/ZRniWBe3kT96/N6mP/uRP2HgufdwyZE/WW5pNSTukT/Bi76CNGORP9/gC5OpgpE/RIts5/upkT/fGtgqweKQP2nGounsZJA/P1JEhlW8kT83pics8YCSP/jCZKpgVJI/O99PjZdukj9QNuUK73KRPyv7rgj+t5I/F7zoK0gzlj9f7/54r1qZP0GC4seYu5Y//Z/DfHkBlj8b9RCN7iCWPzRLAtTUspU/XTP5Zpsbkz+AfXTqymeZP5fK2xFOC54/AAAAAAAA+H8AAAAAAAD4fwAAAAAAAPh/AAAAAAAA+H8AAAAAAAD4fwAAAAAAAPh/AAAAAAAA+H8AAAAAAAD4fwAAAAAAAPh/AAAAAAAA+H8AAAAAAAD4fwAAAAAAAPh/AAAAAAAA+H8AAAAAAAD4fwAAAAAAAPh/AAAAAAAA+H8AAAAAAAD4fwAAAAAAAPh/AAAAAAAA+H8=",
          "dtype": "f8"
         },
         "increasing": {
          "line": {
           "color": "#26A69A"
          }
         },
         "low": {
          "bdata": "Q/8EFytqkD/a5sb0hCWOP0uwOJz51Yw/eXWOAdnrjT9Pr5RliGONP3l1jgHZ640/HY8ZqIx/jz8MHxFTIomOPwQcQpWaPZA/VKnZA63AkD8dOGdEaW+QP5PGaB1VTZA/wf9WsmMjkD9Pr5RliGONP+ZXc4Bgjo4/bf/KSpNSkD8q499nXDiQPyJxj6UPXZA/0m9fB84ZkT/yJOmayTeLPz6zJEBNLYs/UHCxogbTkD+h20sao3WUP3/7OnDOiJI/8Nx7uOS4kz9uowG8BRKUPwltOZfiqpI/68VQTrSrkD9d4V0u4juRP7r3cMlxp5Q/AAAAAAAA+H8AAAAAAAD4fwAAAAAAAPh/AAAAAAAA+H8AAAAAAAD4fwAAAAAAAPh/AAAAAAAA+H8AAAAAAAD4fwAAAAAAAPh/AAAAAAAA+H8AAAAAAAD4fwAAAAAAAPh/AAAAAAAA+H8AAAAAAAD4fwAAAAAAAPh/AAAAAAAA+H8AAAAAAAD4fwAAAAAAAPh/AAAAAAAA+H8=",
          "dtype": "f8"
         },
         "name": "Price",
         "open": {
          "bdata": "zjY3picskT/njCjtDb6QPwwfEVMiiY4/0XR2MjhKjj/B/1ayYyOQPyYBamrZWo8/HThnRGlvkD92cRsN4C2QPzPhl/p5U5E/k4ychT3tkD/Bi76CNGORP6RwPQrXo5A/fqmfNxWpkD/jUwCMZ9CQP+tWz0nvG48/tVTejnBakD+5GW7A54eRP4Yb8PlhhJA/VDVB1H0Akj8NGvonuFiRP5I/GHjuPYw/rKjBNAwfkT+uEiwOZ36VP7r3cMlxp5Q/Atnr3R/vlT/XTL7Z5saUP6nZA63AkJU/i2zn+6nxkj96/N6mP/uRP5m7lpAPepY/AAAAAAAA+H8AAAAAAAD4fwAAAAAAAPh/AAAAAAAA+H8AAAAAAAD4fwAAAAAAAPh/AAAAAAAA+H8AAAAAAAD4fwAAAAAAAPh/AAAAAAAA+H8AAAAAAAD4fwAAAAAAAPh/AAAAAAAA+H8AAAAAAAD4fwAAAAAAAPh/AAAAAAAA+H8AAAAAAAD4fwAAAAAAAPh/AAAAAAAA+H8=",
          "dtype": "f8"
         },
         "type": "candlestick",
         "x": {
          "bdata": "AAECAwQFBgcICQoLDA0ODxAREhMUFRYXGBkaGxwdHh8gISIjJCUmJygpKissLS4vMA==",
          "dtype": "i1"
         },
         "xaxis": "x",
         "yaxis": "y"
        },
        {
         "line": {
          "color": "white",
          "dash": "dot",
          "width": 1
         },
         "mode": "lines",
         "name": "Support",
         "showlegend": true,
         "type": "scatter",
         "x": {
          "bdata": "AAECAwQFBgcICQoLDA0ODxAREhMUFRYXGBkaGxwdHh8gISIjJCUmJygpKissLS4vMA==",
          "dtype": "i1"
         },
         "xaxis": "x",
         "y": {
          "bdata": "AAAAAAAA+H8AAAAAAAD4fwAAAAAAAPh/AAAAAAAA+H8AAAAAAAD4fwAAAAAAAPh/AAAAAAAA+H/wCOwtpEGNP5UFkQhMJY8/YLdJx9m1jz820WkaVQiQPwlJJboqD5A/A3SYLy/Ajj8rdF5jl6iOP5skXTP5Zos/4sBqquqkjD/gNew4AB+NP/044zgxpo0/1OhTitxRjz+X80tC5R6QP8BJllIVFos/Kridefiwij8wQ2ETWH6MP4LQParfSI8/YCbLy55FkT+qqaqT8tiSPxuL69sICZQ/ksrbEU4Ljj9xtHHEWnyKP6bSkHOfXZA/VlhsUk/ikj8AAAAAAAD4fwAAAAAAAPh/AAAAAAAA+H8AAAAAAAD4fwAAAAAAAPh/AAAAAAAA+H8AAAAAAAD4fwAAAAAAAPh/AAAAAAAA+H8AAAAAAAD4fwAAAAAAAPh/AAAAAAAA+H8AAAAAAAD4fwAAAAAAAPh/AAAAAAAA+H8AAAAAAAD4fwAAAAAAAPh/AAAAAAAA+H8=",
          "dtype": "f8"
         },
         "yaxis": "y"
        },
        {
         "line": {
          "color": "white",
          "dash": "dot",
          "width": 1
         },
         "mode": "lines",
         "name": "Resistance",
         "showlegend": true,
         "type": "scatter",
         "x": {
          "bdata": "AAECAwQFBgcICQoLDA0ODxAREhMUFRYXGBkaGxwdHh8gISIjJCUmJygpKissLS4vMA==",
          "dtype": "i1"
         },
         "xaxis": "x",
         "y": {
          "bdata": "AAAAAAAA+H8AAAAAAAD4fwAAAAAAAPh/AAAAAAAA+H8AAAAAAAD4fwAAAAAAAPh/AAAAAAAA+H88J71vfO2RP0czFk1nJ5M/BAmKH2Pukj8qPsCXA7+SP/61ezfZxZI/q2mZSRVHkj8KpwUv+gqSPzTVUr5jN5E/cxgNmwUbkT+s6NJ+6bCRP2x3kUZGiZI/uLEazc7jkj+GFtnO91OTPwkE/UTjTJI/+R9cwEmWkj8U4LfgioeWP5XJrYryCZo/wFXbjisymz8AucCkdoKcP7JlOvbwpp0//QkuVtRgmj8CAXOv0EiWP96DFH3AQJk/Ewbjo4Tenj8AAAAAAAD4fwAAAAAAAPh/AAAAAAAA+H8AAAAAAAD4fwAAAAAAAPh/AAAAAAAA+H8AAAAAAAD4fwAAAAAAAPh/AAAAAAAA+H8AAAAAAAD4fwAAAAAAAPh/AAAAAAAA+H8AAAAAAAD4fwAAAAAAAPh/AAAAAAAA+H8AAAAAAAD4fwAAAAAAAPh/AAAAAAAA+H8=",
          "dtype": "f8"
         },
         "yaxis": "y"
        },
        {
         "mode": "lines",
         "name": "EMA",
         "showlegend": true,
         "type": "scatter",
         "x": {
          "bdata": "AAECAwQFBgcICQoLDA0ODxAREhMUFRYXGBkaGxwdHh8gISIjJCUmJygpKissLS4vMA==",
          "dtype": "i1"
         },
         "xaxis": "x",
         "y": {
          "bdata": "54wo7Q2+kD+BARrEvJuQPwp77iiueZA/MuSa79VxkD+Bz0vq+l+QP3iqwgliYZA/YALiT7NckD+Kuax2InOQP//jNjI8fpA/KJa38wyTkD/tTPKvk5SQP+OD0+pwlpA/Eq404rWbkD++ULk5MIOQP+yWX+R7f5A/RHSPsoWXkD94g69EyJWQPxhlSIDBtpA/0YxY1XrFkD/ngvT1y4eQP/kRqvuLlZA/fuO1cc4HkT+yWZgcI1yRP9CTKy6XxpE/iket4G8Mkj/SVG+tSF6SPxG0S52ua5I/7NFB+3Vhkj+fuAPDycCSP8LWlrJ1v5M/wtaWsnW/kz/C1paydb+TP8LWlrJ1v5M/wtaWsnW/kz/C1paydb+TP8LWlrJ1v5M/wtaWsnW/kz/C1paydb+TP8LWlrJ1v5M/wtaWsnW/kz/C1paydb+TP8LWlrJ1v5M/wtaWsnW/kz/C1paydb+TP8LWlrJ1v5M/wtaWsnW/kz/C1paydb+TP8LWlrJ1v5M/wtaWsnW/kz8=",
          "dtype": "f8"
         },
         "yaxis": "y"
        },
        {
         "marker": {
          "color": "lime",
          "line": {
           "color": "black",
           "width": 2
          },
          "size": 12,
          "symbol": "triangle-up"
         },
         "mode": "markers",
         "name": "Long Signals",
         "showlegend": true,
         "type": "scatter",
         "x": {
          "bdata": "Dxwd",
          "dtype": "i1"
         },
         "xaxis": "x",
         "y": {
          "bdata": "uRluwOeHkT+Zu5aQD3qWPxkEVg4tsp0/",
          "dtype": "f8"
         },
         "yaxis": "y"
        },
        {
         "close": {
          "bdata": "Jqq3BrZKkD8RHm0csRaPP3pwd9Zuu5A/1qiHaHQHkT8uHAjJAiaQP9biUwCMZ5A/m1Wfq63Yjz8qqRPQRNiQPypvRzgteJE/ERlW8UbmkT+TUtDtJY2RP5s4ud+hKJA/LzTXaaSlkj/C3Vm77UKTP/lOzHoxlJM/ujE9YYkHlD9hGoaPiCmRP95xio7k8o8/huY6jbRUjj+OQLyuX7CLPwtjC0EOSog/MJ5BQ/8Ehz/68gLso1OHP0GC4seYu4Y/GGAfnbryiT90RpT2Bl+IPwt72uGvyYo/t3pOet/4ij+lZg+0AkOGP3OiXYWUn4Q/AAAAAAAA+H8AAAAAAAD4fwAAAAAAAPh/AAAAAAAA+H8AAAAAAAD4fwAAAAAAAPh/AAAAAAAA+H8AAAAAAAD4fwAAAAAAAPh/AAAAAAAA+H8AAAAAAAD4fwAAAAAAAPh/AAAAAAAA+H8AAAAAAAD4fwAAAAAAAPh/AAAAAAAA+H8AAAAAAAD4fwAAAAAAAPh/AAAAAAAA+H8=",
          "dtype": "f8"
         },
         "decreasing": {
          "line": {
           "color": "#EF5350"
          }
         },
         "high": {
          "bdata": "BOJ1/YLdkD/F/rJ78rCQP0zD8BExJZI/9P3UeOkmkT87U+i8xi6RP85wAz4/jJA/vYxiuaXVkD+H4SNiSiSRPyb8Uj9vKpI/GlHaG3xhkj/XNO84RUeSPw3gLZCg+JE/sTOFzmvskj9RiIBDqFKTP88UOq+xS5Q/amrZWl8klD9F9dbAVgmWP2Eaho+IKZE/znADPj+MkD86WP/nMF+OPwOV8e8zLow/eEXwv5XsiD/gnBGlvcGHP/GAsilXeIc/Sphp+1dWij/M0eP3Nv2JPxR5knTN5Is/XwfOGVHaiz+Ss7CnHf6KP/XzpiIVxoY/AAAAAAAA+H8AAAAAAAD4fwAAAAAAAPh/AAAAAAAA+H8AAAAAAAD4fwAAAAAAAPh/AAAAAAAA+H8AAAAAAAD4fwAAAAAAAPh/AAAAAAAA+H8AAAAAAAD4fwAAAAAAAPh/AAAAAAAA+H8AAAAAAAD4fwAAAAAAAPh/AAAAAAAA+H8AAAAAAAD4fwAAAAAAAPh/AAAAAAAA+H8=",
          "dtype": "f8"
         },
         "increasing": {
          "line": {
           "color": "#26A69A"
          }
         },
         "low": {
          "bdata": "O+RmuAGfjz+K5ZZWQ+KOP1ysqME0DI8//Knx0k1ikD/zyB8MPPeOP5dWQ+IeS48/HY8ZqIx/jz9UOlj/5zCPPzMbZJKRs5A/wYu+gjRjkT9YqDXNO06RP8H/VrJjI5A/uarsuyL4jz+536Eo0CeSP4czv5oDBJM/vqQxWkdVkz9wd9Zuu9CMP2Qe+YOB544/vJF55A8Gjj+eJF0z+WaLPwbYR6eufIY/ukkMAiuHhj8bu0T11sCGP0D2evfHe4U/dy0hH/Rshj9e1y/YDduGP/5l9+RhoYY/lZo90AoMiT++vAD76NSFP5BrQ8U4f4M/AAAAAAAA+H8AAAAAAAD4fwAAAAAAAPh/AAAAAAAA+H8AAAAAAAD4fwAAAAAAAPh/AAAAAAAA+H8AAAAAAAD4fwAAAAAAAPh/AAAAAAAA+H8AAAAAAAD4fwAAAAAAAPh/AAAAAAAA+H8AAAAAAAD4fwAAAAAAAPh/AAAAAAAA+H8AAAAAAAD4fwAAAAAAAPh/AAAAAAAA+H8=",
          "dtype": "f8"
         },
         "name": "Price",
         "open": {
          "bdata": "O420VN6OkD8mqrcGtkqQPxEebRyxFo8/enB31m67kD/WqIdodAeRPy4cCMkCJpA/1uJTAIxnkD+bVZ+rrdiPPyqpE9BE2JA/Km9HOC14kT8RGVbxRuaRP5NS0O0ljZE/mzi536EokD8vNNdppKWSP8LdWbvtQpM/+U7MejGUkz+6MT1hiQeUP2Eaho+IKZE/3nGKjuTyjz+G5jqNtFSOP45AvK5fsIs/C2MLQQ5KiD8wnkFD/wSHP/ryAuyjU4c/QYLix5i7hj8YYB+duvKJP3RGlPYGX4g/C3va4a/Jij+3ek563/iKP6VmD7QCQ4Y/AAAAAAAA+H8AAAAAAAD4fwAAAAAAAPh/AAAAAAAA+H8AAAAAAAD4fwAAAAAAAPh/AAAAAAAA+H8AAAAAAAD4fwAAAAAAAPh/AAAAAAAA+H8AAAAAAAD4fwAAAAAAAPh/AAAAAAAA+H8AAAAAAAD4fwAAAAAAAPh/AAAAAAAA+H8AAAAAAAD4fwAAAAAAAPh/AAAAAAAA+H8=",
          "dtype": "f8"
         },
         "type": "candlestick",
         "x": {
          "bdata": "AAECAwQFBgcICQoLDA0ODxAREhMUFRYXGBkaGxwdHh8gISIjJCUmJygpKissLS4vMA==",
          "dtype": "i1"
         },
         "xaxis": "x2",
         "yaxis": "y2"
        },
        {
         "line": {
          "color": "white",
          "dash": "dot",
          "width": 1
         },
         "mode": "lines",
         "name": "Support",
         "showlegend": true,
         "type": "scatter",
         "x": {
          "bdata": "AAECAwQFBgcICQoLDA0ODxAREhMUFRYXGBkaGxwdHh8gISIjJCUmJygpKissLS4vMA==",
          "dtype": "i1"
         },
         "xaxis": "x2",
         "y": {
          "bdata": "AAAAAAAA+H8AAAAAAAD4fwAAAAAAAPh/AAAAAAAA+H8AAAAAAAD4fwAAAAAAAPh/AAAAAAAA+H+nLp8qouWOP2fMonM9T48/FgU/bRNsjz+yAyy1nTSQPyqpE9BE2JA/3xGTM9M7kD+X/5B++zqQP3baV1/fi5A/eZaimWgSkT/sUbgeheuRP3g1fbf7WY0/NHyJdP5rjD80Sl6dY0CGP0LHCj3gfYQ/4nqe/jFwfz+AcS+utEt5P8R2vp8aL30/8t8FTve8fz+aHLxyfDKCP4M0qPnpvYQ/ezjCJJkWhz+P7TcXwBaIP44JNYTlDIY/v9798V61gj8AAAAAAAD4fwAAAAAAAPh/AAAAAAAA+H8AAAAAAAD4fwAAAAAAAPh/AAAAAAAA+H8AAAAAAAD4fwAAAAAAAPh/AAAAAAAA+H8AAAAAAAD4fwAAAAAAAPh/AAAAAAAA+H8AAAAAAAD4fwAAAAAAAPh/AAAAAAAA+H8AAAAAAAD4fwAAAAAAAPh/AAAAAAAA+H8=",
          "dtype": "f8"
         },
         "yaxis": "y2"
        },
        {
         "line": {
          "color": "white",
          "dash": "dot",
          "width": 1
         },
         "mode": "lines",
         "name": "Resistance",
         "showlegend": true,
         "type": "scatter",
         "x": {
          "bdata": "AAECAwQFBgcICQoLDA0ODxAREhMUFRYXGBkaGxwdHh8gISIjJCUmJygpKissLS4vMA==",
          "dtype": "i1"
         },
         "xaxis": "x2",
         "y": {
          "bdata": "AAAAAAAA+H8AAAAAAAD4fwAAAAAAAPh/AAAAAAAA+H8AAAAAAAD4fwAAAAAAAPh/AAAAAAAA+H8YN/SUmCaSP4V50G4xgJI/IKZEEr2Mkj9H8wQDipWSPzuInSl0XpM/VErLB4LDkj9MT1jiAWWTP3KLd0PZ2ZM/vj46deWzlD8Wyy2thsSVP0lUKuX2TZY/p3ewQ/jWlT/fcrgVQPSTPy0d8Sfp35E/i7AmEgv6jj/ZK+9pzOeLP3yutmJ/2Y0/iYWf+zErhz+fQUP/BBeLPy2UE+0qpIw/b1Z9rrZijz/0H9JvXweOP4VfLxDDjIw/lY/h8tqpij8AAAAAAAD4fwAAAAAAAPh/AAAAAAAA+H8AAAAAAAD4fwAAAAAAAPh/AAAAAAAA+H8AAAAAAAD4fwAAAAAAAPh/AAAAAAAA+H8AAAAAAAD4fwAAAAAAAPh/AAAAAAAA+H8AAAAAAAD4fwAAAAAAAPh/AAAAAAAA+H8AAAAAAAD4fwAAAAAAAPh/AAAAAAAA+H8=",
          "dtype": "f8"
         },
         "yaxis": "y2"
        },
        {
         "mode": "lines",
         "name": "EMA",
         "showlegend": true,
         "type": "scatter",
         "x": {
          "bdata": "AAECAwQFBgcICQoLDA0ODxAREhMUFRYXGBkaGxwdHh8gISIjJCUmJygpKissLS4vMA==",
          "dtype": "i1"
         },
         "xaxis": "x2",
         "y": {
          "bdata": "Jqq3BrZKkD+YSiBwUDmQPyGr+ackRZA/McLA0M5WkD8CViQtX1KQP+e/hfpLVJA/ExsYmthKkD8s4tHks1eQP4kdC3jtcZA/T9e0DseTkD+bP1qXcqqQP+HhYm+lnpA/XOk+49PNkD99oljIBAeRP5+D1+9lQpE/LXzJhd2CkT8xFqyGvnqRPytfLpi3V5E/W9WsMwwlkT9w87z8PdiQP3Ltt+jbapA/jo8O80nxjz9SgQ1+xiiPP/OvZhCrZI4/sagxHTj9jT+rQsZ2eXqNP8tHgoDbO40/mgZP9DgHjT8nVaaov2mMP/+hQut1tIs//6FC63W0iz//oULrdbSLP/+hQut1tIs//6FC63W0iz//oULrdbSLP/+hQut1tIs//6FC63W0iz//oULrdbSLP/+hQut1tIs//6FC63W0iz//oULrdbSLP/+hQut1tIs//6FC63W0iz//oULrdbSLP/+hQut1tIs//6FC63W0iz//oULrdbSLP/+hQut1tIs//6FC63W0iz8=",
          "dtype": "f8"
         },
         "yaxis": "y2"
        },
        {
         "marker": {
          "color": "red",
          "line": {
           "color": "black",
           "width": 2
          },
          "size": 12,
          "symbol": "triangle-down"
         },
         "mode": "markers",
         "name": "Short Signals",
         "showlegend": true,
         "type": "scatter",
         "x": {
          "bdata": "HB0=",
          "dtype": "i1"
         },
         "xaxis": "x2",
         "y": {
          "bdata": "pWYPtAJDhj9zol2FlJ+EPw==",
          "dtype": "f8"
         },
         "yaxis": "y2"
        },
        {
         "close": {
          "bdata": "zlMdcjPcwD/rOel942u/P7hAguLHmLs/dc3km21uvD+ztb5IaMu5P8gMVMa/z7g/rmTHRiBetz/Y8PRKWYa4P86N6QlLPLg/uB6F61G4tj9angd3Z+22PyIa3UHsTLk/M23/ykqTuj87jbRU3o64P1wDWyVYHLY/m49rQ8U4tz9uUWaDTDKyP9CzWfW52rI/K/uuCP63sj+7RPXWwFaxP2e4AZ8fRrA/3h/vVSsTrj/N6bKY2HysP0sfuqC+Za4/l+Kqsu+KsD84Mo/8wcCzP1WkwthCkLM/O/w1WaMesj85l+Kqsu+yP8VyS6shca8/AAAAAAAA+H8AAAAAAAD4fwAAAAAAAPh/AAAAAAAA+H8AAAAAAAD4fwAAAAAAAPh/AAAAAAAA+H8AAAAAAAD4fwAAAAAAAPh/AAAAAAAA+H8AAAAAAAD4fwAAAAAAAPh/AAAAAAAA+H8AAAAAAAD4fwAAAAAAAPh/AAAAAAAA+H8AAAAAAAD4fwAAAAAAAPh/AAAAAAAA+H8=",
          "dtype": "f8"
         },
         "decreasing": {
          "line": {
           "color": "#EF5350"
          }
         },
         "high": {
          "bdata": "Bi/6CtKMwT95r1qZ8EvBP2vUQzS6g8A/w9hCkIMSvj//BBcrajC9PzNQGf8+47o/JCh+jLlruT9pUgq6vaS5P+dvQiECDrk/8KfGSzeJuT/cRgN4CyS4P+PfZ1w4ELo//WoOEMzRuz+DF30Faca6PxqojH+fcbk/81SH3Aw3uD+q8dJNYhC4P9XPm4pUGLM/pz/7kSIytD+NeohGdxCzP9mZQuc1drE/m/7sR4rIsD/rkJvhBnyuP0ljtI6qJrA/gH106spnsT+l2qfjMQO1Px1aZDvfT7U/boYb8PlhtD8UP8bctYS0P91B7Eyh87I/AAAAAAAA+H8AAAAAAAD4fwAAAAAAAPh/AAAAAAAA+H8AAAAAAAD4fwAAAAAAAPh/AAAAAAAA+H8AAAAAAAD4fwAAAAAAAPh/AAAAAAAA+H8AAAAAAAD4fwAAAAAAAPh/AAAAAAAA+H8AAAAAAAD4fwAAAAAAAPh/AAAAAAAA+H8AAAAAAAD4fwAAAAAAAPh/AAAAAAAA+H8=",
          "dtype": "f8"
         },
         "increasing": {
          "line": {
           "color": "#26A69A"
          }
         },
         "low": {
          "bdata": "I2dhTzv8vT82WaMeotG9P6eWrfVFQrs/aNDQP8HFuj94CyQofoy5P2Ni83FtqLg/Brth26LMtj+OdXEbDeC1P3GPpQ9dULc/mwMEc/T4tT82donqrYG1P9ieWRKgprY/KqkT0ETYuD/HgOz17o+3P3+8V61M+LU/RfXWwFYJtj9wfO2ZJQGyP59x4UBIFrA/SrVPx2MGsj9Bt5c0RuuwP5sg6j4Aqa0/r3d/vFetrD/hQEgWMIGrPwvvchHfiak/2XdF8L+VrD9eY5eo3hqwP3r83qY/+7E/kUQvo1husT90tRX7y+6xP1hzgGCOHq8/AAAAAAAA+H8AAAAAAAD4fwAAAAAAAPh/AAAAAAAA+H8AAAAAAAD4fwAAAAAAAPh/AAAAAAAA+H8AAAAAAAD4fwAAAAAAAPh/AAAAAAAA+H8AAAAAAAD4fwAAAAAAAPh/AAAAAAAA+H8AAAAAAAD4fwAAAAAAAPh/AAAAAAAA+H8AAAAAAAD4fwAAAAAAAPh/AAAAAAAA+H8=",
          "dtype": "f8"
         },
         "name": "Price",
         "open": {
          "bdata": "ADrMlxdgvz/OUx1yM9zAP+s56X3ja78/uECC4seYuz91zeSbbW68P7O1vkhoy7k/yAxUxr/PuD+uZMdGIF63P9jw9EpZhrg/zo3pCUs8uD+4HoXrUbi2P1qeB3dn7bY/IhrdQexMuT8zbf/KSpO6PzuNtFTejrg/XANbJVgctj+bj2tDxTi3P25RZoNMMrI/0LNZ9bnasj8r+64I/reyP7tE9dbAVrE/Z7gBnx9GsD/eH+9VKxOuP83pspjYfKw/Sx+6oL5lrj+X4qqy74qwPzgyj/zBwLM/VaTC2EKQsz87/DVZox6yPzmX4qqy77I/AAAAAAAA+H8AAAAAAAD4fwAAAAAAAPh/AAAAAAAA+H8AAAAAAAD4fwAAAAAAAPh/AAAAAAAA+H8AAAAAAAD4fwAAAAAAAPh/AAAAAAAA+H8AAAAAAAD4fwAAAAAAAPh/AAAAAAAA+H8AAAAAAAD4fwAAAAAAAPh/AAAAAAAA+H8AAAAAAAD4fwAAAAAAAPh/AAAAAAAA+H8=",
          "dtype": "f8"
         },
         "type": "candlestick",
         "x": {
          "bdata": "AAECAwQFBgcICQoLDA0ODxAREhMUFRYXGBkaGxwdHh8gISIjJCUmJygpKissLS4vMA==",
          "dtype": "i1"
         },
         "xaxis": "x3",
         "yaxis": "y3"
        },
        {
         "line": {
          "color": "white",
          "dash": "dot",
          "width": 1
         },
         "mode": "lines",
         "name": "Support",
         "showlegend": true,
         "type": "scatter",
         "x": {
          "bdata": "AAECAwQFBgcICQoLDA0ODxAREhMUFRYXGBkaGxwdHh8gISIjJCUmJygpKissLS4vMA==",
          "dtype": "i1"
         },
         "xaxis": "x3",
         "y": {
          "bdata": "AAAAAAAA+H8AAAAAAAD4fwAAAAAAAPh/AAAAAAAA+H8AAAAAAAD4fwAAAAAAAPh/AAAAAAAA+H+few+XHHeyP/SWauS2PLQ/WIUKT2pstD9Gjcj1sqyzP7K/7J48LLQ/lgSoqWVrtT9vuqLVS5C2P9XTyVbYjrY/B91e0hittT8GFRSE7lG1P5c5XRYTm68/nomw4emVqj/VWhr8Pp6qP3VdejjCJKk/tKiQrWv1pz8vc/9Um32lPzBDpjvNxaY/VYzzN6EQpT/6XZtMWrSnP73ZoZ5/Pas/M+zz16m1rz84bYkbNSKxP34cTwher7E/SQfr/xzmqz8AAAAAAAD4fwAAAAAAAPh/AAAAAAAA+H8AAAAAAAD4fwAAAAAAAPh/AAAAAAAA+H8AAAAAAAD4fwAAAAAAAPh/AAAAAAAA+H8AAAAAAAD4fwAAAAAAAPh/AAAAAAAA+H8AAAAAAAD4fwAAAAAAAPh/AAAAAAAA+H8AAAAAAAD4fwAAAAAAAPh/AAAAAAAA+H8=",
          "dtype": "f8"
         },
         "yaxis": "y3"
        },
        {
         "line": {
          "color": "white",
          "dash": "dot",
          "width": 1
         },
         "mode": "lines",
         "name": "Resistance",
         "showlegend": true,
         "type": "scatter",
         "x": {
          "bdata": "AAECAwQFBgcICQoLDA0ODxAREhMUFRYXGBkaGxwdHh8gISIjJCUmJygpKissLS4vMA==",
          "dtype": "i1"
         },
         "xaxis": "x3",
         "y": {
          "bdata": "AAAAAAAA+H8AAAAAAAD4fwAAAAAAAPh/AAAAAAAA+H8AAAAAAAD4fwAAAAAAAPh/AAAAAAAA+H8uJU3A8My4P/eJPEm6Zro/FmAfnbryuz/GuriNBvC4P77GLlG9Nbo/gkIEHEKVuj+7gcGzACy8P8yZLkZhWLw/enWOAdnruz+IfxUh97G7P7DPX6fWvrc/p0VAROhjtT9ci5QppeWzPyRDTXKDYLM/FI0zSevtsj+i4ZDMaKexP6Lp7GRwlLI/q+uNm5zerj/KAYI5evywPxhX2qXMS7U/XHfzVIfctj921FfVjqG3P6BItjgmSrg/5hdiNoP8tT8AAAAAAAD4fwAAAAAAAPh/AAAAAAAA+H8AAAAAAAD4fwAAAAAAAPh/AAAAAAAA+H8AAAAAAAD4fwAAAAAAAPh/AAAAAAAA+H8AAAAAAAD4fwAAAAAAAPh/AAAAAAAA+H8AAAAAAAD4fwAAAAAAAPh/AAAAAAAA+H8AAAAAAAD4fwAAAAAAAPh/AAAAAAAA+H8=",
          "dtype": "f8"
         },
         "yaxis": "y3"
        },
        {
         "mode": "lines",
         "name": "EMA",
         "showlegend": true,
         "type": "scatter",
         "x": {
          "bdata": "AAECAwQFBgcICQoLDA0ODxAREhMUFRYXGBkaGxwdHh8gISIjJCUmJygpKissLS4vMA==",
          "dtype": "i1"
         },
         "xaxis": "x3",
         "y": {
          "bdata": "zlMdcjPcwD9d/Y1Kc8HAP6Jd+3CgfMA/pBgpYsVHwD8MJrlEE/K/P2OvmK0LTL8/gUsR6oGTvj8UiVTErAa+PyQVYrPpf70/YIp8uCHivD9fRuYmhVe8P4j8ExK9ELw/l0zMxQ/uuz9g9Q/qlp+7P6X20GNLH7s/u77HA4XEuj9W476DC/25P3iwtRkEV7k/WRS1Ruy8uD9LRy/IuRC4P2WX/PJlW7c/t5bNYMeZtj922Qi8Ste1Px3HJ1W1PLU/syYF0nTPtD8z+Sjt2La0Pzba2RkRnLQ/Tt1tZR5itD+pv4+xcUC0P9GnNCkA17M/0ac0KQDXsz/RpzQpANezP9GnNCkA17M/0ac0KQDXsz/RpzQpANezP9GnNCkA17M/0ac0KQDXsz/RpzQpANezP9GnNCkA17M/0ac0KQDXsz/RpzQpANezP9GnNCkA17M/0ac0KQDXsz/RpzQpANezP9GnNCkA17M/0ac0KQDXsz/RpzQpANezP9GnNCkA17M/0ac0KQDXsz8=",
          "dtype": "f8"
         },
         "yaxis": "y3"
        },
        {
         "marker": {
          "color": "red",
          "line": {
           "color": "black",
           "width": 2
          },
          "size": 12,
          "symbol": "triangle-down"
         },
         "mode": "markers",
         "name": "Short Signals",
         "showlegend": true,
         "type": "scatter",
         "x": {
          "bdata": "Dh0=",
          "dtype": "i1"
         },
         "xaxis": "x3",
         "y": {
          "bdata": "XANbJVgctj/FckurIXGvPw==",
          "dtype": "f8"
         },
         "yaxis": "y3"
        }
       ],
       "layout": {
        "annotations": [
         {
          "font": {
           "size": 16
          },
          "showarrow": false,
          "text": "REZ",
          "x": 0.5,
          "xanchor": "center",
          "xref": "paper",
          "y": 1,
          "yanchor": "bottom",
          "yref": "paper"
         },
         {
          "font": {
           "size": 16
          },
          "showarrow": false,
          "text": "COOK",
          "x": 0.5,
          "xanchor": "center",
          "xref": "paper",
          "y": 0.6499999999999999,
          "yanchor": "bottom",
          "yref": "paper"
         },
         {
          "font": {
           "size": 16
          },
          "showarrow": false,
          "text": "L3",
          "x": 0.5,
          "xanchor": "center",
          "xref": "paper",
          "y": 0.3,
          "yanchor": "bottom",
          "yref": "paper"
         }
        ],
        "height": 1200,
        "legend": {
         "bgcolor": "rgba(0,0,0,0.5)",
         "bordercolor": "rgba(255,255,255,0.2)"
        },
        "showlegend": true,
        "template": {
         "data": {
          "bar": [
           {
            "error_x": {
             "color": "#2a3f5f"
            },
            "error_y": {
             "color": "#2a3f5f"
            },
            "marker": {
             "line": {
              "color": "#E5ECF6",
              "width": 0.5
             },
             "pattern": {
              "fillmode": "overlay",
              "size": 10,
              "solidity": 0.2
             }
            },
            "type": "bar"
           }
          ],
          "barpolar": [
           {
            "marker": {
             "line": {
              "color": "#E5ECF6",
              "width": 0.5
             },
             "pattern": {
              "fillmode": "overlay",
              "size": 10,
              "solidity": 0.2
             }
            },
            "type": "barpolar"
           }
          ],
          "carpet": [
           {
            "aaxis": {
             "endlinecolor": "#2a3f5f",
             "gridcolor": "white",
             "linecolor": "white",
             "minorgridcolor": "white",
             "startlinecolor": "#2a3f5f"
            },
            "baxis": {
             "endlinecolor": "#2a3f5f",
             "gridcolor": "white",
             "linecolor": "white",
             "minorgridcolor": "white",
             "startlinecolor": "#2a3f5f"
            },
            "type": "carpet"
           }
          ],
          "choropleth": [
           {
            "colorbar": {
             "outlinewidth": 0,
             "ticks": ""
            },
            "type": "choropleth"
           }
          ],
          "contour": [
           {
            "colorbar": {
             "outlinewidth": 0,
             "ticks": ""
            },
            "colorscale": [
             [
              0,
              "#0d0887"
             ],
             [
              0.1111111111111111,
              "#46039f"
             ],
             [
              0.2222222222222222,
              "#7201a8"
             ],
             [
              0.3333333333333333,
              "#9c179e"
             ],
             [
              0.4444444444444444,
              "#bd3786"
             ],
             [
              0.5555555555555556,
              "#d8576b"
             ],
             [
              0.6666666666666666,
              "#ed7953"
             ],
             [
              0.7777777777777778,
              "#fb9f3a"
             ],
             [
              0.8888888888888888,
              "#fdca26"
             ],
             [
              1,
              "#f0f921"
             ]
            ],
            "type": "contour"
           }
          ],
          "contourcarpet": [
           {
            "colorbar": {
             "outlinewidth": 0,
             "ticks": ""
            },
            "type": "contourcarpet"
           }
          ],
          "heatmap": [
           {
            "colorbar": {
             "outlinewidth": 0,
             "ticks": ""
            },
            "colorscale": [
             [
              0,
              "#0d0887"
             ],
             [
              0.1111111111111111,
              "#46039f"
             ],
             [
              0.2222222222222222,
              "#7201a8"
             ],
             [
              0.3333333333333333,
              "#9c179e"
             ],
             [
              0.4444444444444444,
              "#bd3786"
             ],
             [
              0.5555555555555556,
              "#d8576b"
             ],
             [
              0.6666666666666666,
              "#ed7953"
             ],
             [
              0.7777777777777778,
              "#fb9f3a"
             ],
             [
              0.8888888888888888,
              "#fdca26"
             ],
             [
              1,
              "#f0f921"
             ]
            ],
            "type": "heatmap"
           }
          ],
          "histogram": [
           {
            "marker": {
             "pattern": {
              "fillmode": "overlay",
              "size": 10,
              "solidity": 0.2
             }
            },
            "type": "histogram"
           }
          ],
          "histogram2d": [
           {
            "colorbar": {
             "outlinewidth": 0,
             "ticks": ""
            },
            "colorscale": [
             [
              0,
              "#0d0887"
             ],
             [
              0.1111111111111111,
              "#46039f"
             ],
             [
              0.2222222222222222,
              "#7201a8"
             ],
             [
              0.3333333333333333,
              "#9c179e"
             ],
             [
              0.4444444444444444,
              "#bd3786"
             ],
             [
              0.5555555555555556,
              "#d8576b"
             ],
             [
              0.6666666666666666,
              "#ed7953"
             ],
             [
              0.7777777777777778,
              "#fb9f3a"
             ],
             [
              0.8888888888888888,
              "#fdca26"
             ],
             [
              1,
              "#f0f921"
             ]
            ],
            "type": "histogram2d"
           }
          ],
          "histogram2dcontour": [
           {
            "colorbar": {
             "outlinewidth": 0,
             "ticks": ""
            },
            "colorscale": [
             [
              0,
              "#0d0887"
             ],
             [
              0.1111111111111111,
              "#46039f"
             ],
             [
              0.2222222222222222,
              "#7201a8"
             ],
             [
              0.3333333333333333,
              "#9c179e"
             ],
             [
              0.4444444444444444,
              "#bd3786"
             ],
             [
              0.5555555555555556,
              "#d8576b"
             ],
             [
              0.6666666666666666,
              "#ed7953"
             ],
             [
              0.7777777777777778,
              "#fb9f3a"
             ],
             [
              0.8888888888888888,
              "#fdca26"
             ],
             [
              1,
              "#f0f921"
             ]
            ],
            "type": "histogram2dcontour"
           }
          ],
          "mesh3d": [
           {
            "colorbar": {
             "outlinewidth": 0,
             "ticks": ""
            },
            "type": "mesh3d"
           }
          ],
          "parcoords": [
           {
            "line": {
             "colorbar": {
              "outlinewidth": 0,
              "ticks": ""
             }
            },
            "type": "parcoords"
           }
          ],
          "pie": [
           {
            "automargin": true,
            "type": "pie"
           }
          ],
          "scatter": [
           {
            "fillpattern": {
             "fillmode": "overlay",
             "size": 10,
             "solidity": 0.2
            },
            "type": "scatter"
           }
          ],
          "scatter3d": [
           {
            "line": {
             "colorbar": {
              "outlinewidth": 0,
              "ticks": ""
             }
            },
            "marker": {
             "colorbar": {
              "outlinewidth": 0,
              "ticks": ""
             }
            },
            "type": "scatter3d"
           }
          ],
          "scattercarpet": [
           {
            "marker": {
             "colorbar": {
              "outlinewidth": 0,
              "ticks": ""
             }
            },
            "type": "scattercarpet"
           }
          ],
          "scattergeo": [
           {
            "marker": {
             "colorbar": {
              "outlinewidth": 0,
              "ticks": ""
             }
            },
            "type": "scattergeo"
           }
          ],
          "scattergl": [
           {
            "marker": {
             "colorbar": {
              "outlinewidth": 0,
              "ticks": ""
             }
            },
            "type": "scattergl"
           }
          ],
          "scattermap": [
           {
            "marker": {
             "colorbar": {
              "outlinewidth": 0,
              "ticks": ""
             }
            },
            "type": "scattermap"
           }
          ],
          "scattermapbox": [
           {
            "marker": {
             "colorbar": {
              "outlinewidth": 0,
              "ticks": ""
             }
            },
            "type": "scattermapbox"
           }
          ],
          "scatterpolar": [
           {
            "marker": {
             "colorbar": {
              "outlinewidth": 0,
              "ticks": ""
             }
            },
            "type": "scatterpolar"
           }
          ],
          "scatterpolargl": [
           {
            "marker": {
             "colorbar": {
              "outlinewidth": 0,
              "ticks": ""
             }
            },
            "type": "scatterpolargl"
           }
          ],
          "scatterternary": [
           {
            "marker": {
             "colorbar": {
              "outlinewidth": 0,
              "ticks": ""
             }
            },
            "type": "scatterternary"
           }
          ],
          "surface": [
           {
            "colorbar": {
             "outlinewidth": 0,
             "ticks": ""
            },
            "colorscale": [
             [
              0,
              "#0d0887"
             ],
             [
              0.1111111111111111,
              "#46039f"
             ],
             [
              0.2222222222222222,
              "#7201a8"
             ],
             [
              0.3333333333333333,
              "#9c179e"
             ],
             [
              0.4444444444444444,
              "#bd3786"
             ],
             [
              0.5555555555555556,
              "#d8576b"
             ],
             [
              0.6666666666666666,
              "#ed7953"
             ],
             [
              0.7777777777777778,
              "#fb9f3a"
             ],
             [
              0.8888888888888888,
              "#fdca26"
             ],
             [
              1,
              "#f0f921"
             ]
            ],
            "type": "surface"
           }
          ],
          "table": [
           {
            "cells": {
             "fill": {
              "color": "#EBF0F8"
             },
             "line": {
              "color": "white"
             }
            },
            "header": {
             "fill": {
              "color": "#C8D4E3"
             },
             "line": {
              "color": "white"
             }
            },
            "type": "table"
           }
          ]
         },
         "layout": {
          "annotationdefaults": {
           "arrowcolor": "#2a3f5f",
           "arrowhead": 0,
           "arrowwidth": 1
          },
          "autotypenumbers": "strict",
          "coloraxis": {
           "colorbar": {
            "outlinewidth": 0,
            "ticks": ""
           }
          },
          "colorscale": {
           "diverging": [
            [
             0,
             "#8e0152"
            ],
            [
             0.1,
             "#c51b7d"
            ],
            [
             0.2,
             "#de77ae"
            ],
            [
             0.3,
             "#f1b6da"
            ],
            [
             0.4,
             "#fde0ef"
            ],
            [
             0.5,
             "#f7f7f7"
            ],
            [
             0.6,
             "#e6f5d0"
            ],
            [
             0.7,
             "#b8e186"
            ],
            [
             0.8,
             "#7fbc41"
            ],
            [
             0.9,
             "#4d9221"
            ],
            [
             1,
             "#276419"
            ]
           ],
           "sequential": [
            [
             0,
             "#0d0887"
            ],
            [
             0.1111111111111111,
             "#46039f"
            ],
            [
             0.2222222222222222,
             "#7201a8"
            ],
            [
             0.3333333333333333,
             "#9c179e"
            ],
            [
             0.4444444444444444,
             "#bd3786"
            ],
            [
             0.5555555555555556,
             "#d8576b"
            ],
            [
             0.6666666666666666,
             "#ed7953"
            ],
            [
             0.7777777777777778,
             "#fb9f3a"
            ],
            [
             0.8888888888888888,
             "#fdca26"
            ],
            [
             1,
             "#f0f921"
            ]
           ],
           "sequentialminus": [
            [
             0,
             "#0d0887"
            ],
            [
             0.1111111111111111,
             "#46039f"
            ],
            [
             0.2222222222222222,
             "#7201a8"
            ],
            [
             0.3333333333333333,
             "#9c179e"
            ],
            [
             0.4444444444444444,
             "#bd3786"
            ],
            [
             0.5555555555555556,
             "#d8576b"
            ],
            [
             0.6666666666666666,
             "#ed7953"
            ],
            [
             0.7777777777777778,
             "#fb9f3a"
            ],
            [
             0.8888888888888888,
             "#fdca26"
            ],
            [
             1,
             "#f0f921"
            ]
           ]
          },
          "colorway": [
           "#636efa",
           "#EF553B",
           "#00cc96",
           "#ab63fa",
           "#FFA15A",
           "#19d3f3",
           "#FF6692",
           "#B6E880",
           "#FF97FF",
           "#FECB52"
          ],
          "font": {
           "color": "#2a3f5f"
          },
          "geo": {
           "bgcolor": "white",
           "lakecolor": "white",
           "landcolor": "#E5ECF6",
           "showlakes": true,
           "showland": true,
           "subunitcolor": "white"
          },
          "hoverlabel": {
           "align": "left"
          },
          "hovermode": "closest",
          "mapbox": {
           "style": "light"
          },
          "paper_bgcolor": "white",
          "plot_bgcolor": "#E5ECF6",
          "polar": {
           "angularaxis": {
            "gridcolor": "white",
            "linecolor": "white",
            "ticks": ""
           },
           "bgcolor": "#E5ECF6",
           "radialaxis": {
            "gridcolor": "white",
            "linecolor": "white",
            "ticks": ""
           }
          },
          "scene": {
           "xaxis": {
            "backgroundcolor": "#E5ECF6",
            "gridcolor": "white",
            "gridwidth": 2,
            "linecolor": "white",
            "showbackground": true,
            "ticks": "",
            "zerolinecolor": "white"
           },
           "yaxis": {
            "backgroundcolor": "#E5ECF6",
            "gridcolor": "white",
            "gridwidth": 2,
            "linecolor": "white",
            "showbackground": true,
            "ticks": "",
            "zerolinecolor": "white"
           },
           "zaxis": {
            "backgroundcolor": "#E5ECF6",
            "gridcolor": "white",
            "gridwidth": 2,
            "linecolor": "white",
            "showbackground": true,
            "ticks": "",
            "zerolinecolor": "white"
           }
          },
          "shapedefaults": {
           "line": {
            "color": "#2a3f5f"
           }
          },
          "ternary": {
           "aaxis": {
            "gridcolor": "white",
            "linecolor": "white",
            "ticks": ""
           },
           "baxis": {
            "gridcolor": "white",
            "linecolor": "white",
            "ticks": ""
           },
           "bgcolor": "#E5ECF6",
           "caxis": {
            "gridcolor": "white",
            "linecolor": "white",
            "ticks": ""
           }
          },
          "title": {
           "x": 0.05
          },
          "xaxis": {
           "automargin": true,
           "gridcolor": "white",
           "linecolor": "white",
           "ticks": "",
           "title": {
            "standoff": 15
           },
           "zerolinecolor": "white",
           "zerolinewidth": 2
          },
          "yaxis": {
           "automargin": true,
           "gridcolor": "white",
           "linecolor": "white",
           "ticks": "",
           "title": {
            "standoff": 15
           },
           "zerolinecolor": "white",
           "zerolinewidth": 2
          }
         }
        },
        "title": {
         "text": "Crypto Signals"
        },
        "xaxis": {
         "anchor": "y",
         "domain": [
          0,
          1
         ],
         "rangeslider": {
          "visible": false
         }
        },
        "xaxis2": {
         "anchor": "y2",
         "domain": [
          0,
          1
         ],
         "rangeslider": {
          "visible": false
         }
        },
        "xaxis3": {
         "anchor": "y3",
         "domain": [
          0,
          1
         ],
         "rangeslider": {
          "visible": false
         }
        },
        "yaxis": {
         "anchor": "x",
         "domain": [
          0.7,
          1
         ]
        },
        "yaxis2": {
         "anchor": "x2",
         "domain": [
          0.35,
          0.6499999999999999
         ]
        },
        "yaxis3": {
         "anchor": "x3",
         "domain": [
          0,
          0.3
         ]
        }
       }
      }
     },
     "metadata": {},
     "output_type": "display_data"
    },
    {
     "data": {
      "application/vnd.plotly.v1+json": {
       "config": {
        "plotlyServerURL": "https://plot.ly"
       },
       "data": [
        {
         "close": {
          "bdata": "AAAAAAAA+H8AAAAAAAD4fwAAAAAAAPh/AAAAAAAA+H8AAAAAAAD4fwAAAAAAAPh/AAAAAAAA+H8AAAAAAAD4fwAAAAAAAPh/AAAAAAAA+H8AAAAAAAD4fwAAAAAAAPh/AAAAAAAA+H8AAAAAAAD4fwAAAAAAAPh/AAAAAAAA+H8AAAAAAAD4fwAAAAAAAPh/AAAAAAAA+H8AAAAAAAD4fwAAAAAAAPh/AAAAAAAA+H8AAAAAAAD4fwAAAAAAAPh/AAAAAAAA+H8AAAAAAAD4fwAAAAAAAPh/AAAAAAAA+H8AAAAAAAD4fwAAAAAAAPh/AAAAIHugRkAAAAAAQcpGQAAAAOCO9kZAAAAAQCBcRkAAAADgJppGQAAAAACFy0ZAAAAA4Hr0RkAAAADAHgVHQAAAAGBmRkdAAAAA4FEYSEAAAABAMzNIQAAAAKBHYUhAAAAAoHB9R0AAAAAghUtHQAAAAKCZmUdAAAAAgD1KR0AAAADA9ehGQAAAAGBm5kZAAAAAIK4HSEA=",
          "dtype": "f8"
         },
         "decreasing": {
          "line": {
           "color": "#EF5350"
          }
         },
         "high": {
          "bdata": "AAAAAAAA+H8AAAAAAAD4fwAAAAAAAPh/AAAAAAAA+H8AAAAAAAD4fwAAAAAAAPh/AAAAAAAA+H8AAAAAAAD4fwAAAAAAAPh/AAAAAAAA+H8AAAAAAAD4fwAAAAAAAPh/AAAAAAAA+H8AAAAAAAD4fwAAAAAAAPh/AAAAAAAA+H8AAAAAAAD4fwAAAAAAAPh/AAAAAAAA+H8AAAAAAAD4fwAAAAAAAPh/AAAAAAAA+H8AAAAAAAD4fwAAAAAAAPh/AAAAAAAA+H8AAAAAAAD4fwAAAAAAAPh/AAAAAAAA+H8AAAAAAAD4fwAAAAAAAPh/7RdnHtbkRkBXZbx/pdVGQO79aZ+/BUdAgJE6/U3iRkAB8/a7Kk9HQFjFkd/F30ZAAAAAAAAAR0AAAACgR0FHQAAAAMDMTEdAAAAAoHA9SEAAAABAM5NIQAAAAIA9ikhAAAAAgOtRSEAAAAAAAKBHQAAAAEDhukdAAAAAQDPTR0AAAACAPWpHQAAAACCFK0dAAAAAgBQuSEA=",
          "dtype": "f8"
         },
         "increasing": {
          "line": {
           "color": "#26A69A"
          }
         },
         "low": {
          "bdata": "AAAAAAAA+H8AAAAAAAD4fwAAAAAAAPh/AAAAAAAA+H8AAAAAAAD4fwAAAAAAAPh/AAAAAAAA+H8AAAAAAAD4fwAAAAAAAPh/AAAAAAAA+H8AAAAAAAD4fwAAAAAAAPh/AAAAAAAA+H8AAAAAAAD4fwAAAAAAAPh/AAAAAAAA+H8AAAAAAAD4fwAAAAAAAPh/AAAAAAAA+H8AAAAAAAD4fwAAAAAAAPh/AAAAAAAA+H8AAAAAAAD4fwAAAAAAAPh/AAAAAAAA+H8AAAAAAAD4fwAAAAAAAPh/AAAAAAAA+H8AAAAAAAD4fwAAAAAAAPh/z2foANltRkDUEPwB2W1GQAfrVEI6jEZAvGtlwP9RRkChc0yCJjZGQLuQ9SB7oEZAAAAAYI+iRkAAAABguN5GQAAAAMD16EZAAAAAAABAR0AAAACAFM5HQAAAAIAUDkhAAAAAoJl5R0AAAACgR0FHQAAAAGCPYkdAAAAAgD0qR0AAAABA4dpGQAAAACCup0ZAAAAAwPXoRkA=",
          "dtype": "f8"
         },
         "name": "Price",
         "open": {
          "bdata": "AAAAAAAA+H8AAAAAAAD4fwAAAAAAAPh/AAAAAAAA+H8AAAAAAAD4fwAAAAAAAPh/AAAAAAAA+H8AAAAAAAD4fwAAAAAAAPh/AAAAAAAA+H8AAAAAAAD4fwAAAAAAAPh/AAAAAAAA+H8AAAAAAAD4fwAAAAAAAPh/AAAAAAAA+H8AAAAAAAD4fwAAAAAAAPh/AAAAAAAA+H8AAAAAAAD4fwAAAAAAAPh/AAAAAAAA+H8AAAAAAAD4fwAAAAAAAPh/AAAAAAAA+H8AAAAAAAD4fwAAAAAAAPh/AAAAAAAA+H8AAAAAAAD4fwAAAAAAAPh/riZEoBaVRkBOBVKBSpFGQLhWWQF4s0ZALSSp/9htRkCdJ4qhM05GQLuQ9SB7oEZAAAAAAADARkAAAACAPepGQAAAAKBw/UZAAAAAYLheR0AAAABAMxNIQAAAAMD1KEhAAAAAoEdBSEAAAAAA12NHQAAAAEDhekdAAAAAwPWoR0AAAABgZiZHQAAAAMD16EZAAAAAwMzsRkA=",
          "dtype": "f8"
         },
         "type": "candlestick",
         "x": {
          "bdata": "AAECAwQFBgcICQoLDA0ODxAREhMUFRYXGBkaGxwdHh8gISIjJCUmJygpKissLS4vMA==",
          "dtype": "i1"
         },
         "xaxis": "x",
         "yaxis": "y"
        },
        {
         "line": {
          "color": "white",
          "dash": "dot",
          "width": 1
         },
         "mode": "lines",
         "name": "Support",
         "showlegend": true,
         "type": "scatter",
         "x": {
          "bdata": "AAECAwQFBgcICQoLDA0ODxAREhMUFRYXGBkaGxwdHh8gISIjJCUmJygpKissLS4vMA==",
          "dtype": "i1"
         },
         "xaxis": "x",
         "y": {
          "bdata": "AAAAAAAA+H8AAAAAAAD4fwAAAAAAAPh/AAAAAAAA+H8AAAAAAAD4fwAAAAAAAPh/AAAAAAAA+H8AAAAAAAD4fwAAAAAAAPh/AAAAAAAA+H8AAAAAAAD4fwAAAAAAAPh/AAAAAAAA+H8AAAAAAAD4fwAAAAAAAPh/AAAAAAAA+H8AAAAAAAD4fwAAAAAAAPh/AAAAAAAA+H8AAAAAAAD4fwAAAAAAAPh/AAAAAAAA+H8AAAAAAAD4fwAAAAAAAPh/AAAAAAAA+H8AAAAAAAD4fwAAAAAAAPh/AAAAAAAA+H8AAAAAAAD4fwAAAAAAAPh/AAAAAAAA+H8AAAAAAAD4fwAAAAAAAPh/AAAAAAAA+H8AAAAAAAD4fwAAAAAAAPh/AAAAAAAA+H9Y4SdJhUdGQOkFccuyXkZA6QVxa2itRkAkSZKU3WRHQEmSJAGIvEdAAQAAADwZSEC3bduemalHQGvbtp1wPUdA/v//J4WTRkD///9HMxNGQP///4/rUUZA3LZtIw1BRkA=",
          "dtype": "f8"
         },
         "yaxis": "y"
        },
        {
         "line": {
          "color": "white",
          "dash": "dot",
          "width": 1
         },
         "mode": "lines",
         "name": "Resistance",
         "showlegend": true,
         "type": "scatter",
         "x": {
          "bdata": "AAECAwQFBgcICQoLDA0ODxAREhMUFRYXGBkaGxwdHh8gISIjJCUmJygpKissLS4vMA==",
          "dtype": "i1"
         },
         "xaxis": "x",
         "y": {
          "bdata": "AAAAAAAA+H8AAAAAAAD4fwAAAAAAAPh/AAAAAAAA+H8AAAAAAAD4fwAAAAAAAPh/AAAAAAAA+H8AAAAAAAD4fwAAAAAAAPh/AAAAAAAA+H8AAAAAAAD4fwAAAAAAAPh/AAAAAAAA+H8AAAAAAAD4fwAAAAAAAPh/AAAAAAAA+H8AAAAAAAD4fwAAAAAAAPh/AAAAAAAA+H8AAAAAAAD4fwAAAAAAAPh/AAAAAAAA+H8AAAAAAAD4fwAAAAAAAPh/AAAAAAAA+H8AAAAAAAD4fwAAAAAAAPh/AAAAAAAA+H8AAAAAAAD4fwAAAAAAAPh/AAAAAAAA+H8AAAAAAAD4fwAAAAAAAPh/AAAAAAAA+H8AAAAAAAD4fwAAAAAAAPh/AAAAAAAA+H+4YNKCiWBHQEmFGwW3d0dASYUbpWzGR0Bvzq054sJIQADz9lPVPElAAAAAYFYrSUAmSZI8MyNJQEiSJCmFy0hA////32pZSEBIkiQhYrNHQCRJkkSVZkdAt23bjnY5R0A=",
          "dtype": "f8"
         },
         "yaxis": "y"
        },
        {
         "mode": "lines",
         "name": "EMA",
         "showlegend": true,
         "type": "scatter",
         "x": {
          "bdata": "AAECAwQFBgcICQoLDA0ODxAREhMUFRYXGBkaGxwdHh8gISIjJCUmJygpKissLS4vMA==",
          "dtype": "i1"
         },
         "xaxis": "x",
         "y": {
          "bdata": "AAAAAAAA+H8AAAAAAAD4fwAAAAAAAPh/AAAAAAAA+H8AAAAAAAD4fwAAAAAAAPh/AAAAAAAA+H8AAAAAAAD4fwAAAAAAAPh/AAAAAAAA+H8AAAAAAAD4fwAAAAAAAPh/AAAAAAAA+H8AAAAAAAD4fwAAAAAAAPh/AAAAAAAA+H8AAAAAAAD4fwAAAAAAAPh/AAAAAAAA+H8AAAAAAAD4fwAAAAAAAPh/AAAAAAAA+H8AAAAAAAD4fwAAAAAAAPh/AAAAAAAA+H8AAAAAAAD4fwAAAAAAAPh/AAAAAAAA+H8AAAAAAAD4fwAAAAAAAPh/AAAAIHugRkC66KJLR6RGQGMZlCrCq0ZAWi615oSkRkCBnkegk6NGQAEznjQ1p0ZAXS4EijuuRkCyWDKmIbZGQHOWcys/w0ZArivG3kDiRkATnIWK4gBHQIYZBbvrIEdAqOgb51QpR0D2pDCPcCxHQA7zFAVdNkdA3n/kmys4R0AQus8q+DBHQJp6SLswKkdAoylZZ1M+R0A=",
          "dtype": "f8"
         },
         "yaxis": "y"
        },
        {
         "marker": {
          "color": "lime",
          "line": {
           "color": "black",
           "width": 2
          },
          "size": 12,
          "symbol": "triangle-up"
         },
         "mode": "markers",
         "name": "Long Signals",
         "showlegend": true,
         "type": "scatter",
         "x": {
          "bdata": "MA==",
          "dtype": "i1"
         },
         "xaxis": "x",
         "y": {
          "bdata": "AAAAIK4HSEA=",
          "dtype": "f8"
         },
         "yaxis": "y"
        },
        {
         "close": {
          "bdata": "AAAAAAAA+H8AAAAAAAD4fwAAAAAAAPh/AAAAAAAA+H8AAAAAAAD4fwAAAAAAAPh/AAAAAAAA+H8AAAAAAAD4fwAAAAAAAPh/AAAAAAAA+H8AAAAAAAD4fwAAAAAAAPh/AAAAAAAA+H8AAAAAAAD4fwAAAAAAAPh/AAAAAAAA+H8AAAAAAAD4fwAAAAAAAPh/AAAAAAAA+H8AAAAAAAD4fwAAAAAAAPh/AAAAAAAA+H8AAAAAAAD4fwAAAAAAAPh/AAAAAAAA+H8AAAAAAAD4fwAAAAAAAPh/AAAAAAAA+H8AAAAAAAD4fwAAAAAAAPh/AAAAgD1KUEAAAABguG5QQAAAAIAUflBAAAAAAABQUEAAAAAAAIBQQAAAAIAUjlBAAAAAgBRuUEAAAABACtdQQAAAAGCPslBAAAAAYLh+UEAAAABguI5QQAAAACBcv1BAAAAAgD2KUEAAAAAAKXxQQAAAAGC4nlBAAAAA4FGYUEAAAABACmdQQAAAAAAAoFBAAAAAYLgOUUA=",
          "dtype": "f8"
         },
         "decreasing": {
          "line": {
           "color": "#EF5350"
          }
         },
         "high": {
          "bdata": "AAAAAAAA+H8AAAAAAAD4fwAAAAAAAPh/AAAAAAAA+H8AAAAAAAD4fwAAAAAAAPh/AAAAAAAA+H8AAAAAAAD4fwAAAAAAAPh/AAAAAAAA+H8AAAAAAAD4fwAAAAAAAPh/AAAAAAAA+H8AAAAAAAD4fwAAAAAAAPh/AAAAAAAA+H8AAAAAAAD4fwAAAAAAAPh/AAAAAAAA+H8AAAAAAAD4fwAAAAAAAPh/AAAAAAAA+H8AAAAAAAD4fwAAAAAAAPh/AAAAAAAA+H8AAAAAAAD4fwAAAAAAAPh/AAAAAAAA+H8AAAAAAAD4fwAAAAAAAPh/AAAAAACQUEAAAADgo4BQQAAAAOB6hFBAAAAAIIVrUEAAAABgZoZQQAAAAOB6xFBAAAAAoHCtUEAAAADA9ehQQAAAAKBH8VBAAAAAACncUEAAAACgmalQQAAAAMAe5VBAAAAAACncUEAAAADAzKxQQAAAACBcv1BAAAAAYI/SUEAAAAAAALBQQAAAAAAAwFBAAAAAAAAYUUA=",
          "dtype": "f8"
         },
         "increasing": {
          "line": {
           "color": "#26A69A"
          }
         },
         "low": {
          "bdata": "AAAAAAAA+H8AAAAAAAD4fwAAAAAAAPh/AAAAAAAA+H8AAAAAAAD4fwAAAAAAAPh/AAAAAAAA+H8AAAAAAAD4fwAAAAAAAPh/AAAAAAAA+H8AAAAAAAD4fwAAAAAAAPh/AAAAAAAA+H8AAAAAAAD4fwAAAAAAAPh/AAAAAAAA+H8AAAAAAAD4fwAAAAAAAPh/AAAAAAAA+H8AAAAAAAD4fwAAAAAAAPh/AAAAAAAA+H8AAAAAAAD4fwAAAAAAAPh/AAAAAAAA+H8AAAAAAAD4fwAAAAAAAPh/AAAAAAAA+H8AAAAAAAD4fwAAAAAAAPh/AAAAQDNDUEAAAAAAAEBQQAAAAOBRWFBAAAAAQDMjUEAAAAAgXE9QQAAAAEDhelBAAAAAQDNjUEAAAABgj0JQQAAAAKCZqVBAAAAAQApnUEAAAACgcE1QQAAAAAApnFBAAAAAYGaGUEAAAAAA12NQQAAAAOBRaFBAAAAAYGaGUEAAAADgUUhQQAAAAMD1aFBAAAAAIK6HUEA=",
          "dtype": "f8"
         },
         "name": "Price",
         "open": {
          "bdata": "AAAAAAAA+H8AAAAAAAD4fwAAAAAAAPh/AAAAAAAA+H8AAAAAAAD4fwAAAAAAAPh/AAAAAAAA+H8AAAAAAAD4fwAAAAAAAPh/AAAAAAAA+H8AAAAAAAD4fwAAAAAAAPh/AAAAAAAA+H8AAAAAAAD4fwAAAAAAAPh/AAAAAAAA+H8AAAAAAAD4fwAAAAAAAPh/AAAAAAAA+H8AAAAAAAD4fwAAAAAAAPh/AAAAAAAA+H8AAAAAAAD4fwAAAAAAAPh/AAAAAAAA+H8AAAAAAAD4fwAAAAAAAPh/AAAAAAAA+H8AAAAAAAD4fwAAAAAAAPh/AAAAgD1aUEAAAABAM2NQQAAAAKCZeVBAAAAAgMI1UEAAAABA4VpQQAAAAGBmllBAAAAAANeDUEAAAACgmVlQQAAAAEAz01BAAAAAIK7HUEAAAADAzHxQQAAAAIDroVBAAAAA4KPAUEAAAACgcG1QQAAAAIAUjlBAAAAAgOvBUEAAAAAA13NQQAAAAIA9ilBAAAAAAACgUEA=",
          "dtype": "f8"
         },
         "type": "candlestick",
         "x": {
          "bdata": "AAECAwQFBgcICQoLDA0ODxAREhMUFRYXGBkaGxwdHh8gISIjJCUmJygpKissLS4vMA==",
          "dtype": "i1"
         },
         "xaxis": "x2",
         "yaxis": "y2"
        },
        {
         "line": {
          "color": "white",
          "dash": "dot",
          "width": 1
         },
         "mode": "lines",
         "name": "Support",
         "showlegend": true,
         "type": "scatter",
         "x": {
          "bdata": "AAECAwQFBgcICQoLDA0ODxAREhMUFRYXGBkaGxwdHh8gISIjJCUmJygpKissLS4vMA==",
          "dtype": "i1"
         },
         "xaxis": "x2",
         "y": {
          "bdata": "AAAAAAAA+H8AAAAAAAD4fwAAAAAAAPh/AAAAAAAA+H8AAAAAAAD4fwAAAAAAAPh/AAAAAAAA+H8AAAAAAAD4fwAAAAAAAPh/AAAAAAAA+H8AAAAAAAD4fwAAAAAAAPh/AAAAAAAA+H8AAAAAAAD4fwAAAAAAAPh/AAAAAAAA+H8AAAAAAAD4fwAAAAAAAPh/AAAAAAAA+H8AAAAAAAD4fwAAAAAAAPh/AAAAAAAA+H8AAAAAAAD4fwAAAAAAAPh/AAAAAAAA+H8AAAAAAAD4fwAAAAAAAPh/AAAAAAAA+H8AAAAAAAD4fwAAAAAAAPh/AAAAAAAA+H8AAAAAAAD4fwAAAAAAAPh/AAAAAAAA+H8AAAAAAAD4fwAAAAAAAPh/AAAAAAAA+H/ctm1byztQQCRJkrzPTlBAJUmSNNFfUEAmSZKMOmRQQLdt21ZDTlBAbtu2rVpWUEDbtm2b1UJQQP///9/M9E9At23b3hhBUECTJEmiWlZQQAAAAKBHIVBASZIkKZU+UEA=",
          "dtype": "f8"
         },
         "yaxis": "y2"
        },
        {
         "line": {
          "color": "white",
          "dash": "dot",
          "width": 1
         },
         "mode": "lines",
         "name": "Resistance",
         "showlegend": true,
         "type": "scatter",
         "x": {
          "bdata": "AAECAwQFBgcICQoLDA0ODxAREhMUFRYXGBkaGxwdHh8gISIjJCUmJygpKissLS4vMA==",
          "dtype": "i1"
         },
         "xaxis": "x2",
         "y": {
          "bdata": "AAAAAAAA+H8AAAAAAAD4fwAAAAAAAPh/AAAAAAAA+H8AAAAAAAD4fwAAAAAAAPh/AAAAAAAA+H8AAAAAAAD4fwAAAAAAAPh/AAAAAAAA+H8AAAAAAAD4fwAAAAAAAPh/AAAAAAAA+H8AAAAAAAD4fwAAAAAAAPh/AAAAAAAA+H8AAAAAAAD4fwAAAAAAAPh/AAAAAAAA+H8AAAAAAAD4fwAAAAAAAPh/AAAAAAAA+H8AAAAAAAD4fwAAAAAAAPh/AAAAAAAA+H8AAAAAAAD4fwAAAAAAAPh/AAAAAAAA+H8AAAAAAAD4fwAAAAAAAPh/AAAAAAAA+H8AAAAAAAD4fwAAAAAAAPh/AAAAAAAA+H8AAAAAAAD4fwAAAAAAAPh/AAAAAAAA+H9u27btxtBQQCRJkhw29VBAJEmSlDcGUUAmSZLsoApRQEmSJJkO+lBA3LZtuxsDUUC3bdsmgvFQQCRJkgSLx1BAAQAA+P/fUEAlSZJsjOxQQAAAAGDxxVBAbdu2TfTDUEA=",
          "dtype": "f8"
         },
         "yaxis": "y2"
        },
        {
         "mode": "lines",
         "name": "EMA",
         "showlegend": true,
         "type": "scatter",
         "x": {
          "bdata": "AAECAwQFBgcICQoLDA0ODxAREhMUFRYXGBkaGxwdHh8gISIjJCUmJygpKissLS4vMA==",
          "dtype": "i1"
         },
         "xaxis": "x2",
         "y": {
          "bdata": "AAAAAAAA+H8AAAAAAAD4fwAAAAAAAPh/AAAAAAAA+H8AAAAAAAD4fwAAAAAAAPh/AAAAAAAA+H8AAAAAAAD4fwAAAAAAAPh/AAAAAAAA+H8AAAAAAAD4fwAAAAAAAPh/AAAAAAAA+H8AAAAAAAD4fwAAAAAAAPh/AAAAAAAA+H8AAAAAAAD4fwAAAAAAAPh/AAAAAAAA+H8AAAAAAAD4fwAAAAAAAPh/AAAAAAAA+H8AAAAAAAD4fwAAAAAAAPh/AAAAAAAA+H8AAAAAAAD4fwAAAAAAAPh/AAAAAAAA+H8AAAAAAAD4fwAAAAAAAPh/AAAAgD1KUEDRRRd9jk1QQARuLMP3UVBA1ak/98lRUEDZa2hs/VVQQNynR8sWW1BA369vxNBcUEBWcQhE7WdQQE5+TS+2blBApLhdvypwUEA4HPjN8XJQQL52hDLkeVBACsnsrWB7UEA4iO7jcntQQEpNqsCnflBAcQBVCf2AUECsF5MloX5QQFZbEcWpgVBA2ZhVjXyOUEA=",
          "dtype": "f8"
         },
         "yaxis": "y2"
        },
        {
         "marker": {
          "color": "lime",
          "line": {
           "color": "black",
           "width": 2
          },
          "size": 12,
          "symbol": "triangle-up"
         },
         "mode": "markers",
         "name": "Long Signals",
         "showlegend": true,
         "type": "scatter",
         "x": {
          "bdata": "MA==",
          "dtype": "i1"
         },
         "xaxis": "x2",
         "y": {
          "bdata": "AAAAYLgOUUA=",
          "dtype": "f8"
         },
         "yaxis": "y2"
        },
        {
         "close": {
          "bdata": "AAAAAAAA+H8AAAAAAAD4fwAAAAAAAPh/AAAAAAAA+H8AAAAAAAD4fwAAAAAAAPh/AAAAAAAA+H8AAAAAAAD4fwAAAAAAAPh/AAAAAAAA+H8AAAAAAAD4fwAAAAAAAPh/AAAAAAAA+H8AAAAAAAD4fwAAAAAAAPh/AAAAAAAA+H8AAAAAAAD4fwAAAAAAAPh/AAAAAAAA+H8AAAAAAAD4fwAAAAAAAPh/AAAAAAAA+H8AAAAAAAD4fwAAAAAAAPh/AAAAAAAA+H8AAAAAAAD4fwAAAAAAAPh/AAAAAAAA+H8AAAAAAAD4fwAAAAAAAPh/AAAAgG87UUAAAAAgjB9RQAAAAMC3T1FAAAAAwNcZUUAAAACAekdRQAAAAOB6dFFAAAAA4FF4UUAAAAAghYtRQAAAAOCj0FFAAAAAANdDUkAAAADAHmVSQAAAAKBHkVJAAAAA4KNQUkAAAAAAAFBSQAAAAAApjFJAAAAAwB71UUAAAADAzOxRQAAAAKBw7VFAAAAAoJmpUkA=",
          "dtype": "f8"
         },
         "decreasing": {
          "line": {
           "color": "#EF5350"
          }
         },
         "high": {
          "bdata": "AAAAAAAA+H8AAAAAAAD4fwAAAAAAAPh/AAAAAAAA+H8AAAAAAAD4fwAAAAAAAPh/AAAAAAAA+H8AAAAAAAD4fwAAAAAAAPh/AAAAAAAA+H8AAAAAAAD4fwAAAAAAAPh/AAAAAAAA+H8AAAAAAAD4fwAAAAAAAPh/AAAAAAAA+H8AAAAAAAD4fwAAAAAAAPh/AAAAAAAA+H8AAAAAAAD4fwAAAAAAAPh/AAAAAAAA+H8AAAAAAAD4fwAAAAAAAPh/AAAAAAAA+H8AAAAAAAD4fwAAAAAAAPh/AAAAAAAA+H8AAAAAAAD4fwAAAAAAAPh/SvBySepLUUCnvDvsrENRQIfKX7Vze1FATgLoUSRuUUAruTcskblRQDNUaM6ikVFAAAAAwMx8UUAAAADAHsVRQAAAAMAe1VFAAAAAIFx/UkAAAACAPdpSQAAAAEDhqlJAAAAAQOF6UkAAAACgmWlSQAAAAIDCpVJAAAAAQAq3UkAAAADAHjVSQAAAAMDMPFJAAAAAYFbFUkA=",
          "dtype": "f8"
         },
         "increasing": {
          "line": {
           "color": "#26A69A"
          }
         },
         "low": {
          "bdata": "AAAAAAAA+H8AAAAAAAD4fwAAAAAAAPh/AAAAAAAA+H8AAAAAAAD4fwAAAAAAAPh/AAAAAAAA+H8AAAAAAAD4fwAAAAAAAPh/AAAAAAAA+H8AAAAAAAD4fwAAAAAAAPh/AAAAAAAA+H8AAAAAAAD4fwAAAAAAAPh/AAAAAAAA+H8AAAAAAAD4fwAAAAAAAPh/AAAAAAAA+H8AAAAAAAD4fwAAAAAAAPh/AAAAAAAA+H8AAAAAAAD4fwAAAAAAAPh/AAAAAAAA+H8AAAAAAAD4fwAAAAAAAPh/AAAAAAAA+H8AAAAAAAD4fwAAAAAAAPh/WukQ7iLnUEAhUoP3+slQQIJvKwxkAlFAtfqzGGQCUUAk8q/OzA1RQHuMDVhoQlFAAAAA4HokUUAAAACgmWlRQAAAAAApXFFAAAAAYLjeUUAAAABguC5SQAAAAGBmVlJAAAAAAAAwUkAAAAAgridSQAAAAEDhSlJAAAAAYI/SUUAAAADA9bhRQAAAAGCPwlFAAAAAgD3aUUA=",
          "dtype": "f8"
         },
         "name": "Price",
         "open": {
          "bdata": "AAAAAAAA+H8AAAAAAAD4fwAAAAAAAPh/AAAAAAAA+H8AAAAAAAD4fwAAAAAAAPh/AAAAAAAA+H8AAAAAAAD4fwAAAAAAAPh/AAAAAAAA+H8AAAAAAAD4fwAAAAAAAPh/AAAAAAAA+H8AAAAAAAD4fwAAAAAAAPh/AAAAAAAA+H8AAAAAAAD4fwAAAAAAAPh/AAAAAAAA+H8AAAAAAAD4fwAAAAAAAPh/AAAAAAAA+H8AAAAAAAD4fwAAAAAAAPh/AAAAAAAA+H8AAAAAAAD4fwAAAAAAAPh/AAAAAAAA+H8AAAAAAAD4fwAAAAAAAPh/hnRbyxE8UUBHdRqM7TFRQBUUVmFAJVFATXYO7Bg1UUAk8q/OzA1RQIhp+LM5WVFAAAAAoHBtUUAAAAAghWtRQAAAAKBwjVFAAAAAYLjeUUAAAAAA10NSQAAAACCuZ1JAAAAAIK53UkAAAADgo0BSQAAAAIDCVVJAAAAAoJmZUkAAAACAPdpRQAAAACCu91FAAAAAwMz8UUA=",
          "dtype": "f8"
         },
         "type": "candlestick",
         "x": {
          "bdata": "AAECAwQFBgcICQoLDA0ODxAREhMUFRYXGBkaGxwdHh8gISIjJCUmJygpKissLS4vMA==",
          "dtype": "i1"
         },
         "xaxis": "x3",
         "yaxis": "y3"
        },
        {
         "line": {
          "color": "white",
          "dash": "dot",
          "width": 1
         },
         "mode": "lines",
         "name": "Support",
         "showlegend": true,
         "type": "scatter",
         "x": {
          "bdata": "AAECAwQFBgcICQoLDA0ODxAREhMUFRYXGBkaGxwdHh8gISIjJCUmJygpKissLS4vMA==",
          "dtype": "i1"
         },
         "xaxis": "x3",
         "y": {
          "bdata": "AAAAAAAA+H8AAAAAAAD4fwAAAAAAAPh/AAAAAAAA+H8AAAAAAAD4fwAAAAAAAPh/AAAAAAAA+H8AAAAAAAD4fwAAAAAAAPh/AAAAAAAA+H8AAAAAAAD4fwAAAAAAAPh/AAAAAAAA+H8AAAAAAAD4fwAAAAAAAPh/AAAAAAAA+H8AAAAAAAD4fwAAAAAAAPh/AAAAAAAA+H8AAAAAAAD4fwAAAAAAAPh/AAAAAAAA+H8AAAAAAAD4fwAAAAAAAPh/AAAAAAAA+H8AAAAAAAD4fwAAAAAAAPh/AAAAAAAA+H8AAAAAAAD4fwAAAAAAAPh/AAAAAAAA+H8AAAAAAAD4fwAAAAAAAPh/AAAAAAAA+H8AAAAAAAD4fwAAAAAAAPh/AAAAAAAA+H/Xv14ewRNRQCJSg4/rRVFAAAAAAINrUUAlSZLEQbFRQCRJkuTe7VFAkSRJsjQ0UkDctm3DC0hSQG7bto3rIVJA/v//n8LpUUD///9n4aZRQAIAALhHlVFASJIkCcR+UUA=",
          "dtype": "f8"
         },
         "yaxis": "y3"
        },
        {
         "line": {
          "color": "white",
          "dash": "dot",
          "width": 1
         },
         "mode": "lines",
         "name": "Resistance",
         "showlegend": true,
         "type": "scatter",
         "x": {
          "bdata": "AAECAwQFBgcICQoLDA0ODxAREhMUFRYXGBkaGxwdHh8gISIjJCUmJygpKissLS4vMA==",
          "dtype": "i1"
         },
         "xaxis": "x3",
         "y": {
          "bdata": "AAAAAAAA+H8AAAAAAAD4fwAAAAAAAPh/AAAAAAAA+H8AAAAAAAD4fwAAAAAAAPh/AAAAAAAA+H8AAAAAAAD4fwAAAAAAAPh/AAAAAAAA+H8AAAAAAAD4fwAAAAAAAPh/AAAAAAAA+H8AAAAAAAD4fwAAAAAAAPh/AAAAAAAA+H8AAAAAAAD4fwAAAAAAAPh/AAAAAAAA+H8AAAAAAAD4fwAAAAAAAPh/AAAAAAAA+H8AAAAAAAD4fwAAAAAAAPh/AAAAAAAA+H8AAAAAAAD4fwAAAAAAAPh/AAAAAAAA+H8AAAAAAAD4fwAAAAAAAPh/AAAAAAAA+H8AAAAAAAD4fwAAAAAAAPh/AAAAAAAA+H8AAAAAAAD4fwAAAAAAAPh/AAAAAAAA+H8GcKU/dN5RQCy5N8xjAFJAK7k3DPQvUkCalO5527hSQCm5N+yODVNASJIkWUNGU0C4bduOxWdTQEmSJIkUXlNAtW3bFmI/U0AkSZIcEK9SQCVJkjQzi1JASJIk6T5jUkA=",
          "dtype": "f8"
         },
         "yaxis": "y3"
        },
        {
         "mode": "lines",
         "name": "EMA",
         "showlegend": true,
         "type": "scatter",
         "x": {
          "bdata": "AAECAwQFBgcICQoLDA0ODxAREhMUFRYXGBkaGxwdHh8gISIjJCUmJygpKissLS4vMA==",
          "dtype": "i1"
         },
         "xaxis": "x3",
         "y": {
          "bdata": "AAAAAAAA+H8AAAAAAAD4fwAAAAAAAPh/AAAAAAAA+H8AAAAAAAD4fwAAAAAAAPh/AAAAAAAA+H8AAAAAAAD4fwAAAAAAAPh/AAAAAAAA+H8AAAAAAAD4fwAAAAAAAPh/AAAAAAAA+H8AAAAAAAD4fwAAAAAAAPh/AAAAAAAA+H8AAAAAAAD4fwAAAAAAAPh/AAAAAAAA+H8AAAAAAAD4fwAAAAAAAPh/AAAAAAAA+H8AAAAAAAD4fwAAAAAAAPh/AAAAAAAA+H8AAAAAAAD4fwAAAAAAAPh/AAAAAAAA+H8AAAAAAAD4fwAAAAAAAPh/AAAAgG87UUB00UV35jhRQFJh4n35OlFAM0GfbPY3UUC6DKiFXzlRQO9/gRm/PlFACF0B/fpDUUB89+noe0pRQM4mphauVlFA0lGucT1sUUAF1hKQ3YJRQBzxVtdym1FAMNuUqeurUUDO9RI91rpRQF6CKMPdzVFA4eqBTm/RUUC2j0cq7NNRQOuZbwY+1lFAv9HZ5XTpUUA=",
          "dtype": "f8"
         },
         "yaxis": "y3"
        },
        {
         "marker": {
          "color": "lime",
          "line": {
           "color": "black",
           "width": 2
          },
          "size": 12,
          "symbol": "triangle-up"
         },
         "mode": "markers",
         "name": "Long Signals",
         "showlegend": true,
         "type": "scatter",
         "x": {
          "bdata": "MA==",
          "dtype": "i1"
         },
         "xaxis": "x3",
         "y": {
          "bdata": "AAAAoJmpUkA=",
          "dtype": "f8"
         },
         "yaxis": "y3"
        },
        {
         "close": {
          "bdata": "AAAAAAAA+H8AAAAAAAD4fwAAAAAAAPh/AAAAAAAA+H8AAAAAAAD4fwAAAAAAAPh/AAAAAAAA+H8AAAAAAAD4fwAAAAAAAPh/AAAAAAAA+H8AAAAAAAD4fwAAAAAAAPh/AAAAAAAA+H8AAAAAAAD4fwAAAAAAAPh/AAAAAAAA+H8AAAAAAAD4fwAAAAAAAPh/AAAAAAAA+H8AAAAAAAD4fwAAAAAAAPh/AAAAAAAA+H8AAAAAAAD4fwAAAAAAAPh/AAAAAAAA+H8AAAAAAAD4fwAAAAAAAPh/AAAAAAAA+H8AAAAAAAD4fwAAAAAAAPh/AAAA4FHYaUAAAAAAAHBpQAAAAADXM2lAAAAAgMJFaUAAAABA4XJpQAAAAKCZyWlAAAAAwPWQaUAAAAAgXJ9pQAAAAGBm/mlAAAAAIFxHakAAAADgemRqQAAAAMAeTWpAAAAAgBQuakAAAABguLZpQAAAAOBR+GlAAAAAgBS2aUAAAADAHr1pQAAAAIDrUWpAAAAAgOvZakA=",
          "dtype": "f8"
         },
         "decreasing": {
          "line": {
           "color": "#EF5350"
          }
         },
         "high": {
          "bdata": "AAAAAAAA+H8AAAAAAAD4fwAAAAAAAPh/AAAAAAAA+H8AAAAAAAD4fwAAAAAAAPh/AAAAAAAA+H8AAAAAAAD4fwAAAAAAAPh/AAAAAAAA+H8AAAAAAAD4fwAAAAAAAPh/AAAAAAAA+H8AAAAAAAD4fwAAAAAAAPh/AAAAAAAA+H8AAAAAAAD4fwAAAAAAAPh/AAAAAAAA+H8AAAAAAAD4fwAAAAAAAPh/AAAAAAAA+H8AAAAAAAD4fwAAAAAAAPh/AAAAAAAA+H8AAAAAAAD4fwAAAAAAAPh/AAAAAAAA+H8AAAAAAAD4fwAAAAAAAPh/AAAAoEdZakAAAAAgXN9pQAAAAEAzY2lAAAAAYGZ+aUAAAADAzLRpQAAAAMDM5GlAAAAA4KPoaUAAAABgj7JpQAAAAIDrYWpAAAAA4Hq0akAAAABgZpZqQAAAAOB6hGpAAAAAAACAakAAAAAgrj9qQAAAAEAzA2pAAAAAIK4vakAAAADgUQhqQAAAAGCPempAAAAAwMwEa0A=",
          "dtype": "f8"
         },
         "increasing": {
          "line": {
           "color": "#26A69A"
          }
         },
         "low": {
          "bdata": "AAAAAAAA+H8AAAAAAAD4fwAAAAAAAPh/AAAAAAAA+H8AAAAAAAD4fwAAAAAAAPh/AAAAAAAA+H8AAAAAAAD4fwAAAAAAAPh/AAAAAAAA+H8AAAAAAAD4fwAAAAAAAPh/AAAAAAAA+H8AAAAAAAD4fwAAAAAAAPh/AAAAAAAA+H8AAAAAAAD4fwAAAAAAAPh/AAAAAAAA+H8AAAAAAAD4fwAAAAAAAPh/AAAAAAAA+H8AAAAAAAD4fwAAAAAAAPh/AAAAAAAA+H8AAAAAAAD4fwAAAAAAAPh/AAAAAAAA+H8AAAAAAAD4fwAAAAAAAPh/AAAAoEe5aUAAAAAAAGBpQAAAAAAA+GhAAAAAoJmZaEAAAAAAAChpQAAAAIDCfWlAAAAAwPVYaUAAAABguCZpQAAAAMAetWlAAAAAwMwsakAAAABgZv5pQAAAAGBmLmpAAAAA4FEIakAAAADAzIRpQAAAAIAUnmlAAAAAIIWbaUAAAADgekxpQAAAAIAUnmlAAAAAwB41akA=",
          "dtype": "f8"
         },
         "name": "Price",
         "open": {
          "bdata": "AAAAAAAA+H8AAAAAAAD4fwAAAAAAAPh/AAAAAAAA+H8AAAAAAAD4fwAAAAAAAPh/AAAAAAAA+H8AAAAAAAD4fwAAAAAAAPh/AAAAAAAA+H8AAAAAAAD4fwAAAAAAAPh/AAAAAAAA+H8AAAAAAAD4fwAAAAAAAPh/AAAAAAAA+H8AAAAAAAD4fwAAAAAAAPh/AAAAAAAA+H8AAAAAAAD4fwAAAAAAAPh/AAAAAAAA+H8AAAAAAAD4fwAAAAAAAPh/AAAAAAAA+H8AAAAAAAD4fwAAAAAAAPh/AAAAAAAA+H8AAAAAAAD4fwAAAAAAAPh/AAAAANdLakAAAABAM7tpQAAAAAAASGlAAAAAYLjuaEAAAAAAKVRpQAAAAEAzg2lAAAAAgBSuaUAAAABguG5pQAAAAIA90mlAAAAAIIVTakAAAAAghTNqQAAAAMDMXGpAAAAAgD1CakAAAACAFP5pQAAAAKCZ4WlAAAAAYLguakAAAACAwrVpQAAAAIAUrmlAAAAAQApXakA=",
          "dtype": "f8"
         },
         "type": "candlestick",
         "x": {
          "bdata": "AAECAwQFBgcICQoLDA0ODxAREhMUFRYXGBkaGxwdHh8gISIjJCUmJygpKissLS4vMA==",
          "dtype": "i1"
         },
         "xaxis": "x4",
         "yaxis": "y4"
        },
        {
         "line": {
          "color": "white",
          "dash": "dot",
          "width": 1
         },
         "mode": "lines",
         "name": "Support",
         "showlegend": true,
         "type": "scatter",
         "x": {
          "bdata": "AAECAwQFBgcICQoLDA0ODxAREhMUFRYXGBkaGxwdHh8gISIjJCUmJygpKissLS4vMA==",
          "dtype": "i1"
         },
         "xaxis": "x4",
         "y": {
          "bdata": "AAAAAAAA+H8AAAAAAAD4fwAAAAAAAPh/AAAAAAAA+H8AAAAAAAD4fwAAAAAAAPh/AAAAAAAA+H8AAAAAAAD4fwAAAAAAAPh/AAAAAAAA+H8AAAAAAAD4fwAAAAAAAPh/AAAAAAAA+H8AAAAAAAD4fwAAAAAAAPh/AAAAAAAA+H8AAAAAAAD4fwAAAAAAAPh/AAAAAAAA+H8AAAAAAAD4fwAAAAAAAPh/AAAAAAAA+H8AAAAAAAD4fwAAAAAAAPh/AAAAAAAA+H8AAAAAAAD4fwAAAAAAAPh/AAAAAAAA+H8AAAAAAAD4fwAAAAAAAPh/AAAAAAAA+H8AAAAAAAD4fwAAAAAAAPh/AAAAAAAA+H8AAAAAAAD4fwAAAAAAAPh/AAAAAAAA+H8BAACAn51oQCNJkoTF62hAa9u2valIaUDatm1D5JJpQEmSJCnUwWlASZIkYbjWaUBMkiSpEexpQAAAAEiFUWlA/f//56NaaUABAACwzy5pQCRJkmQ9CmlAbdu2XVM9aUA=",
          "dtype": "f8"
         },
         "yaxis": "y4"
        },
        {
         "line": {
          "color": "white",
          "dash": "dot",
          "width": 1
         },
         "mode": "lines",
         "name": "Resistance",
         "showlegend": true,
         "type": "scatter",
         "x": {
          "bdata": "AAECAwQFBgcICQoLDA0ODxAREhMUFRYXGBkaGxwdHh8gISIjJCUmJygpKissLS4vMA==",
          "dtype": "i1"
         },
         "xaxis": "x4",
         "y": {
          "bdata": "AAAAAAAA+H8AAAAAAAD4fwAAAAAAAPh/AAAAAAAA+H8AAAAAAAD4fwAAAAAAAPh/AAAAAAAA+H8AAAAAAAD4fwAAAAAAAPh/AAAAAAAA+H8AAAAAAAD4fwAAAAAAAPh/AAAAAAAA+H8AAAAAAAD4fwAAAAAAAPh/AAAAAAAA+H8AAAAAAAD4fwAAAAAAAPh/AAAAAAAA+H8AAAAAAAD4fwAAAAAAAPh/AAAAAAAA+H8AAAAAAAD4fwAAAAAAAPh/AAAAAAAA+H8AAAAAAAD4fwAAAAAAAPh/AAAAAAAA+H8AAAAAAAD4fwAAAAAAAPh/AAAAAAAA+H8AAAAAAAD4fwAAAAAAAPh/AAAAAAAA+H8AAAAAAAD4fwAAAAAAAPh/AAAAAAAA+H8BAADoUWBqQP3//19mUmpAkiRJ2hh/akBJkiSBidhqQCRJksQIAmtAkyRJehQea0Ddtm27CzhrQCVJkjwN02pAkCRJAu1makABAABwBBNqQJIkSXJm8mlAtm3bnvtyakA=",
          "dtype": "f8"
         },
         "yaxis": "y4"
        },
        {
         "mode": "lines",
         "name": "EMA",
         "showlegend": true,
         "type": "scatter",
         "x": {
          "bdata": "AAECAwQFBgcICQoLDA0ODxAREhMUFRYXGBkaGxwdHh8gISIjJCUmJygpKissLS4vMA==",
          "dtype": "i1"
         },
         "xaxis": "x4",
         "y": {
          "bdata": "AAAAAAAA+H8AAAAAAAD4fwAAAAAAAPh/AAAAAAAA+H8AAAAAAAD4fwAAAAAAAPh/AAAAAAAA+H8AAAAAAAD4fwAAAAAAAPh/AAAAAAAA+H8AAAAAAAD4fwAAAAAAAPh/AAAAAAAA+H8AAAAAAAD4fwAAAAAAAPh/AAAAAAAA+H8AAAAAAAD4fwAAAAAAAPh/AAAAAAAA+H8AAAAAAAD4fwAAAAAAAPh/AAAAAAAA+H8AAAAAAAD4fwAAAAAAAPh/AAAAAAAA+H8AAAAAAAD4fwAAAAAAAPh/AAAAAAAA+H8AAAAAAAD4fwAAAAAAAPh/AAAA4FHYaUAXXXQR1s5pQCyDUuG+wGlAnOvtqZC1aUAZeZK3gK9pQEYohRLgsWlAP7AEC+KuaUDziBvHeK1pQCMIGTLUtGlAw3v/XibCaUBrEy486NBpQL5uWAIz3GlAfqpnmaTjaUD+mtIfj99pQHO71l/P4WlAaaqUqNXdaUBfbJ5N3NppQD9LpyOv5WlA9HIMLOP7aUA=",
          "dtype": "f8"
         },
         "yaxis": "y4"
        },
        {
         "marker": {
          "color": "lime",
          "line": {
           "color": "black",
           "width": 2
          },
          "size": 12,
          "symbol": "triangle-up"
         },
         "mode": "markers",
         "name": "Long Signals",
         "showlegend": true,
         "type": "scatter",
         "x": {
          "bdata": "LzA=",
          "dtype": "i1"
         },
         "xaxis": "x4",
         "y": {
          "bdata": "AAAAgOtRakAAAACA69lqQA==",
          "dtype": "f8"
         },
         "yaxis": "y4"
        },
        {
         "close": {
          "bdata": "AAAAAAAA+H8AAAAAAAD4fwAAAAAAAPh/AAAAAAAA+H8AAAAAAAD4fwAAAAAAAPh/AAAAAAAA+H8AAAAAAAD4fwAAAAAAAPh/AAAAAAAA+H8AAAAAAAD4fwAAAAAAAPh/AAAAAAAA+H8AAAAAAAD4fwAAAAAAAPh/AAAAAAAA+H8AAAAAAAD4fwAAAAAAAPh/AAAAAAAA+H8AAAAAAAD4fwAAAAAAAPh/AAAAAAAA+H8AAAAAAAD4fwAAAAAAAPh/AAAAAAAA+H8AAAAAAAD4fwAAAAAAAPh/AAAAAAAA+H8AAAAAAAD4fwAAAAAAAPh/AAAAAPUtUEAAAAAAWRhRQAAAAOC7l1FAAAAAwLosUUAAAAAgflVRQAAAAOASF1FAAAAA4P/1UUAAAACgrsNRQAAAACDcv1FAAAAAwCjdUUAAAACgWK9SQAAAAOD2mlJAAAAAwGw7UkAAAAAgridSQAAAAIA9+lFAAAAAIIWLUUAAAACAwgVRQAAAAIA9+lFAAAAAYI/iUUA=",
          "dtype": "f8"
         },
         "decreasing": {
          "line": {
           "color": "#EF5350"
          }
         },
         "high": {
          "bdata": "AAAAAAAA+H8AAAAAAAD4fwAAAAAAAPh/AAAAAAAA+H8AAAAAAAD4fwAAAAAAAPh/AAAAAAAA+H8AAAAAAAD4fwAAAAAAAPh/AAAAAAAA+H8AAAAAAAD4fwAAAAAAAPh/AAAAAAAA+H8AAAAAAAD4fwAAAAAAAPh/AAAAAAAA+H8AAAAAAAD4fwAAAAAAAPh/AAAAAAAA+H8AAAAAAAD4fwAAAAAAAPh/AAAAAAAA+H8AAAAAAAD4fwAAAAAAAPh/AAAAAAAA+H8AAAAAAAD4fwAAAAAAAPh/AAAAAAAA+H8AAAAAAAD4fwAAAAAAAPh/qIqlZnJVUEAG8z+ejjdRQGD9FM3soVFAikCm6VZ1UUDxs4KWllpRQIAyuhuop1FA7aZzTbv7UUCGJloP6fdRQD1bZebO61FACiymHUkFUkD5jhwMX8tSQAHHVmtdxFJAVfFB5KnhUkAcBOexfIFSQAAAAGC4HlJAAAAAoEdhUkAAAADgo3BRQAAAACCFC1JAAAAAIMssUkA=",
          "dtype": "f8"
         },
         "increasing": {
          "line": {
           "color": "#26A69A"
          }
         },
         "low": {
          "bdata": "AAAAAAAA+H8AAAAAAAD4fwAAAAAAAPh/AAAAAAAA+H8AAAAAAAD4fwAAAAAAAPh/AAAAAAAA+H8AAAAAAAD4fwAAAAAAAPh/AAAAAAAA+H8AAAAAAAD4fwAAAAAAAPh/AAAAAAAA+H8AAAAAAAD4fwAAAAAAAPh/AAAAAAAA+H8AAAAAAAD4fwAAAAAAAPh/AAAAAAAA+H8AAAAAAAD4fwAAAAAAAPh/AAAAAAAA+H8AAAAAAAD4fwAAAAAAAPh/AAAAAAAA+H8AAAAAAAD4fwAAAAAAAPh/AAAAAAAA+H8AAAAAAAD4fwAAAAAAAPh/8qF69oPOT0CIguCSSW5QQNhXDAOcC1FAWxP03Tv+UEDWxtivZOVQQFg6dxfLDlFAik7FrzE4UUDIg8ISyWtRQGmKLlEsh1FAALtJI6inUUA3+BsoDcpRQIi0WIBXRFJAqWbq1JANUkA6rf872hxSQAAAAEAzk1FAAAAAwPVYUUAAAACgcM1QQAAAAOB6RFFAAAAAICiyUUA=",
          "dtype": "f8"
         },
         "name": "Price",
         "open": {
          "bdata": "AAAAAAAA+H8AAAAAAAD4fwAAAAAAAPh/AAAAAAAA+H8AAAAAAAD4fwAAAAAAAPh/AAAAAAAA+H8AAAAAAAD4fwAAAAAAAPh/AAAAAAAA+H8AAAAAAAD4fwAAAAAAAPh/AAAAAAAA+H8AAAAAAAD4fwAAAAAAAPh/AAAAAAAA+H8AAAAAAAD4fwAAAAAAAPh/AAAAAAAA+H8AAAAAAAD4fwAAAAAAAPh/AAAAAAAA+H8AAAAAAAD4fwAAAAAAAPh/AAAAAAAA+H8AAAAAAAD4fwAAAAAAAPh/AAAAAAAA+H8AAAAAAAD4fwAAAAAAAPh/BeZYIaoXUEDLcdnbG3JQQNhXDAOcC1FAzy6mBYNqUUDxtBEGpzxRQELQYgzjd1FAhzbByQhRUUCGJloP6fdRQHBQWi7Cs1FA6144RIfjUUD87rPUKN1RQHPNPWRVoVJAbRt2MgXaUkDaaT7AOCNSQAAAAEDhClJAAAAAgOshUkAAAAAgXF9RQAAAACCFW1FAAAAAYLjOUUA=",
          "dtype": "f8"
         },
         "type": "candlestick",
         "x": {
          "bdata": "AAECAwQFBgcICQoLDA0ODxAREhMUFRYXGBkaGxwdHh8gISIjJCUmJygpKissLS4vMA==",
          "dtype": "i1"
         },
         "xaxis": "x5",
         "yaxis": "y5"
        },
        {
         "line": {
          "color": "white",
          "dash": "dot",
          "width": 1
         },
         "mode": "lines",
         "name": "Support",
         "showlegend": true,
         "type": "scatter",
         "x": {
          "bdata": "AAECAwQFBgcICQoLDA0ODxAREhMUFRYXGBkaGxwdHh8gISIjJCUmJygpKissLS4vMA==",
          "dtype": "i1"
         },
         "xaxis": "x5",
         "y": {
          "bdata": "AAAAAAAA+H8AAAAAAAD4fwAAAAAAAPh/AAAAAAAA+H8AAAAAAAD4fwAAAAAAAPh/AAAAAAAA+H8AAAAAAAD4fwAAAAAAAPh/AAAAAAAA+H8AAAAAAAD4fwAAAAAAAPh/AAAAAAAA+H8AAAAAAAD4fwAAAAAAAPh/AAAAAAAA+H8AAAAAAAD4fwAAAAAAAPh/AAAAAAAA+H8AAAAAAAD4fwAAAAAAAPh/AAAAAAAA+H8AAAAAAAD4fwAAAAAAAPh/AAAAAAAA+H8AAAAAAAD4fwAAAAAAAPh/AAAAAAAA+H8AAAAAAAD4fwAAAAAAAPh/AAAAAAAA+H8AAAAAAAD4fwAAAAAAAPh/AAAAAAAA+H8AAAAAAAD4fwAAAAAAAPh/AAAAAAAA+H/6UD2jFyxRQIiC4NKBGFFA+g9rhHZNUUCLNLTGYqlRQICKQJFS+1FAXEGu/Hc5UkCHTsWXxhNSQMWDwooEJFJA27ZtW6OaUUAAu0mrDfNQQG3wN8Cv5U9Abdu2XZtzUEA=",
          "dtype": "f8"
         },
         "yaxis": "y5"
        },
        {
         "line": {
          "color": "white",
          "dash": "dot",
          "width": 1
         },
         "mode": "lines",
         "name": "Resistance",
         "showlegend": true,
         "type": "scatter",
         "x": {
          "bdata": "AAECAwQFBgcICQoLDA0ODxAREhMUFRYXGBkaGxwdHh8gISIjJCUmJygpKissLS4vMA==",
          "dtype": "i1"
         },
         "xaxis": "x5",
         "y": {
          "bdata": "AAAAAAAA+H8AAAAAAAD4fwAAAAAAAPh/AAAAAAAA+H8AAAAAAAD4fwAAAAAAAPh/AAAAAAAA+H8AAAAAAAD4fwAAAAAAAPh/AAAAAAAA+H8AAAAAAAD4fwAAAAAAAPh/AAAAAAAA+H8AAAAAAAD4fwAAAAAAAPh/AAAAAAAA+H8AAAAAAAD4fwAAAAAAAPh/AAAAAAAA+H8AAAAAAAD4fwAAAAAAAPh/AAAAAAAA+H8AAAAAAAD4fwAAAAAAAPh/AAAAAAAA+H8AAAAAAAD4fwAAAAAAAPh/AAAAAAAA+H8AAAAAAAD4fwAAAAAAAPh/AAAAAAAA+H8AAAAAAAD4fwAAAAAAAPh/AAAAAAAA+H8AAAAAAAD4fwAAAAAAAPh/AAAAAAAA+H88tIIg84lSQPIhXt/TM1JANjmYZiw6UkAQ8AWyZH5SQEIhQXWk/FJAXIIqy/tJU0Cv/PdKeilTQGVq05mlNFNA5xWLNvr3UkDDzPgxdnpSQG3bth2m2lFAt23bfpreUUA=",
          "dtype": "f8"
         },
         "yaxis": "y5"
        },
        {
         "mode": "lines",
         "name": "EMA",
         "showlegend": true,
         "type": "scatter",
         "x": {
          "bdata": "AAECAwQFBgcICQoLDA0ODxAREhMUFRYXGBkaGxwdHh8gISIjJCUmJygpKissLS4vMA==",
          "dtype": "i1"
         },
         "xaxis": "x5",
         "y": {
          "bdata": "AAAAAAAA+H8AAAAAAAD4fwAAAAAAAPh/AAAAAAAA+H8AAAAAAAD4fwAAAAAAAPh/AAAAAAAA+H8AAAAAAAD4fwAAAAAAAPh/AAAAAAAA+H8AAAAAAAD4fwAAAAAAAPh/AAAAAAAA+H8AAAAAAAD4fwAAAAAAAPh/AAAAAAAA+H8AAAAAAAD4fwAAAAAAAPh/AAAAAAAA+H8AAAAAAAD4fwAAAAAAAPh/AAAAAAAA+H8AAAAAAAD4fwAAAAAAAPh/AAAAAAAA+H8AAAAAAAD4fwAAAAAAAPh/AAAAAAAA+H8AAAAAAAD4fwAAAAAAAPh/AAAAAPUtUECMLrroQ0NQQDnN14o3YlBAHemsj6B0UECPX1fLEYlQQGuFrJ76lVBAp+35GPu1UECYBinIf85QQEQda+dw5FBAVQPtQA37UECTMcADtyJRQONyl13rRFFAWgv+N1RbUUBSCkQH6G1RQGIJ+PqpelFAWU4nRDJ8UUDc0oDsbXFRQGuoo+LdfVFAkGogSwWHUUA=",
          "dtype": "f8"
         },
         "yaxis": "y5"
        },
        {
         "marker": {
          "color": "lime",
          "line": {
           "color": "black",
           "width": 2
          },
          "size": 12,
          "symbol": "triangle-up"
         },
         "mode": "markers",
         "name": "Long Signals",
         "showlegend": true,
         "type": "scatter",
         "x": {
          "bdata": "LzA=",
          "dtype": "i1"
         },
         "xaxis": "x5",
         "y": {
          "bdata": "AAAAgD36UUAAAABgj+JRQA==",
          "dtype": "f8"
         },
         "yaxis": "y5"
        },
        {
         "close": {
          "bdata": "AAAAAAAA+H8AAAAAAAD4fwAAAAAAAPh/AAAAAAAA+H8AAAAAAAD4fwAAAAAAAPh/AAAAAAAA+H8AAAAAAAD4fwAAAAAAAPh/AAAAAAAA+H8AAAAAAAD4fwAAAAAAAPh/AAAAAAAA+H8AAAAAAAD4fwAAAAAAAPh/AAAAAAAA+H8AAAAAAAD4fwAAAAAAAPh/AAAAAAAA+H8AAAAAAAD4fwAAAAAAAPh/AAAAAAAA+H8AAAAAAAD4fwAAAAAAAPh/AAAAAAAA+H8AAAAAAAD4fwAAAAAAAPh/AAAAAAAA+H8AAAAAAAD4fwAAAAAAAPh/AAAAwB5FQUAAAADAzIxBQAAAAKCZOUJAAAAA4HpUQkAAAABA4VpCQAAAACBcT0JAAAAAoEcBQ0AAAABAM9NCQAAAAOBRGENAAAAAAAAgQ0AAAAAAKfxCQAAAAGC4HkNAAAAAoJkZQ0AAAACgmdlCQAAAAEAzc0JAAAAAwB7FQUAAAADAzExCQAAAAKCZuUNAAAAAoEchREA=",
          "dtype": "f8"
         },
         "decreasing": {
          "line": {
           "color": "#EF5350"
          }
         },
         "high": {
          "bdata": "AAAAAAAA+H8AAAAAAAD4fwAAAAAAAPh/AAAAAAAA+H8AAAAAAAD4fwAAAAAAAPh/AAAAAAAA+H8AAAAAAAD4fwAAAAAAAPh/AAAAAAAA+H8AAAAAAAD4fwAAAAAAAPh/AAAAAAAA+H8AAAAAAAD4fwAAAAAAAPh/AAAAAAAA+H8AAAAAAAD4fwAAAAAAAPh/AAAAAAAA+H8AAAAAAAD4fwAAAAAAAPh/AAAAAAAA+H8AAAAAAAD4fwAAAAAAAPh/AAAAAAAA+H8AAAAAAAD4fwAAAAAAAPh/AAAAAAAA+H8AAAAAAAD4fwAAAAAAAPh/AAAAIK6HQUAAAAAA16NBQAAAAIDCdUJAAAAAoHB9QkAAAADgUZhCQAAAAMDMjEJAAAAAgMIVQ0AAAABA4fpCQAAAAGBmJkNAAAAAQOFaQ0AAAADAzExDQAAAAIDCNUNAAAAAoEdBQ0AAAACgR0FDQAAAACBc70JAAAAAIIXLQkAAAACAPYpCQAAAAAAAwENAAAAAAJNZREA=",
          "dtype": "f8"
         },
         "increasing": {
          "line": {
           "color": "#26A69A"
          }
         },
         "low": {
          "bdata": "AAAAAAAA+H8AAAAAAAD4fwAAAAAAAPh/AAAAAAAA+H8AAAAAAAD4fwAAAAAAAPh/AAAAAAAA+H8AAAAAAAD4fwAAAAAAAPh/AAAAAAAA+H8AAAAAAAD4fwAAAAAAAPh/AAAAAAAA+H8AAAAAAAD4fwAAAAAAAPh/AAAAAAAA+H8AAAAAAAD4fwAAAAAAAPh/AAAAAAAA+H8AAAAAAAD4fwAAAAAAAPh/AAAAAAAA+H8AAAAAAAD4fwAAAAAAAPh/AAAAAAAA+H8AAAAAAAD4fwAAAAAAAPh/AAAAAAAA+H8AAAAAAAD4fwAAAAAAAPh/AAAAYGbmQEAAAABguB5BQAAAAGCPYkFAAAAAgML1QUAAAACAwvVBQAAAAMD1SEJAAAAAYLheQkAAAAAgrodCQAAAAOB61EJAAAAAwPXoQkAAAACAwvVCQAAAAMAe5UJAAAAAIFzvQkAAAACAwtVCQAAAAGCPYkJAAAAAwMysQUAAAACAPapBQAAAAEAzk0JAAAAAgBSuQ0A=",
          "dtype": "f8"
         },
         "name": "Price",
         "open": {
          "bdata": "AAAAAAAA+H8AAAAAAAD4fwAAAAAAAPh/AAAAAAAA+H8AAAAAAAD4fwAAAAAAAPh/AAAAAAAA+H8AAAAAAAD4fwAAAAAAAPh/AAAAAAAA+H8AAAAAAAD4fwAAAAAAAPh/AAAAAAAA+H8AAAAAAAD4fwAAAAAAAPh/AAAAAAAA+H8AAAAAAAD4fwAAAAAAAPh/AAAAAAAA+H8AAAAAAAD4fwAAAAAAAPh/AAAAAAAA+H8AAAAAAAD4fwAAAAAAAPh/AAAAAAAA+H8AAAAAAAD4fwAAAAAAAPh/AAAAAAAA+H8AAAAAAAD4fwAAAAAAAPh/AAAAYLh+QUAAAADAzExBQAAAAAApfEFAAAAAAAAAQkAAAAAA12NCQAAAACCuZ0JAAAAAANdjQkAAAACgmZlCQAAAAKCZ+UJAAAAAQOE6Q0AAAABACjdDQAAAAEAz80JAAAAAoHA9Q0AAAADgehRDQAAAAOB6tEJAAAAAIIXLQkAAAABguL5BQAAAAMAepUJAAAAAQDOzQ0A=",
          "dtype": "f8"
         },
         "type": "candlestick",
         "x": {
          "bdata": "AAECAwQFBgcICQoLDA0ODxAREhMUFRYXGBkaGxwdHh8gISIjJCUmJygpKissLS4vMA==",
          "dtype": "i1"
         },
         "xaxis": "x6",
         "yaxis": "y6"
        },
        {
         "line": {
          "color": "white",
          "dash": "dot",
          "width": 1
         },
         "mode": "lines",
         "name": "Support",
         "showlegend": true,
         "type": "scatter",
         "x": {
          "bdata": "AAECAwQFBgcICQoLDA0ODxAREhMUFRYXGBkaGxwdHh8gISIjJCUmJygpKissLS4vMA==",
          "dtype": "i1"
         },
         "xaxis": "x6",
         "y": {
          "bdata": "AAAAAAAA+H8AAAAAAAD4fwAAAAAAAPh/AAAAAAAA+H8AAAAAAAD4fwAAAAAAAPh/AAAAAAAA+H8AAAAAAAD4fwAAAAAAAPh/AAAAAAAA+H8AAAAAAAD4fwAAAAAAAPh/AAAAAAAA+H8AAAAAAAD4fwAAAAAAAPh/AAAAAAAA+H8AAAAAAAD4fwAAAAAAAPh/AAAAAAAA+H8AAAAAAAD4fwAAAAAAAPh/AAAAAAAA+H8AAAAAAAD4fwAAAAAAAPh/AAAAAAAA+H8AAAAAAAD4fwAAAAAAAPh/AAAAAAAA+H8AAAAAAAD4fwAAAAAAAPh/AAAAAAAA+H8AAAAAAAD4fwAAAAAAAPh/AAAAAAAA+H8AAAAAAAD4fwAAAAAAAPh/AAAAAAAA+H8kSZIExJZCQAIAAJAUdkJAAAAAWI9yQkDbtm27COZCQP///8/M3EJAR5IkSUnyQkACAAA4ro9CQAEAAODMjEJA////38w8QkC2bdv2YXtBQLdt2yb3SUFASZIk8RKVQUA=",
          "dtype": "f8"
         },
         "yaxis": "y6"
        },
        {
         "line": {
          "color": "white",
          "dash": "dot",
          "width": 1
         },
         "mode": "lines",
         "name": "Resistance",
         "showlegend": true,
         "type": "scatter",
         "x": {
          "bdata": "AAECAwQFBgcICQoLDA0ODxAREhMUFRYXGBkaGxwdHh8gISIjJCUmJygpKissLS4vMA==",
          "dtype": "i1"
         },
         "xaxis": "x6",
         "y": {
          "bdata": "AAAAAAAA+H8AAAAAAAD4fwAAAAAAAPh/AAAAAAAA+H8AAAAAAAD4fwAAAAAAAPh/AAAAAAAA+H8AAAAAAAD4fwAAAAAAAPh/AAAAAAAA+H8AAAAAAAD4fwAAAAAAAPh/AAAAAAAA+H8AAAAAAAD4fwAAAAAAAPh/AAAAAAAA+H8AAAAAAAD4fwAAAAAAAPh/AAAAAAAA+H8AAAAAAAD4fwAAAAAAAPh/AAAAAAAA+H8AAAAAAAD4fwAAAAAAAPh/AAAAAAAA+H8AAAAAAAD4fwAAAAAAAPh/AAAAAAAA+H8AAAAAAAD4fwAAAAAAAPh/AAAAAAAA+H8AAAAAAAD4fwAAAAAAAPh/AAAAAAAA+H8AAAAAAAD4fwAAAAAAAPh/AAAAAAAA+H9IkiSJIa9DQCZJkoQRnENAbdu2xVSKQ0CSJElS8bVDQG3btt3JukNAR5IkaVOpQ0CTJEly23ZDQAEAAICJXkNAtm3bVvEVQ0AkSZJEB61CQG7btm2ce0JAbtu2ZRe4Q0A=",
          "dtype": "f8"
         },
         "yaxis": "y6"
        },
        {
         "mode": "lines",
         "name": "EMA",
         "showlegend": true,
         "type": "scatter",
         "x": {
          "bdata": "AAECAwQFBgcICQoLDA0ODxAREhMUFRYXGBkaGxwdHh8gISIjJCUmJygpKissLS4vMA==",
          "dtype": "i1"
         },
         "xaxis": "x6",
         "y": {
          "bdata": "AAAAAAAA+H8AAAAAAAD4fwAAAAAAAPh/AAAAAAAA+H8AAAAAAAD4fwAAAAAAAPh/AAAAAAAA+H8AAAAAAAD4fwAAAAAAAPh/AAAAAAAA+H8AAAAAAAD4fwAAAAAAAPh/AAAAAAAA+H8AAAAAAAD4fwAAAAAAAPh/AAAAAAAA+H8AAAAAAAD4fwAAAAAAAPh/AAAAAAAA+H8AAAAAAAD4fwAAAAAAAPh/AAAAAAAA+H8AAAAAAAD4fwAAAAAAAPh/AAAAAAAA+H8AAAAAAAD4fwAAAAAAAPh/AAAAAAAA+H8AAAAAAAD4fwAAAAAAAPh/AAAAwB5FQUDpoovuoktBQNN8rf5EYUFAqCtvKmF3QUAk+Qe4D4xBQCFuwdjQnUFA2EyBdiG+QUBndBigUddBQF6YijGA9EFAskSVW7oPQkCi+J7HOCVCQGRW1knnO0JAoasIxg5QQkDBhJPCj1xCQMfVbp+eXkJAhnxNRapQQkDW/HRQUFBCQB/99W4ocUJAYv1TFnGYQkA=",
          "dtype": "f8"
         },
         "yaxis": "y6"
        },
        {
         "marker": {
          "color": "lime",
          "line": {
           "color": "black",
           "width": 2
          },
          "size": 12,
          "symbol": "triangle-up"
         },
         "mode": "markers",
         "name": "Long Signals",
         "showlegend": true,
         "type": "scatter",
         "x": {
          "bdata": "LzA=",
          "dtype": "i1"
         },
         "xaxis": "x6",
         "y": {
          "bdata": "AAAAoJm5Q0AAAACgRyFEQA==",
          "dtype": "f8"
         },
         "yaxis": "y6"
        },
        {
         "close": {
          "bdata": "AAAAAAAA+H8AAAAAAAD4fwAAAAAAAPh/AAAAAAAA+H8AAAAAAAD4fwAAAAAAAPh/AAAAAAAA+H8AAAAAAAD4fwAAAAAAAPh/AAAAAAAA+H8AAAAAAAD4fwAAAAAAAPh/AAAAAAAA+H8AAAAAAAD4fwAAAAAAAPh/AAAAAAAA+H8AAAAAAAD4fwAAAAAAAPh/AAAAAAAA+H8AAAAAAAD4fwAAAAAAAPh/AAAAAAAA+H8AAAAAAAD4fwAAAAAAAPh/AAAAAAAA+H8AAAAAAAD4fwAAAAAAAPh/AAAAAAAA+H8AAAAAAAD4fwAAAAAAAPh/AAAAwCM1TUAAAABguWJNQAAAACDUuE1AAAAAQPqJTUAAAACgFs1NQAAAAIBDFU5AAAAAQLZLTkAAAACAyD1OQAAAAIBSFFFAAAAAoFq1UEAAAADAEJVQQAAAAIAI9FBAAAAAQHrSUEAAAACgOFNQQAAAAIA9GlBAAAAA4FHYT0AAAAAgrudOQAAAAMAehU9AAAAAoEfBT0A=",
          "dtype": "f8"
         },
         "decreasing": {
          "line": {
           "color": "#EF5350"
          }
         },
         "high": {
          "bdata": "AAAAAAAA+H8AAAAAAAD4fwAAAAAAAPh/AAAAAAAA+H8AAAAAAAD4fwAAAAAAAPh/AAAAAAAA+H8AAAAAAAD4fwAAAAAAAPh/AAAAAAAA+H8AAAAAAAD4fwAAAAAAAPh/AAAAAAAA+H8AAAAAAAD4fwAAAAAAAPh/AAAAAAAA+H8AAAAAAAD4fwAAAAAAAPh/AAAAAAAA+H8AAAAAAAD4fwAAAAAAAPh/AAAAAAAA+H8AAAAAAAD4fwAAAAAAAPh/AAAAAAAA+H8AAAAAAAD4fwAAAAAAAPh/AAAAAAAA+H8AAAAAAAD4fwAAAAAAAPh/fXBZbteSTUDSC/f+e9hNQND6CbaM3U1Auj/CAk+QTUCuHAIf8uhNQIqh8edBKE5A30KGroJPTkBPIDRHomxOQHlx20BeUlFAFEAb1hUfUUAMhXzElb1QQL+rJU2nGlFA7g9byZ8OUUDKieDKac1QQIkTTMy3XFBAAAAAoJlJUEAAAAAghetPQAAAAMD1qE9AAAAAQAr3T0A=",
          "dtype": "f8"
         },
         "increasing": {
          "line": {
           "color": "#26A69A"
          }
         },
         "low": {
          "bdata": "AAAAAAAA+H8AAAAAAAD4fwAAAAAAAPh/AAAAAAAA+H8AAAAAAAD4fwAAAAAAAPh/AAAAAAAA+H8AAAAAAAD4fwAAAAAAAPh/AAAAAAAA+H8AAAAAAAD4fwAAAAAAAPh/AAAAAAAA+H8AAAAAAAD4fwAAAAAAAPh/AAAAAAAA+H8AAAAAAAD4fwAAAAAAAPh/AAAAAAAA+H8AAAAAAAD4fwAAAAAAAPh/AAAAAAAA+H8AAAAAAAD4fwAAAAAAAPh/AAAAAAAA+H8AAAAAAAD4fwAAAAAAAPh/AAAAAAAA+H8AAAAAAAD4fwAAAAAAAPh/mhQein0CTUCQlv8/0ghNQLMf1ZfuS01Ap/ovuBQdTUBumN+WDHxNQFXnifGPt01AhJ17jX3FTUCun+bGwcZNQJ/JH8CJiU9ABDiK7PaWUEBBApKsvCNQQExKFIf4g1BAfmn6RT/KUECImkKjn0tQQEEsXCCmzE9AAAAAQOG6T0AAAADAHuVOQAAAAGBmxk5AAAAA4IxAT0A=",
          "dtype": "f8"
         },
         "name": "Price",
         "open": {
          "bdata": "AAAAAAAA+H8AAAAAAAD4fwAAAAAAAPh/AAAAAAAA+H8AAAAAAAD4fwAAAAAAAPh/AAAAAAAA+H8AAAAAAAD4fwAAAAAAAPh/AAAAAAAA+H8AAAAAAAD4fwAAAAAAAPh/AAAAAAAA+H8AAAAAAAD4fwAAAAAAAPh/AAAAAAAA+H8AAAAAAAD4fwAAAAAAAPh/AAAAAAAA+H8AAAAAAAD4fwAAAAAAAPh/AAAAAAAA+H8AAAAAAAD4fwAAAAAAAPh/AAAAAAAA+H8AAAAAAAD4fwAAAAAAAPh/AAAAAAAA+H8AAAAAAAD4fwAAAAAAAPh/fXBZbteSTUA6kDudZFxNQGZSE+x2Tk1A4yiQJJhYTUAk/oP3BchNQFXnifGPt01ACJgWfEMVTkBXEVInuxJOQF43+RiXtE9AcSVHHfYBUUAsBs2qWrVQQFggTPJdj1BAr21jlSAFUUBdpYwUqK9QQODp0e8nTlBAAAAAgD0aUEAAAABACtdPQAAAACCu505AAAAAgD1qT0A=",
          "dtype": "f8"
         },
         "type": "candlestick",
         "x": {
          "bdata": "AAECAwQFBgcICQoLDA0ODxAREhMUFRYXGBkaGxwdHh8gISIjJCUmJygpKissLS4vMA==",
          "dtype": "i1"
         },
         "xaxis": "x7",
         "yaxis": "y7"
        },
        {
         "line": {
          "color": "white",
          "dash": "dot",
          "width": 1
         },
         "mode": "lines",
         "name": "Support",
         "showlegend": true,
         "type": "scatter",
         "x": {
          "bdata": "AAECAwQFBgcICQoLDA0ODxAREhMUFRYXGBkaGxwdHh8gISIjJCUmJygpKissLS4vMA==",
          "dtype": "i1"
         },
         "xaxis": "x7",
         "y": {
          "bdata": "AAAAAAAA+H8AAAAAAAD4fwAAAAAAAPh/AAAAAAAA+H8AAAAAAAD4fwAAAAAAAPh/AAAAAAAA+H8AAAAAAAD4fwAAAAAAAPh/AAAAAAAA+H8AAAAAAAD4fwAAAAAAAPh/AAAAAAAA+H8AAAAAAAD4fwAAAAAAAPh/AAAAAAAA+H8AAAAAAAD4fwAAAAAAAPh/AAAAAAAA+H8AAAAAAAD4fwAAAAAAAPh/AAAAAAAA+H8AAAAAAAD4fwAAAAAAAPh/AAAAAAAA+H8AAAAAAAD4fwAAAAAAAPh/AAAAAAAA+H8AAAAAAAD4fwAAAAAAAPh/AAAAAAAA+H8AAAAAAAD4fwAAAAAAAPh/AAAAAAAA+H8AAAAAAAD4fwAAAAAAAPh/AAAAAAAA+H8V1ublX8pNQBbW5s3D301A0uh4i+DcTkBkDcLtPPlPQCHilzxyXFBAanS8XUm1UED8mAVYtqRQQLGf5ga/ck9An8kfAP3OTUBgu5EEmZZOQIQEJOGkMU1AmJQoVpCrTUA=",
          "dtype": "f8"
         },
         "yaxis": "y7"
        },
        {
         "line": {
          "color": "white",
          "dash": "dot",
          "width": 1
         },
         "mode": "lines",
         "name": "Resistance",
         "showlegend": true,
         "type": "scatter",
         "x": {
          "bdata": "AAECAwQFBgcICQoLDA0ODxAREhMUFRYXGBkaGxwdHh8gISIjJCUmJygpKissLS4vMA==",
          "dtype": "i1"
         },
         "xaxis": "x7",
         "y": {
          "bdata": "AAAAAAAA+H8AAAAAAAD4fwAAAAAAAPh/AAAAAAAA+H8AAAAAAAD4fwAAAAAAAPh/AAAAAAAA+H8AAAAAAAD4fwAAAAAAAPh/AAAAAAAA+H8AAAAAAAD4fwAAAAAAAPh/AAAAAAAA+H8AAAAAAAD4fwAAAAAAAPh/AAAAAAAA+H8AAAAAAAD4fwAAAAAAAPh/AAAAAAAA+H8AAAAAAAD4fwAAAAAAAPh/AAAAAAAA+H8AAAAAAAD4fwAAAAAAAPh/AAAAAAAA+H8AAAAAAAD4fwAAAAAAAPh/AAAAAAAA+H8AAAAAAAD4fwAAAAAAAPh/AAAAAAAA+H8AAAAAAAD4fwAAAAAAAPh/AAAAAAAA+H8AAAAAAAD4fwAAAAAAAPh/AAAAAAAA+H/3VInDbNxOQNQL97YK6U5AwgMA8uWXUUALliSj3A1SQDDftkMrbVJAVChJPBjHUkDDAwAi0MhSQMMDAMrKCVJAycbIxMqvUEA4on8CVX5QQLjWI4YV6U9Ako2RGcg7T0A=",
          "dtype": "f8"
         },
         "yaxis": "y7"
        },
        {
         "mode": "lines",
         "name": "EMA",
         "showlegend": true,
         "type": "scatter",
         "x": {
          "bdata": "AAECAwQFBgcICQoLDA0ODxAREhMUFRYXGBkaGxwdHh8gISIjJCUmJygpKissLS4vMA==",
          "dtype": "i1"
         },
         "xaxis": "x7",
         "y": {
          "bdata": "AAAAAAAA+H8AAAAAAAD4fwAAAAAAAPh/AAAAAAAA+H8AAAAAAAD4fwAAAAAAAPh/AAAAAAAA+H8AAAAAAAD4fwAAAAAAAPh/AAAAAAAA+H8AAAAAAAD4fwAAAAAAAPh/AAAAAAAA+H8AAAAAAAD4fwAAAAAAAPh/AAAAAAAA+H8AAAAAAAD4fwAAAAAAAPh/AAAAAAAA+H8AAAAAAAD4fwAAAAAAAPh/AAAAAAAA+H8AAAAAAAD4fwAAAAAAAPh/AAAAAAAA+H8AAAAAAAD4fwAAAAAAAPh/AAAAAAAA+H8AAAAAAAD4fwAAAAAAAPh/AAAAwCM1TUAAAACgSDlNQBdddPHgRE1AFCbeDylLTUBXCyfX+FZNQKx+I3JFaE1AnEQgnPJ8TUDUDwZreo5NQB731o+V+U1AkIMgt69JTkBUYGPJooxOQO/LKxTE2k5AfBY/NbEbT0DOiPMelD9PQEYfxqfXVU9Ay5CFOLRhT0Chg9ZknFZPQGRgN8rWWk9AuLSm3SZkT0A=",
          "dtype": "f8"
         },
         "yaxis": "y7"
        },
        {
         "marker": {
          "color": "lime",
          "line": {
           "color": "black",
           "width": 2
          },
          "size": 12,
          "symbol": "triangle-up"
         },
         "mode": "markers",
         "name": "Long Signals",
         "showlegend": true,
         "type": "scatter",
         "x": {
          "bdata": "MA==",
          "dtype": "i1"
         },
         "xaxis": "x7",
         "y": {
          "bdata": "AAAAoEfBT0A=",
          "dtype": "f8"
         },
         "yaxis": "y7"
        },
        {
         "close": {
          "bdata": "AAAAAAAA+H8AAAAAAAD4fwAAAAAAAPh/AAAAAAAA+H8AAAAAAAD4fwAAAAAAAPh/AAAAAAAA+H8AAAAAAAD4fwAAAAAAAPh/AAAAAAAA+H8AAAAAAAD4fwAAAAAAAPh/AAAAAAAA+H8AAAAAAAD4fwAAAAAAAPh/AAAAAAAA+H8AAAAAAAD4fwAAAAAAAPh/AAAAAAAA+H8AAAAAAAD4fwAAAAAAAPh/AAAAAAAA+H8AAAAAAAD4fwAAAAAAAPh/AAAAAAAA+H8AAAAAAAD4fwAAAAAAAPh/AAAAAAAA+H8AAAAAAAD4fwAAAAAAAPh/AAAAIFy7dEAAAADAHuV0QAAAAKCZBXVAAAAAQDP3dEAAAADAHkV1QAAAAOB6hHVAAAAAAAB4dUAAAACA6011QAAAAMAehXVAAAAAAACAdUAAAAAgrot1QAAAACCFy3VAAAAAANe7dUAAAADgo2h1QAAAAAAAsHVAAAAAQOGCdUAAAADgo1R1QAAAAGC4fnVAAAAA4HpQdkA=",
          "dtype": "f8"
         },
         "decreasing": {
          "line": {
           "color": "#EF5350"
          }
         },
         "high": {
          "bdata": "AAAAAAAA+H8AAAAAAAD4fwAAAAAAAPh/AAAAAAAA+H8AAAAAAAD4fwAAAAAAAPh/AAAAAAAA+H8AAAAAAAD4fwAAAAAAAPh/AAAAAAAA+H8AAAAAAAD4fwAAAAAAAPh/AAAAAAAA+H8AAAAAAAD4fwAAAAAAAPh/AAAAAAAA+H8AAAAAAAD4fwAAAAAAAPh/AAAAAAAA+H8AAAAAAAD4fwAAAAAAAPh/AAAAAAAA+H8AAAAAAAD4fwAAAAAAAPh/AAAAAAAA+H8AAAAAAAD4fwAAAAAAAPh/AAAAAAAA+H8AAAAAAAD4fwAAAAAAAPh/AAAAgMIhdUAAAAAgrgt1QAAAAIAURnVAAAAAYGYGdUAAAAAgrmd1QAAAAEDhwnVAAAAAgOu5dUAAAABguH51QAAAAAAA4HZAAAAAANezdUAAAAAgrrd1QAAAAEAzB3ZAAAAA4HoMdkAAAACgR911QAAAAEAKu3VAAAAAoEftdUAAAABAM7N1QAAAAOB6iHVAAAAAYGZkdkA=",
          "dtype": "f8"
         },
         "increasing": {
          "line": {
           "color": "#26A69A"
          }
         },
         "low": {
          "bdata": "AAAAAAAA+H8AAAAAAAD4fwAAAAAAAPh/AAAAAAAA+H8AAAAAAAD4fwAAAAAAAPh/AAAAAAAA+H8AAAAAAAD4fwAAAAAAAPh/AAAAAAAA+H8AAAAAAAD4fwAAAAAAAPh/AAAAAAAA+H8AAAAAAAD4fwAAAAAAAPh/AAAAAAAA+H8AAAAAAAD4fwAAAAAAAPh/AAAAAAAA+H8AAAAAAAD4fwAAAAAAAPh/AAAAAAAA+H8AAAAAAAD4fwAAAAAAAPh/AAAAAAAA+H8AAAAAAAD4fwAAAAAAAPh/AAAAAAAA+H8AAAAAAAD4fwAAAAAAAPh/AAAAIK6bdEAAAACgR6V0QAAAACBcs3RAAAAAgMKZdEAAAABguOp0QAAAAMD1SHVAAAAAQOFKdUAAAACAPR51QAAAAIDrGXVAAAAAIK5HdUAAAAAAAEB1QAAAAGBminVAAAAA4KOkdUAAAAAA12d1QAAAAIA9YnVAAAAAQDNjdUAAAACAFDJ1QAAAAMAeFXVAAAAAgD1WdUA=",
          "dtype": "f8"
         },
         "name": "Price",
         "open": {
          "bdata": "AAAAAAAA+H8AAAAAAAD4fwAAAAAAAPh/AAAAAAAA+H8AAAAAAAD4fwAAAAAAAPh/AAAAAAAA+H8AAAAAAAD4fwAAAAAAAPh/AAAAAAAA+H8AAAAAAAD4fwAAAAAAAPh/AAAAAAAA+H8AAAAAAAD4fwAAAAAAAPh/AAAAAAAA+H8AAAAAAAD4fwAAAAAAAPh/AAAAAAAA+H8AAAAAAAD4fwAAAAAAAPh/AAAAAAAA+H8AAAAAAAD4fwAAAAAAAPh/AAAAAAAA+H8AAAAAAAD4fwAAAAAAAPh/AAAAAAAA+H8AAAAAAAD4fwAAAAAAAPh/AAAAIK4TdUAAAABAM990QAAAAAApwHRAAAAAYI+ydEAAAADgehx1QAAAAIA9WnVAAAAAAACwdUAAAAAAKVB1QAAAAIA9XnZAAAAAAACQdUAAAAAgrod1QAAAAAAAoHVAAAAAwPXYdUAAAAAAKah1QAAAAAAAdHVAAAAAAACwdUAAAABguHp1QAAAAOCjLHVAAAAAwPV4dUA=",
          "dtype": "f8"
         },
         "type": "candlestick",
         "x": {
          "bdata": "AAECAwQFBgcICQoLDA0ODxAREhMUFRYXGBkaGxwdHh8gISIjJCUmJygpKissLS4vMA==",
          "dtype": "i1"
         },
         "xaxis": "x8",
         "yaxis": "y8"
        },
        {
         "line": {
          "color": "white",
          "dash": "dot",
          "width": 1
         },
         "mode": "lines",
         "name": "Support",
         "showlegend": true,
         "type": "scatter",
         "x": {
          "bdata": "AAECAwQFBgcICQoLDA0ODxAREhMUFRYXGBkaGxwdHh8gISIjJCUmJygpKissLS4vMA==",
          "dtype": "i1"
         },
         "xaxis": "x8",
         "y": {
          "bdata": "AAAAAAAA+H8AAAAAAAD4fwAAAAAAAPh/AAAAAAAA+H8AAAAAAAD4fwAAAAAAAPh/AAAAAAAA+H8AAAAAAAD4fwAAAAAAAPh/AAAAAAAA+H8AAAAAAAD4fwAAAAAAAPh/AAAAAAAA+H8AAAAAAAD4fwAAAAAAAPh/AAAAAAAA+H8AAAAAAAD4fwAAAAAAAPh/AAAAAAAA+H8AAAAAAAD4fwAAAAAAAPh/AAAAAAAA+H8AAAAAAAD4fwAAAAAAAPh/AAAAAAAA+H8AAAAAAAD4fwAAAAAAAPh/AAAAAAAA+H8AAAAAAAD4fwAAAAAAAPh/AAAAAAAA+H8AAAAAAAD4fwAAAAAAAPh/AAAAAAAA+H8AAAAAAAD4fwAAAAAAAPh/AAAAAAAA+H+SJEkSNiF1QAAAAPj8E3VA3LZtK84bdUACAAA4uBJ1QAAAACiuIHVAkiRJkiRFdUDctm2TSmx1QNu2bTu7UnVAAAAAmHA6dUDatm17Ojx1QP3//59w73RASZIkEXUGdUA=",
          "dtype": "f8"
         },
         "yaxis": "y8"
        },
        {
         "line": {
          "color": "white",
          "dash": "dot",
          "width": 1
         },
         "mode": "lines",
         "name": "Resistance",
         "showlegend": true,
         "type": "scatter",
         "x": {
          "bdata": "AAECAwQFBgcICQoLDA0ODxAREhMUFRYXGBkaGxwdHh8gISIjJCUmJygpKissLS4vMA==",
          "dtype": "i1"
         },
         "xaxis": "x8",
         "y": {
          "bdata": "AAAAAAAA+H8AAAAAAAD4fwAAAAAAAPh/AAAAAAAA+H8AAAAAAAD4fwAAAAAAAPh/AAAAAAAA+H8AAAAAAAD4fwAAAAAAAPh/AAAAAAAA+H8AAAAAAAD4fwAAAAAAAPh/AAAAAAAA+H8AAAAAAAD4fwAAAAAAAPh/AAAAAAAA+H8AAAAAAAD4fwAAAAAAAPh/AAAAAAAA+H8AAAAAAAD4fwAAAAAAAPh/AAAAAAAA+H8AAAAAAAD4fwAAAAAAAPh/AAAAAAAA+H8AAAAAAAD4fwAAAAAAAPh/AAAAAAAA+H8AAAAAAAD4fwAAAAAAAPh/AAAAAAAA+H8AAAAAAAD4fwAAAAAAAPh/AAAAAAAA+H8AAAAAAAD4fwAAAAAAAPh/AAAAAAAA+H////+/zA52QAAAAIg3DHZAJEmSnKz1dkBJkiRZjwJ3QEmSJDEg93ZAkiRJEjkLd0Dctm0TXzJ3QNu2bbvPGHdAAAAAGIUAd0CRJEky9wl2QNq2bTtD1nVA27Ztk0rBdUA=",
          "dtype": "f8"
         },
         "yaxis": "y8"
        },
        {
         "mode": "lines",
         "name": "EMA",
         "showlegend": true,
         "type": "scatter",
         "x": {
          "bdata": "AAECAwQFBgcICQoLDA0ODxAREhMUFRYXGBkaGxwdHh8gISIjJCUmJygpKissLS4vMA==",
          "dtype": "i1"
         },
         "xaxis": "x8",
         "y": {
          "bdata": "AAAAAAAA+H8AAAAAAAD4fwAAAAAAAPh/AAAAAAAA+H8AAAAAAAD4fwAAAAAAAPh/AAAAAAAA+H8AAAAAAAD4fwAAAAAAAPh/AAAAAAAA+H8AAAAAAAD4fwAAAAAAAPh/AAAAAAAA+H8AAAAAAAD4fwAAAAAAAPh/AAAAAAAA+H8AAAAAAAD4fwAAAAAAAPh/AAAAAAAA+H8AAAAAAAD4fwAAAAAAAPh/AAAAAAAA+H8AAAAAAAD4fwAAAAAAAPh/AAAAAAAA+H8AAAAAAAD4fwAAAAAAAPh/AAAAAAAA+H8AAAAAAAD4fwAAAAAAAPh/AAAAIFy7dEAAAAAAKL90QLroomuPxXRAktN8rRLKdEA/YxRSQtV0QAugbzAw5XRAlu425ojydEDOe2Cu1/p0QI1wQMdpB3VAUWaAKWASdUAyF+k/Zx11QBYVjms7LXVAcSqBSjI6dUA4sowpaz51QBz/3IK+SHVA6ufIfAdOdUAyR0JXoU51QP9XmYYAU3VAXMT/pQtqdUA=",
          "dtype": "f8"
         },
         "yaxis": "y8"
        },
        {
         "marker": {
          "color": "lime",
          "line": {
           "color": "black",
           "width": 2
          },
          "size": 12,
          "symbol": "triangle-up"
         },
         "mode": "markers",
         "name": "Long Signals",
         "showlegend": true,
         "type": "scatter",
         "x": {
          "bdata": "MA==",
          "dtype": "i1"
         },
         "xaxis": "x8",
         "y": {
          "bdata": "AAAA4HpQdkA=",
          "dtype": "f8"
         },
         "yaxis": "y8"
        },
        {
         "close": {
          "bdata": "AAAAAAAA+H8AAAAAAAD4fwAAAAAAAPh/AAAAAAAA+H8AAAAAAAD4fwAAAAAAAPh/AAAAAAAA+H8AAAAAAAD4fwAAAAAAAPh/AAAAAAAA+H8AAAAAAAD4fwAAAAAAAPh/AAAAAAAA+H8AAAAAAAD4fwAAAAAAAPh/AAAAAAAA+H8AAAAAAAD4fwAAAAAAAPh/AAAAAAAA+H8AAAAAAAD4fwAAAAAAAPh/AAAAAAAA+H8AAAAAAAD4fwAAAAAAAPh/AAAAAAAA+H8AAAAAAAD4fwAAAAAAAPh/AAAAAAAA+H8AAAAAAAD4fwAAAAAAAPh/AAAA4LUohkAAAADAyouFQAAAAADZxIRAAAAAYBC4hEAAAADAPAuFQAAAAEDiBYVAAAAAoAQ5hUAAAABgPWaFQAAAAAApwIVAAAAA4KPihUAAAAAAAEqGQAAAAIDCm4ZAAAAAIIUXhkAAAACAPfaFQAAAAIDr1YVAAAAAwPVmhUAAAACA6xuFQAAAAEAzeYVAAAAAIIXThUA=",
          "dtype": "f8"
         },
         "decreasing": {
          "line": {
           "color": "#EF5350"
          }
         },
         "high": {
          "bdata": "AAAAAAAA+H8AAAAAAAD4fwAAAAAAAPh/AAAAAAAA+H8AAAAAAAD4fwAAAAAAAPh/AAAAAAAA+H8AAAAAAAD4fwAAAAAAAPh/AAAAAAAA+H8AAAAAAAD4fwAAAAAAAPh/AAAAAAAA+H8AAAAAAAD4fwAAAAAAAPh/AAAAAAAA+H8AAAAAAAD4fwAAAAAAAPh/AAAAAAAA+H8AAAAAAAD4fwAAAAAAAPh/AAAAAAAA+H8AAAAAAAD4fwAAAAAAAPh/AAAAAAAA+H8AAAAAAAD4fwAAAAAAAPh/AAAAAAAA+H8AAAAAAAD4fwAAAAAAAPh/zsFts9nThkB7X5Ws2XaGQMsIwHRUP4VA7ME0afPwhEDH48vijyaFQHuzFyr6WIVAMACyGISIhUCmqJX2SX6FQAAAAMAe+YVAAAAA4KMAhkAAAAAAAKiGQAAAAAAAGIdAAAAAoEeLhkAAAAAAAIiGQAAAAOCjJIZAAAAAwB4FhkAAAAAgrsuFQAAAAOBRpoVAAAAAAADlhUA=",
          "dtype": "f8"
         },
         "increasing": {
          "line": {
           "color": "#26A69A"
          }
         },
         "low": {
          "bdata": "AAAAAAAA+H8AAAAAAAD4fwAAAAAAAPh/AAAAAAAA+H8AAAAAAAD4fwAAAAAAAPh/AAAAAAAA+H8AAAAAAAD4fwAAAAAAAPh/AAAAAAAA+H8AAAAAAAD4fwAAAAAAAPh/AAAAAAAA+H8AAAAAAAD4fwAAAAAAAPh/AAAAAAAA+H8AAAAAAAD4fwAAAAAAAPh/AAAAAAAA+H8AAAAAAAD4fwAAAAAAAPh/AAAAAAAA+H8AAAAAAAD4fwAAAAAAAPh/AAAAAAAA+H8AAAAAAAD4fwAAAAAAAPh/AAAAAAAA+H8AAAAAAAD4fwAAAAAAAPh/HyfLbh0lhkAameloSYCFQM65klazuoRAtEan7RB4hECoUn9IuaiEQBs+YkOB9YRA0O82VRwQhUDXc+bhYhOFQAAAAKCZa4VAAAAAYI+ohUAAAACgcOOFQAAAAAAAXIZAAAAAYI/ohUAAAAAgXOWFQAAAACCurYVAAAAAIK5bhUAAAAAAAASFQAAAAEAzCYVAAAAAwMxYhUA=",
          "dtype": "f8"
         },
         "name": "Price",
         "open": {
          "bdata": "AAAAAAAA+H8AAAAAAAD4fwAAAAAAAPh/AAAAAAAA+H8AAAAAAAD4fwAAAAAAAPh/AAAAAAAA+H8AAAAAAAD4fwAAAAAAAPh/AAAAAAAA+H8AAAAAAAD4fwAAAAAAAPh/AAAAAAAA+H8AAAAAAAD4fwAAAAAAAPh/AAAAAAAA+H8AAAAAAAD4fwAAAAAAAPh/AAAAAAAA+H8AAAAAAAD4fwAAAAAAAPh/AAAAAAAA+H8AAAAAAAD4fwAAAAAAAPh/AAAAAAAA+H8AAAAAAAD4fwAAAAAAAPh/AAAAAAAA+H8AAAAAAAD4fwAAAAAAAPh/nhfFvDishkDZLOnOQ0yGQJKmZEANPoVAPeIlgOeYhEBgb/sH2cSEQK0cwQijKoVABmY7UiQ2hUDXc+bhYhOFQAAAAGBmgIVAAAAAoHDPhUAAAACgcP+FQAAAAAAAgIZAAAAA4FGKhkAAAABAMw+GQAAAAGCP6oVAAAAAoEfvhUAAAAAA14OFQAAAAADXD4VAAAAAwMxYhUA=",
          "dtype": "f8"
         },
         "type": "candlestick",
         "x": {
          "bdata": "AAECAwQFBgcICQoLDA0ODxAREhMUFRYXGBkaGxwdHh8gISIjJCUmJygpKissLS4vMA==",
          "dtype": "i1"
         },
         "xaxis": "x9",
         "yaxis": "y9"
        },
        {
         "line": {
          "color": "white",
          "dash": "dot",
          "width": 1
         },
         "mode": "lines",
         "name": "Support",
         "showlegend": true,
         "type": "scatter",
         "x": {
          "bdata": "AAECAwQFBgcICQoLDA0ODxAREhMUFRYXGBkaGxwdHh8gISIjJCUmJygpKissLS4vMA==",
          "dtype": "i1"
         },
         "xaxis": "x9",
         "y": {
          "bdata": "AAAAAAAA+H8AAAAAAAD4fwAAAAAAAPh/AAAAAAAA+H8AAAAAAAD4fwAAAAAAAPh/AAAAAAAA+H8AAAAAAAD4fwAAAAAAAPh/AAAAAAAA+H8AAAAAAAD4fwAAAAAAAPh/AAAAAAAA+H8AAAAAAAD4fwAAAAAAAPh/AAAAAAAA+H8AAAAAAAD4fwAAAAAAAPh/AAAAAAAA+H8AAAAAAAD4fwAAAAAAAPh/AAAAAAAA+H8AAAAAAAD4fwAAAAAAAPh/AAAAAAAA+H8AAAAAAAD4fwAAAAAAAPh/AAAAAAAA+H8AAAAAAAD4fwAAAAAAAPh/AAAAAAAA+H8AAAAAAAD4fwAAAAAAAPh/AAAAAAAA+H8AAAAAAAD4fwAAAAAAAPh/AAAAAAAA+H/YjzkSI/WDQLRGp61Vm4RAjuHBKGRlhUCN4cFAc6SFQCEGC8tg7oVAjuHBGIdkhkAlSZJUbhuGQNdz5rFY2YVAAAAAmBl5hUD///9HYeiEQAIAAHgUVoRAAAAAYI+XhEA=",
          "dtype": "f8"
         },
         "yaxis": "y9"
        },
        {
         "line": {
          "color": "white",
          "dash": "dot",
          "width": 1
         },
         "mode": "lines",
         "name": "Resistance",
         "showlegend": true,
         "type": "scatter",
         "x": {
          "bdata": "AAECAwQFBgcICQoLDA0ODxAREhMUFRYXGBkaGxwdHh8gISIjJCUmJygpKissLS4vMA==",
          "dtype": "i1"
         },
         "xaxis": "x9",
         "y": {
          "bdata": "AAAAAAAA+H8AAAAAAAD4fwAAAAAAAPh/AAAAAAAA+H8AAAAAAAD4fwAAAAAAAPh/AAAAAAAA+H8AAAAAAAD4fwAAAAAAAPh/AAAAAAAA+H8AAAAAAAD4fwAAAAAAAPh/AAAAAAAA+H8AAAAAAAD4fwAAAAAAAPh/AAAAAAAA+H8AAAAAAAD4fwAAAAAAAPh/AAAAAAAA+H8AAAAAAAD4fwAAAAAAAPh/AAAAAAAA+H8AAAAAAAD4fwAAAAAAAPh/AAAAAAAA+H8AAAAAAAD4fwAAAAAAAPh/AAAAAAAA+H8AAAAAAAD4fwAAAAAAAPh/AAAAAAAA+H8AAAAAAAD4fwAAAAAAAPh/AAAAAAAA+H8AAAAAAAD4fwAAAAAAAPh/AAAAAAAA+H/NwW1zue6FQHtflew5qIZAzAjA7FhehkAkSZJU1FmGQJMkSXq/3oZAJEmSpG1bh0BJkiTpvX2HQAAAABDXbIdAt23b1rYfh0BIkiSBuo6GQHDbtt1nw4VAAAAA0HWchUA=",
          "dtype": "f8"
         },
         "yaxis": "y9"
        },
        {
         "mode": "lines",
         "name": "EMA",
         "showlegend": true,
         "type": "scatter",
         "x": {
          "bdata": "AAECAwQFBgcICQoLDA0ODxAREhMUFRYXGBkaGxwdHh8gISIjJCUmJygpKissLS4vMA==",
          "dtype": "i1"
         },
         "xaxis": "x9",
         "y": {
          "bdata": "AAAAAAAA+H8AAAAAAAD4fwAAAAAAAPh/AAAAAAAA+H8AAAAAAAD4fwAAAAAAAPh/AAAAAAAA+H8AAAAAAAD4fwAAAAAAAPh/AAAAAAAA+H8AAAAAAAD4fwAAAAAAAPh/AAAAAAAA+H8AAAAAAAD4fwAAAAAAAPh/AAAAAAAA+H8AAAAAAAD4fwAAAAAAAPh/AAAAAAAA+H8AAAAAAAD4fwAAAAAAAPh/AAAAAAAA+H8AAAAAAAD4fwAAAAAAAPh/AAAAAAAA+H8AAAAAAAD4fwAAAAAAAPh/AAAAAAAA+H8AAAAAAAD4fwAAAAAAAPh/AAAA4LUohkBGF130cRqGQBG4sQxk+4VAJ+0VWv/dhUBSwFlj1sqFQL5ROr3uuIVAOO3X0U2thUB5HQr216aFQCiPfSUlqYVADSVyNl+uhUD1ODkahbyFQIIckYDQ0IVAjaVsAz7XhUAiItdrD9qFQMIHlRCv2YVAanuHIEHPhUC9nkyG876FQPEbFzqcuIVAOF+JfQ67hUA=",
          "dtype": "f8"
         },
         "yaxis": "y9"
        },
        {
         "marker": {
          "color": "lime",
          "line": {
           "color": "black",
           "width": 2
          },
          "size": 12,
          "symbol": "triangle-up"
         },
         "mode": "markers",
         "name": "Long Signals",
         "showlegend": true,
         "type": "scatter",
         "x": {
          "bdata": "MA==",
          "dtype": "i1"
         },
         "xaxis": "x9",
         "y": {
          "bdata": "AAAAIIXThUA=",
          "dtype": "f8"
         },
         "yaxis": "y9"
        },
        {
         "marker": {
          "color": "red",
          "line": {
           "color": "black",
           "width": 2
          },
          "size": 12,
          "symbol": "triangle-down"
         },
         "mode": "markers",
         "name": "Short Signals",
         "showlegend": true,
         "type": "scatter",
         "x": {
          "bdata": "Kg==",
          "dtype": "i1"
         },
         "xaxis": "x9",
         "y": {
          "bdata": "AAAAIIUXhkA=",
          "dtype": "f8"
         },
         "yaxis": "y9"
        },
        {
         "close": {
          "bdata": "AAAAAAAA+H8AAAAAAAD4fwAAAAAAAPh/AAAAAAAA+H8AAAAAAAD4fwAAAAAAAPh/AAAAAAAA+H8AAAAAAAD4fwAAAAAAAPh/AAAAAAAA+H8AAAAAAAD4fwAAAAAAAPh/AAAAAAAA+H8AAAAAAAD4fwAAAAAAAPh/AAAAAAAA+H8AAAAAAAD4fwAAAAAAAPh/AAAAAAAA+H8AAAAAAAD4fwAAAAAAAPh/AAAAAAAA+H8AAAAAAAD4fwAAAAAAAPh/AAAAAAAA+H8AAAAAAAD4fwAAAAAAAPh/AAAAAAAA+H8AAAAAAAD4fwAAAAAAAPh/AAAAAAAgZUAAAAAAAKBkQAAAACCul2RAAAAAoJkhZEAAAABgZmZkQAAAAIAUXmRAAAAAACksZUAAAACgcI1lQAAAAGCPimVAAAAAQAr/ZUAAAABACl9mQAAAAOCjQGZAAAAAQDNLZkAAAAAgrqdlQAAAAAAA8GVAAAAAwPXoZUAAAACA65FlQAAAAIDCxWVAAAAAYGZeZkA=",
          "dtype": "f8"
         },
         "decreasing": {
          "line": {
           "color": "#EF5350"
          }
         },
         "high": {
          "bdata": "AAAAAAAA+H8AAAAAAAD4fwAAAAAAAPh/AAAAAAAA+H8AAAAAAAD4fwAAAAAAAPh/AAAAAAAA+H8AAAAAAAD4fwAAAAAAAPh/AAAAAAAA+H8AAAAAAAD4fwAAAAAAAPh/AAAAAAAA+H8AAAAAAAD4fwAAAAAAAPh/AAAAAAAA+H8AAAAAAAD4fwAAAAAAAPh/AAAAAAAA+H8AAAAAAAD4fwAAAAAAAPh/AAAAAAAA+H8AAAAAAAD4fwAAAAAAAPh/AAAAAAAA+H8AAAAAAAD4fwAAAAAAAPh/AAAAAAAA+H8AAAAAAAD4fwAAAAAAAPh/AAAAgBR2ZUAAAACAFCZlQAAAAEAzm2RAAAAAoEeJZEAAAACAFHZkQAAAAIAUpmRAAAAAQDOTZUAAAABACq9lQAAAAADXq2VAAAAAYI8aZkAAAACA67FmQAAAAEDhmmZAAAAAAACIZkAAAACgmcllQAAAAGBmFmZAAAAAgBRGZkAAAAAghftlQAAAAAAAAGZAAAAAwMxwZkA=",
          "dtype": "f8"
         },
         "increasing": {
          "line": {
           "color": "#26A69A"
          }
         },
         "low": {
          "bdata": "AAAAAAAA+H8AAAAAAAD4fwAAAAAAAPh/AAAAAAAA+H8AAAAAAAD4fwAAAAAAAPh/AAAAAAAA+H8AAAAAAAD4fwAAAAAAAPh/AAAAAAAA+H8AAAAAAAD4fwAAAAAAAPh/AAAAAAAA+H8AAAAAAAD4fwAAAAAAAPh/AAAAAAAA+H8AAAAAAAD4fwAAAAAAAPh/AAAAAAAA+H8AAAAAAAD4fwAAAAAAAPh/AAAAAAAA+H8AAAAAAAD4fwAAAAAAAPh/AAAAAAAA+H8AAAAAAAD4fwAAAAAAAPh/AAAAAAAA+H8AAAAAAAD4fwAAAAAAAPh/AAAAwB4FZUAAAACgcJ1kQAAAAAAAIGRAAAAAYLgOZEAAAACAwh1kQAAAAIDrIWRAAAAAoHCtZEAAAAAAADhlQAAAAKCZKWVAAAAAwMx8ZUAAAACgmQFmQAAAAIDr+WVAAAAAYGYOZkAAAABgZlZlQAAAAMD1oGVAAAAA4Hq8ZUAAAAAgXFdlQAAAAIDreWVAAAAA4FFwZUA=",
          "dtype": "f8"
         },
         "name": "Price",
         "open": {
          "bdata": "AAAAAAAA+H8AAAAAAAD4fwAAAAAAAPh/AAAAAAAA+H8AAAAAAAD4fwAAAAAAAPh/AAAAAAAA+H8AAAAAAAD4fwAAAAAAAPh/AAAAAAAA+H8AAAAAAAD4fwAAAAAAAPh/AAAAAAAA+H8AAAAAAAD4fwAAAAAAAPh/AAAAAAAA+H8AAAAAAAD4fwAAAAAAAPh/AAAAAAAA+H8AAAAAAAD4fwAAAAAAAPh/AAAAAAAA+H8AAAAAAAD4fwAAAAAAAPh/AAAAAAAA+H8AAAAAAAD4fwAAAAAAAPh/AAAAAAAA+H8AAAAAAAD4fwAAAAAAAPh/AAAAwB5NZUAAAADAHh1lQAAAAGC4lmRAAAAAAACAZEAAAAAgXF9kQAAAAOBRkGRAAAAAQAoHZUAAAADgUVBlQAAAAEAzk2VAAAAAwMzMZUAAAABgZiZmQAAAAGBmhmZAAAAAQApvZkAAAACgcI1lQAAAAEAK32VAAAAA4FEAZkAAAAAgrsdlQAAAAGC4nmVAAAAAQAqfZUA=",
          "dtype": "f8"
         },
         "type": "candlestick",
         "x": {
          "bdata": "AAECAwQFBgcICQoLDA0ODxAREhMUFRYXGBkaGxwdHh8gISIjJCUmJygpKissLS4vMA==",
          "dtype": "i1"
         },
         "xaxis": "x10",
         "yaxis": "y10"
        },
        {
         "line": {
          "color": "white",
          "dash": "dot",
          "width": 1
         },
         "mode": "lines",
         "name": "Support",
         "showlegend": true,
         "type": "scatter",
         "x": {
          "bdata": "AAECAwQFBgcICQoLDA0ODxAREhMUFRYXGBkaGxwdHh8gISIjJCUmJygpKissLS4vMA==",
          "dtype": "i1"
         },
         "xaxis": "x10",
         "y": {
          "bdata": "AAAAAAAA+H8AAAAAAAD4fwAAAAAAAPh/AAAAAAAA+H8AAAAAAAD4fwAAAAAAAPh/AAAAAAAA+H8AAAAAAAD4fwAAAAAAAPh/AAAAAAAA+H8AAAAAAAD4fwAAAAAAAPh/AAAAAAAA+H8AAAAAAAD4fwAAAAAAAPh/AAAAAAAA+H8AAAAAAAD4fwAAAAAAAPh/AAAAAAAA+H8AAAAAAAD4fwAAAAAAAPh/AAAAAAAA+H8AAAAAAAD4fwAAAAAAAPh/AAAAAAAA+H8AAAAAAAD4fwAAAAAAAPh/AAAAAAAA+H8AAAAAAAD4fwAAAAAAAPh/AAAAAAAA+H8AAAAAAAD4fwAAAAAAAPh/AAAAAAAA+H8AAAAAAAD4fwAAAAAAAPh/AAAAAAAA+H+SJEmyDvpjQNy2bXuJlGRAbdu2jTcOZUAkSZKkNMBlQNu2bds+K2ZA/f//D65BZkABAACocBNmQEmSJHFQaWVA/v//RwpFZUD////Peg5lQCVJkkRp2GRAJEmShA7eZEA=",
          "dtype": "f8"
         },
         "yaxis": "y10"
        },
        {
         "line": {
          "color": "white",
          "dash": "dot",
          "width": 1
         },
         "mode": "lines",
         "name": "Resistance",
         "showlegend": true,
         "type": "scatter",
         "x": {
          "bdata": "AAECAwQFBgcICQoLDA0ODxAREhMUFRYXGBkaGxwdHh8gISIjJCUmJygpKissLS4vMA==",
          "dtype": "i1"
         },
         "xaxis": "x10",
         "y": {
          "bdata": "AAAAAAAA+H8AAAAAAAD4fwAAAAAAAPh/AAAAAAAA+H8AAAAAAAD4fwAAAAAAAPh/AAAAAAAA+H8AAAAAAAD4fwAAAAAAAPh/AAAAAAAA+H8AAAAAAAD4fwAAAAAAAPh/AAAAAAAA+H8AAAAAAAD4fwAAAAAAAPh/AAAAAAAA+H8AAAAAAAD4fwAAAAAAAPh/AAAAAAAA+H8AAAAAAAD4fwAAAAAAAPh/AAAAAAAA+H8AAAAAAAD4fwAAAAAAAPh/AAAAAAAA+H8AAAAAAAD4fwAAAAAAAPh/AAAAAAAA+H8AAAAAAAD4fwAAAAAAAPh/AAAAAAAA+H8AAAAAAAD4fwAAAAAAAPh/AAAAAAAA+H8AAAAAAAD4fwAAAAAAAPh/AAAAAAAA+H8kSZLUCI5lQAAAACCFMWZAkiRJSmxEZkC2bdv2oN5mQCRJkoRQR2dA2bZtu0dlZ0CTJEk6WUtnQCVJksST/WZAI0mSHIXFZkD///8fXFNmQJMkSfIVB2ZASZIkyd/9ZUA=",
          "dtype": "f8"
         },
         "yaxis": "y10"
        },
        {
         "mode": "lines",
         "name": "EMA",
         "showlegend": true,
         "type": "scatter",
         "x": {
          "bdata": "AAECAwQFBgcICQoLDA0ODxAREhMUFRYXGBkaGxwdHh8gISIjJCUmJygpKissLS4vMA==",
          "dtype": "i1"
         },
         "xaxis": "x10",
         "y": {
          "bdata": "AAAAAAAA+H8AAAAAAAD4fwAAAAAAAPh/AAAAAAAA+H8AAAAAAAD4fwAAAAAAAPh/AAAAAAAA+H8AAAAAAAD4fwAAAAAAAPh/AAAAAAAA+H8AAAAAAAD4fwAAAAAAAPh/AAAAAAAA+H8AAAAAAAD4fwAAAAAAAPh/AAAAAAAA+H8AAAAAAAD4fwAAAAAAAPh/AAAAAAAA+H8AAAAAAAD4fwAAAAAAAPh/AAAAAAAA+H8AAAAAAAD4fwAAAAAAAPh/AAAAAAAA+H8AAAAAAAD4fwAAAAAAAPh/AAAAAAAA+H8AAAAAAAD4fwAAAAAAAPh/AAAAAAAgZUB00UUXXRRlQFJh4l0HCWVAqBLlY/3zZEAky/40HudkQDjn/vWo2mRAkEYWsRHiZECaEVr1pfFkQC/K9KGM/2RA5RQNmcYWZUDQWN0znjRlQL1QJs/7TGVA2ho6HxhkZUD1RgYIPWplQFOGSwdmdmVAeu5bL9CAZUC1e/ZNXoJlQOpBmq9+iGVAMVPp1vCbZUA=",
          "dtype": "f8"
         },
         "yaxis": "y10"
        },
        {
         "marker": {
          "color": "lime",
          "line": {
           "color": "black",
           "width": 2
          },
          "size": 12,
          "symbol": "triangle-up"
         },
         "mode": "markers",
         "name": "Long Signals",
         "showlegend": true,
         "type": "scatter",
         "x": {
          "bdata": "MA==",
          "dtype": "i1"
         },
         "xaxis": "x10",
         "y": {
          "bdata": "AAAAYGZeZkA=",
          "dtype": "f8"
         },
         "yaxis": "y10"
        },
        {
         "close": {
          "bdata": "AAAAAAAA+H8AAAAAAAD4fwAAAAAAAPh/AAAAAAAA+H8AAAAAAAD4fwAAAAAAAPh/AAAAAAAA+H8AAAAAAAD4fwAAAAAAAPh/AAAAAAAA+H8AAAAAAAD4fwAAAAAAAPh/AAAAAAAA+H8AAAAAAAD4fwAAAAAAAPh/AAAAAAAA+H8AAAAAAAD4fwAAAAAAAPh/AAAAAAAA+H8AAAAAAAD4fwAAAAAAAPh/AAAAAAAA+H8AAAAAAAD4fwAAAAAAAPh/AAAAAAAA+H8AAAAAAAD4fwAAAAAAAPh/AAAAAAAA+H8AAAAAAAD4fwAAAAAAAPh/AAAAAABQWkAAAAAghYtaQAAAAGC4flpAAAAAoEdxWkAAAADA9YhaQAAAAEAKh1pAAAAAYGZWWkAAAABA4WpaQAAAAEAKV1pAAAAAIFwfWkAAAADA9RhaQAAAAIAULllAAAAAANdjWUAAAABAMzNZQAAAAGCP8llAAAAAIK43WkAAAABACudZQAAAAKBwLVpAAAAAQDMzWUA=",
          "dtype": "f8"
         },
         "decreasing": {
          "line": {
           "color": "#EF5350"
          }
         },
         "high": {
          "bdata": "AAAAAAAA+H8AAAAAAAD4fwAAAAAAAPh/AAAAAAAA+H8AAAAAAAD4fwAAAAAAAPh/AAAAAAAA+H8AAAAAAAD4fwAAAAAAAPh/AAAAAAAA+H8AAAAAAAD4fwAAAAAAAPh/AAAAAAAA+H8AAAAAAAD4fwAAAAAAAPh/AAAAAAAA+H8AAAAAAAD4fwAAAAAAAPh/AAAAAAAA+H8AAAAAAAD4fwAAAAAAAPh/AAAAAAAA+H8AAAAAAAD4fwAAAAAAAPh/AAAAAAAA+H8AAAAAAAD4fwAAAAAAAPh/AAAAAAAA+H8AAAAAAAD4fwAAAAAAAPh/AAAAQOF6WkAAAADgepRaQAAAAKCZiVpAAAAAwMyMWkAAAACgR5FaQAAAAIAUrlpAAAAAgBRuWkAAAADAzGxaQAAAAGC4XlpAAAAAoJlpWkAAAADAzDxaQAAAAAAAIFpAAAAA4Hq0WUAAAAAgXP9ZQAAAAGBmBlpAAAAA4HpkWkAAAADA9UhaQAAAAKBwTVpAAAAA4KPgWUA=",
          "dtype": "f8"
         },
         "increasing": {
          "line": {
           "color": "#26A69A"
          }
         },
         "low": {
          "bdata": "AAAAAAAA+H8AAAAAAAD4fwAAAAAAAPh/AAAAAAAA+H8AAAAAAAD4fwAAAAAAAPh/AAAAAAAA+H8AAAAAAAD4fwAAAAAAAPh/AAAAAAAA+H8AAAAAAAD4fwAAAAAAAPh/AAAAAAAA+H8AAAAAAAD4fwAAAAAAAPh/AAAAAAAA+H8AAAAAAAD4fwAAAAAAAPh/AAAAAAAA+H8AAAAAAAD4fwAAAAAAAPh/AAAAAAAA+H8AAAAAAAD4fwAAAAAAAPh/AAAAAAAA+H8AAAAAAAD4fwAAAAAAAPh/AAAAAAAA+H8AAAAAAAD4fwAAAAAAAPh/AAAAYI8SWkAAAACgR1FaQAAAAAAAUFpAAAAAAAAwWkAAAAAAKTxaQAAAAKBHcVpAAAAAQOG6WUAAAADgozBaQAAAAGBmFlpAAAAAYLj+WUAAAAAgrvdZQAAAAMAeRVhAAAAAYGb2WEAAAABAMyNZQAAAAOCjQFlAAAAAwB71WUAAAACA66FZQAAAAOB6xFlAAAAAgIoiWUA=",
          "dtype": "f8"
         },
         "name": "Price",
         "open": {
          "bdata": "AAAAAAAA+H8AAAAAAAD4fwAAAAAAAPh/AAAAAAAA+H8AAAAAAAD4fwAAAAAAAPh/AAAAAAAA+H8AAAAAAAD4fwAAAAAAAPh/AAAAAAAA+H8AAAAAAAD4fwAAAAAAAPh/AAAAAAAA+H8AAAAAAAD4fwAAAAAAAPh/AAAAAAAA+H8AAAAAAAD4fwAAAAAAAPh/AAAAAAAA+H8AAAAAAAD4fwAAAAAAAPh/AAAAAAAA+H8AAAAAAAD4fwAAAAAAAPh/AAAAAAAA+H8AAAAAAAD4fwAAAAAAAPh/AAAAAAAA+H8AAAAAAAD4fwAAAAAAAPh/AAAAAAAwWkAAAACAFG5aQAAAAMD1eFpAAAAAIFxPWkAAAABguH5aQAAAAGBmhlpAAAAAACnsWUAAAABgZlZaQAAAACCFW1pAAAAAwPUoWkAAAAAAABBaQAAAAAAAAFpAAAAAIIUbWUAAAADA9WhZQAAAAOBRSFlAAAAAYGY2WkAAAADgUShaQAAAACBcz1lAAAAAANfTWUA=",
          "dtype": "f8"
         },
         "type": "candlestick",
         "x": {
          "bdata": "AAECAwQFBgcICQoLDA0ODxAREhMUFRYXGBkaGxwdHh8gISIjJCUmJygpKissLS4vMA==",
          "dtype": "i1"
         },
         "xaxis": "x11",
         "yaxis": "y11"
        },
        {
         "line": {
          "color": "white",
          "dash": "dot",
          "width": 1
         },
         "mode": "lines",
         "name": "Support",
         "showlegend": true,
         "type": "scatter",
         "x": {
          "bdata": "AAECAwQFBgcICQoLDA0ODxAREhMUFRYXGBkaGxwdHh8gISIjJCUmJygpKissLS4vMA==",
          "dtype": "i1"
         },
         "xaxis": "x11",
         "y": {
          "bdata": "AAAAAAAA+H8AAAAAAAD4fwAAAAAAAPh/AAAAAAAA+H8AAAAAAAD4fwAAAAAAAPh/AAAAAAAA+H8AAAAAAAD4fwAAAAAAAPh/AAAAAAAA+H8AAAAAAAD4fwAAAAAAAPh/AAAAAAAA+H8AAAAAAAD4fwAAAAAAAPh/AAAAAAAA+H8AAAAAAAD4fwAAAAAAAPh/AAAAAAAA+H8AAAAAAAD4fwAAAAAAAPh/AAAAAAAA+H8AAAAAAAD4fwAAAAAAAPh/AAAAAAAA+H8AAAAAAAD4fwAAAAAAAPh/AAAAAAAA+H8AAAAAAAD4fwAAAAAAAPh/AAAAAAAA+H8AAAAAAAD4fwAAAAAAAPh/AAAAAAAA+H8AAAAAAAD4fwAAAAAAAPh/AAAAAAAA+H9t27Z9nLtZQEqSJAmur1lAJEmSRFanWUCTJElSfIVZQLZt2y73WVlAJUmSDBMZWEBKkiSZc99XQCRJkrz4kldAkiRJcrW8V0CTJElSWUVYQCZJkrRwtVhAAgAAMFyHWUA=",
          "dtype": "f8"
         },
         "yaxis": "y11"
        },
        {
         "line": {
          "color": "white",
          "dash": "dot",
          "width": 1
         },
         "mode": "lines",
         "name": "Resistance",
         "showlegend": true,
         "type": "scatter",
         "x": {
          "bdata": "AAECAwQFBgcICQoLDA0ODxAREhMUFRYXGBkaGxwdHh8gISIjJCUmJygpKissLS4vMA==",
          "dtype": "i1"
         },
         "xaxis": "x11",
         "y": {
          "bdata": "AAAAAAAA+H8AAAAAAAD4fwAAAAAAAPh/AAAAAAAA+H8AAAAAAAD4fwAAAAAAAPh/AAAAAAAA+H8AAAAAAAD4fwAAAAAAAPh/AAAAAAAA+H8AAAAAAAD4fwAAAAAAAPh/AAAAAAAA+H8AAAAAAAD4fwAAAAAAAPh/AAAAAAAA+H8AAAAAAAD4fwAAAAAAAPh/AAAAAAAA+H8AAAAAAAD4fwAAAAAAAPh/AAAAAAAA+H8AAAAAAAD4fwAAAAAAAPh/AAAAAAAA+H8AAAAAAAD4fwAAAAAAAPh/AAAAAAAA+H8AAAAAAAD4fwAAAAAAAPh/AAAAAAAA+H8AAAAAAAD4fwAAAAAAAPh/AAAAAAAA+H8AAAAAAAD4fwAAAAAAAPh/AAAAAAAA+H/btm37iq9aQG/btq1HnVpA27Zt2wWUWkC4bdtWVmtaQEmSJJnVQlpAJUmSTPTzWUBKkiTZVLpZQLdt2x76w1lAJEmSDEzkWUABAACg62laQAIAAAjXv1pAAgAAcD1iW0A=",
          "dtype": "f8"
         },
         "yaxis": "y11"
        },
        {
         "mode": "lines",
         "name": "EMA",
         "showlegend": true,
         "type": "scatter",
         "x": {
          "bdata": "AAECAwQFBgcICQoLDA0ODxAREhMUFRYXGBkaGxwdHh8gISIjJCUmJygpKissLS4vMA==",
          "dtype": "i1"
         },
         "xaxis": "x11",
         "y": {
          "bdata": "AAAAAAAA+H8AAAAAAAD4fwAAAAAAAPh/AAAAAAAA+H8AAAAAAAD4fwAAAAAAAPh/AAAAAAAA+H8AAAAAAAD4fwAAAAAAAPh/AAAAAAAA+H8AAAAAAAD4fwAAAAAAAPh/AAAAAAAA+H8AAAAAAAD4fwAAAAAAAPh/AAAAAAAA+H8AAAAAAAD4fwAAAAAAAPh/AAAAAAAA+H8AAAAAAAD4fwAAAAAAAPh/AAAAAAAA+H8AAAAAAAD4fwAAAAAAAPh/AAAAAAAA+H8AAAAAAAD4fwAAAAAAAPh/AAAAAAAA+H8AAAAAAAD4fwAAAAAAAPh/AAAAAABQWkAXXXQxaVVaQEPgxpIqWVpAPUCGwltbWkCV9BwIgV9aQPxpdyQZY1pAQgM+nvFhWkAlvayVwWJaQFAg+uqwYVpAvZGdNalbWkCV4RrlmFVaQBLNjGe7OlpAhRfdRjInWkDtQ+DRAxFaQJKDVw0/DlpAyjHbVAMSWkC4/q87Gw5aQGItWnP0EFpA5LQ6ncv8WUA=",
          "dtype": "f8"
         },
         "yaxis": "y11"
        },
        {
         "marker": {
          "color": "red",
          "line": {
           "color": "black",
           "width": 2
          },
          "size": 12,
          "symbol": "triangle-down"
         },
         "mode": "markers",
         "name": "Short Signals",
         "showlegend": true,
         "type": "scatter",
         "x": {
          "bdata": "MA==",
          "dtype": "i1"
         },
         "xaxis": "x11",
         "y": {
          "bdata": "AAAAQDMzWUA=",
          "dtype": "f8"
         },
         "yaxis": "y11"
        },
        {
         "close": {
          "bdata": "AAAAAAAA+H8AAAAAAAD4fwAAAAAAAPh/AAAAAAAA+H8AAAAAAAD4fwAAAAAAAPh/AAAAAAAA+H8AAAAAAAD4fwAAAAAAAPh/AAAAAAAA+H8AAAAAAAD4fwAAAAAAAPh/AAAAAAAA+H8AAAAAAAD4fwAAAAAAAPh/AAAAAAAA+H8AAAAAAAD4fwAAAAAAAPh/AAAAAAAA+H8AAAAAAAD4fwAAAAAAAPh/AAAAAAAA+H8AAAAAAAD4fwAAAAAAAPh/AAAAAAAA+H8AAAAAAAD4fwAAAAAAAPh/AAAAAAAA+H8AAAAAAAD4fwAAAAAAAPh/AAAA4KPYYUAAAAAghfthQAAAAKBHuWFAAAAAwMyUYUAAAAAAKeRhQAAAACBc92FAAAAAoJn5YUAAAACAwvVhQAAAAKBwtWFAAAAAwPX4YEAAAADgejxhQAAAAGBmVmFAAAAAgMKVYUAAAADA9XhhQAAAAIAUvmFAAAAAANeTYUAAAABA4XJhQAAAAKCZyWFAAAAAwB61YEA=",
          "dtype": "f8"
         },
         "decreasing": {
          "line": {
           "color": "#EF5350"
          }
         },
         "high": {
          "bdata": "AAAAAAAA+H8AAAAAAAD4fwAAAAAAAPh/AAAAAAAA+H8AAAAAAAD4fwAAAAAAAPh/AAAAAAAA+H8AAAAAAAD4fwAAAAAAAPh/AAAAAAAA+H8AAAAAAAD4fwAAAAAAAPh/AAAAAAAA+H8AAAAAAAD4fwAAAAAAAPh/AAAAAAAA+H8AAAAAAAD4fwAAAAAAAPh/AAAAAAAA+H8AAAAAAAD4fwAAAAAAAPh/AAAAAAAA+H8AAAAAAAD4fwAAAAAAAPh/AAAAAAAA+H8AAAAAAAD4fwAAAAAAAPh/AAAAAAAA+H8AAAAAAAD4fwAAAAAAAPh/AAAA4KMoYkAAAABAMytiQAAAAADX62FAAAAAIK6nYUAAAACA6wliQAAAAEDhMmJAAAAAIK4PYkAAAADAzPxhQAAAAKBH+WFAAAAAANe7YUAAAABguGZhQAAAAGC4hmFAAAAAYI+qYUAAAAAAANBhQAAAAGBmvmFAAAAAYI/aYUAAAACgR6lhQAAAAKBw3WFAAAAAoHCVYUA=",
          "dtype": "f8"
         },
         "increasing": {
          "line": {
           "color": "#26A69A"
          }
         },
         "low": {
          "bdata": "AAAAAAAA+H8AAAAAAAD4fwAAAAAAAPh/AAAAAAAA+H8AAAAAAAD4fwAAAAAAAPh/AAAAAAAA+H8AAAAAAAD4fwAAAAAAAPh/AAAAAAAA+H8AAAAAAAD4fwAAAAAAAPh/AAAAAAAA+H8AAAAAAAD4fwAAAAAAAPh/AAAAAAAA+H8AAAAAAAD4fwAAAAAAAPh/AAAAAAAA+H8AAAAAAAD4fwAAAAAAAPh/AAAAAAAA+H8AAAAAAAD4fwAAAAAAAPh/AAAAAAAA+H8AAAAAAAD4fwAAAAAAAPh/AAAAAAAA+H8AAAAAAAD4fwAAAAAAAPh/AAAAIK7XYUAAAADAzMRhQAAAAAAAoGFAAAAA4FEwYUAAAACgRwFhQAAAAOCjmGFAAAAAgBSmYUAAAACgR5FhQAAAAOCjkGFAAAAAgBTmYEAAAADAzARhQAAAAGBmNmFAAAAAoHBNYUAAAABgj2JhQAAAAEDhcmFAAAAAIK5vYUAAAABguAZhQAAAAIA9QmFAAAAA4FGoYEA=",
          "dtype": "f8"
         },
         "name": "Price",
         "open": {
          "bdata": "AAAAAAAA+H8AAAAAAAD4fwAAAAAAAPh/AAAAAAAA+H8AAAAAAAD4fwAAAAAAAPh/AAAAAAAA+H8AAAAAAAD4fwAAAAAAAPh/AAAAAAAA+H8AAAAAAAD4fwAAAAAAAPh/AAAAAAAA+H8AAAAAAAD4fwAAAAAAAPh/AAAAAAAA+H8AAAAAAAD4fwAAAAAAAPh/AAAAAAAA+H8AAAAAAAD4fwAAAAAAAPh/AAAAAAAA+H8AAAAAAAD4fwAAAAAAAPh/AAAAAAAA+H8AAAAAAAD4fwAAAAAAAPh/AAAAAAAA+H8AAAAAAAD4fwAAAAAAAPh/AAAAQAoHYkAAAACA6/FhQAAAAAAA0GFAAAAAwMxUYUAAAACgRwFhQAAAAEAz02FAAAAAwMzsYUAAAACAwu1hQAAAAKBH+WFAAAAAQOGyYUAAAADAHiVhQAAAAAAAYGFAAAAAAClkYUAAAADgepRhQAAAAKBwpWFAAAAAAACwYUAAAACA63lhQAAAAGCPUmFAAAAAoJmJYUA=",
          "dtype": "f8"
         },
         "type": "candlestick",
         "x": {
          "bdata": "AAECAwQFBgcICQoLDA0ODxAREhMUFRYXGBkaGxwdHh8gISIjJCUmJygpKissLS4vMA==",
          "dtype": "i1"
         },
         "xaxis": "x12",
         "yaxis": "y12"
        },
        {
         "line": {
          "color": "white",
          "dash": "dot",
          "width": 1
         },
         "mode": "lines",
         "name": "Support",
         "showlegend": true,
         "type": "scatter",
         "x": {
          "bdata": "AAECAwQFBgcICQoLDA0ODxAREhMUFRYXGBkaGxwdHh8gISIjJCUmJygpKissLS4vMA==",
          "dtype": "i1"
         },
         "xaxis": "x12",
         "y": {
          "bdata": "AAAAAAAA+H8AAAAAAAD4fwAAAAAAAPh/AAAAAAAA+H8AAAAAAAD4fwAAAAAAAPh/AAAAAAAA+H8AAAAAAAD4fwAAAAAAAPh/AAAAAAAA+H8AAAAAAAD4fwAAAAAAAPh/AAAAAAAA+H8AAAAAAAD4fwAAAAAAAPh/AAAAAAAA+H8AAAAAAAD4fwAAAAAAAPh/AAAAAAAA+H8AAAAAAAD4fwAAAAAAAPh/AAAAAAAA+H8AAAAAAAD4fwAAAAAAAPh/AAAAAAAA+H8AAAAAAAD4fwAAAAAAAPh/AAAAAAAA+H8AAAAAAAD4fwAAAAAAAPh/AAAAAAAA+H8AAAAAAAD4fwAAAAAAAPh/AAAAAAAA+H8AAAAAAAD4fwAAAAAAAPh/AAAAAAAA+H9KkiSxkw9hQJMkSbJEH2FAkiRJCq4lYUAAAAAwu4hgQP7//y+P5l9AJEmSRLtuYEABAADgenxgQJIkSSqYqGBA27Zte581YUBJkiQRxIphQJIkSZpgEmFAtm3b1lccYUA=",
          "dtype": "f8"
         },
         "yaxis": "y12"
        },
        {
         "line": {
          "color": "white",
          "dash": "dot",
          "width": 1
         },
         "mode": "lines",
         "name": "Resistance",
         "showlegend": true,
         "type": "scatter",
         "x": {
          "bdata": "AAECAwQFBgcICQoLDA0ODxAREhMUFRYXGBkaGxwdHh8gISIjJCUmJygpKissLS4vMA==",
          "dtype": "i1"
         },
         "xaxis": "x12",
         "y": {
          "bdata": "AAAAAAAA+H8AAAAAAAD4fwAAAAAAAPh/AAAAAAAA+H8AAAAAAAD4fwAAAAAAAPh/AAAAAAAA+H8AAAAAAAD4fwAAAAAAAPh/AAAAAAAA+H8AAAAAAAD4fwAAAAAAAPh/AAAAAAAA+H8AAAAAAAD4fwAAAAAAAPh/AAAAAAAA+H8AAAAAAAD4fwAAAAAAAPh/AAAAAAAA+H8AAAAAAAD4fwAAAAAAAPh/AAAAAAAA+H8AAAAAAAD4fwAAAAAAAPh/AAAAAAAA+H8AAAAAAAD4fwAAAAAAAPh/AAAAAAAA+H8AAAAAAAD4fwAAAAAAAPh/AAAAAAAA+H8AAAAAAAD4fwAAAAAAAPh/AAAAAAAA+H8AAAAAAAD4fwAAAAAAAPh/AAAAAAAA+H8BAAAIAEpiQAIAACCuX2JA27Zt+/9PYkAAAADQGNFhQEmSJMGQhWFAtm3b9u9eYUAAAAD4KJBhQLdt2+6zw2FA////bxRWYkD///+XcHliQEqSJOmg/mFASJIkqQ4GYkA=",
          "dtype": "f8"
         },
         "yaxis": "y12"
        },
        {
         "mode": "lines",
         "name": "EMA",
         "showlegend": true,
         "type": "scatter",
         "x": {
          "bdata": "AAECAwQFBgcICQoLDA0ODxAREhMUFRYXGBkaGxwdHh8gISIjJCUmJygpKissLS4vMA==",
          "dtype": "i1"
         },
         "xaxis": "x12",
         "y": {
          "bdata": "AAAAAAAA+H8AAAAAAAD4fwAAAAAAAPh/AAAAAAAA+H8AAAAAAAD4fwAAAAAAAPh/AAAAAAAA+H8AAAAAAAD4fwAAAAAAAPh/AAAAAAAA+H8AAAAAAAD4fwAAAAAAAPh/AAAAAAAA+H8AAAAAAAD4fwAAAAAAAPh/AAAAAAAA+H8AAAAAAAD4fwAAAAAAAPh/AAAAAAAA+H8AAAAAAAD4fwAAAAAAAPh/AAAAAAAA+H8AAAAAAAD4fwAAAAAAAPh/AAAAAAAA+H8AAAAAAAD4fwAAAAAAAPh/AAAAAAAA+H8AAAAAAAD4fwAAAAAAAPh/AAAA4KPYYUD///+fz9thQNBFF/2r2GFAj5zma4DSYUANdxdiG9RhQDpsctBP12FABu4KzG3aYUDuBmfc6dxhQPCRADRT2WFACPnRne3EYUB7PzMYhrhhQId/0Xuar2FAwLnVB0GtYUCu7k0BgKhhQMweXjt2qmFA0GGbwWeoYUDsWOoSiqNhQNZQ7Nn/pmFAwmAFqQKRYUA=",
          "dtype": "f8"
         },
         "yaxis": "y12"
        },
        {
         "marker": {
          "color": "red",
          "line": {
           "color": "black",
           "width": 2
          },
          "size": 12,
          "symbol": "triangle-down"
         },
         "mode": "markers",
         "name": "Short Signals",
         "showlegend": true,
         "type": "scatter",
         "x": {
          "bdata": "LjA=",
          "dtype": "i1"
         },
         "xaxis": "x12",
         "y": {
          "bdata": "AAAAQOFyYUAAAADAHrVgQA==",
          "dtype": "f8"
         },
         "yaxis": "y12"
        },
        {
         "close": {
          "bdata": "AAAAAAAA+H8AAAAAAAD4fwAAAAAAAPh/AAAAAAAA+H8AAAAAAAD4fwAAAAAAAPh/AAAAAAAA+H8AAAAAAAD4fwAAAAAAAPh/AAAAAAAA+H8AAAAAAAD4fwAAAAAAAPh/AAAAAAAA+H8AAAAAAAD4fwAAAAAAAPh/AAAAAAAA+H8AAAAAAAD4fwAAAAAAAPh/AAAAAAAA+H8AAAAAAAD4fwAAAAAAAPh/AAAAAAAA+H8AAAAAAAD4fwAAAAAAAPh/AAAAAAAA+H8AAAAAAAD4fwAAAAAAAPh/AAAAAAAA+H8AAAAAAAD4fwAAAAAAAPh/AAAAYI+iTEAAAABgZuZMQAAAAEAKF0xAAAAAwB6lTEAAAADgoxBNQAAAAIA9ikxAAAAAYLg+S0AAAABgZuZKQAAAAGBmhkpAAAAAoEfBSUAAAABA4ZpJQAAAAAApPEpAAAAAgMK1SkAAAABguF5KQAAAAAAp/EpAAAAAgD0qS0AAAACAwpVKQAAAAMDMzEpAAAAAACm8SUA=",
          "dtype": "f8"
         },
         "decreasing": {
          "line": {
           "color": "#EF5350"
          }
         },
         "high": {
          "bdata": "AAAAAAAA+H8AAAAAAAD4fwAAAAAAAPh/AAAAAAAA+H8AAAAAAAD4fwAAAAAAAPh/AAAAAAAA+H8AAAAAAAD4fwAAAAAAAPh/AAAAAAAA+H8AAAAAAAD4fwAAAAAAAPh/AAAAAAAA+H8AAAAAAAD4fwAAAAAAAPh/AAAAAAAA+H8AAAAAAAD4fwAAAAAAAPh/AAAAAAAA+H8AAAAAAAD4fwAAAAAAAPh/AAAAAAAA+H8AAAAAAAD4fwAAAAAAAPh/AAAAAAAA+H8AAAAAAAD4fwAAAAAAAPh/AAAAAAAA+H8AAAAAAAD4fwAAAAAAAPh/AAAA4KPwTEAAAAAghYtNQAAAAGBmBk1AAAAAQDOzTEAAAADgejRNQAAAAOBRGE1AAAAAANdjTEAAAABACldLQAAAAMD16EpAAAAA4KOQSkAAAACgmdlJQAAAAKBwXUpAAAAAwMxMS0AAAAAghQtLQAAAAMD1CEtAAAAAoJnZS0AAAAAAAABLQAAAAAAAAEtAAAAAAADASkA=",
          "dtype": "f8"
         },
         "increasing": {
          "line": {
           "color": "#26A69A"
          }
         },
         "low": {
          "bdata": "AAAAAAAA+H8AAAAAAAD4fwAAAAAAAPh/AAAAAAAA+H8AAAAAAAD4fwAAAAAAAPh/AAAAAAAA+H8AAAAAAAD4fwAAAAAAAPh/AAAAAAAA+H8AAAAAAAD4fwAAAAAAAPh/AAAAAAAA+H8AAAAAAAD4fwAAAAAAAPh/AAAAAAAA+H8AAAAAAAD4fwAAAAAAAPh/AAAAAAAA+H8AAAAAAAD4fwAAAAAAAPh/AAAAAAAA+H8AAAAAAAD4fwAAAAAAAPh/AAAAAAAA+H8AAAAAAAD4fwAAAAAAAPh/AAAAAAAA+H8AAAAAAAD4fwAAAAAAAPh/AAAAIIVrTEAAAABgj6JMQAAAAOB6FExAAAAAIK7nS0AAAADAzKxMQAAAAKBwfUxAAAAAIFwvS0AAAAAgXI9KQAAAAGCPQkpAAAAAYI+iSUAAAAAAAEBJQAAAAMAeRUlAAAAAgD1KSkAAAACgR0FKQAAAAMAeJUpAAAAAwMzsSkAAAAAghStKQAAAAEAzc0pAAAAAQDOzSUA=",
          "dtype": "f8"
         },
         "name": "Price",
         "open": {
          "bdata": "AAAAAAAA+H8AAAAAAAD4fwAAAAAAAPh/AAAAAAAA+H8AAAAAAAD4fwAAAAAAAPh/AAAAAAAA+H8AAAAAAAD4fwAAAAAAAPh/AAAAAAAA+H8AAAAAAAD4fwAAAAAAAPh/AAAAAAAA+H8AAAAAAAD4fwAAAAAAAPh/AAAAAAAA+H8AAAAAAAD4fwAAAAAAAPh/AAAAAAAA+H8AAAAAAAD4fwAAAAAAAPh/AAAAAAAA+H8AAAAAAAD4fwAAAAAAAPh/AAAAAAAA+H8AAAAAAAD4fwAAAAAAAPh/AAAAAAAA+H8AAAAAAAD4fwAAAAAAAPh/AAAAACmcTEAAAABA4bpMQAAAAGC4vkxAAAAAoHD9S0AAAADgUdhMQAAAAOB6FE1AAAAAQOFaTEAAAADAHiVLQAAAAAAA4EpAAAAAoEeBSkAAAAAgXM9JQAAAAOCjkElAAAAAQApXSkAAAABgj+JKQAAAAAAAQEpAAAAAYI+CS0AAAAAAAABLQAAAAGCPokpAAAAAwB5lSkA=",
          "dtype": "f8"
         },
         "type": "candlestick",
         "x": {
          "bdata": "AAECAwQFBgcICQoLDA0ODxAREhMUFRYXGBkaGxwdHh8gISIjJCUmJygpKissLS4vMA==",
          "dtype": "i1"
         },
         "xaxis": "x13",
         "yaxis": "y13"
        },
        {
         "line": {
          "color": "white",
          "dash": "dot",
          "width": 1
         },
         "mode": "lines",
         "name": "Support",
         "showlegend": true,
         "type": "scatter",
         "x": {
          "bdata": "AAECAwQFBgcICQoLDA0ODxAREhMUFRYXGBkaGxwdHh8gISIjJCUmJygpKissLS4vMA==",
          "dtype": "i1"
         },
         "xaxis": "x13",
         "y": {
          "bdata": "AAAAAAAA+H8AAAAAAAD4fwAAAAAAAPh/AAAAAAAA+H8AAAAAAAD4fwAAAAAAAPh/AAAAAAAA+H8AAAAAAAD4fwAAAAAAAPh/AAAAAAAA+H8AAAAAAAD4fwAAAAAAAPh/AAAAAAAA+H8AAAAAAAD4fwAAAAAAAPh/AAAAAAAA+H8AAAAAAAD4fwAAAAAAAPh/AAAAAAAA+H8AAAAAAAD4fwAAAAAAAPh/AAAAAAAA+H8AAAAAAAD4fwAAAAAAAPh/AAAAAAAA+H8AAAAAAAD4fwAAAAAAAPh/AAAAAAAA+H8AAAAAAAD4fwAAAAAAAPh/AAAAAAAA+H8AAAAAAAD4fwAAAAAAAPh/AAAAAAAA+H8AAAAAAAD4fwAAAAAAAPh/AAAAAAAA+H8lSZLMkAtLQAAAAGAXSEpAAgAA6CiUSUD9//8/uA5IQP7//7+2LUhA3LZtG4VrSEAlSZJEQ9ZIQJEkSfLvJElAkSRJsvvMSUCTJEmy1YpKQLZt24brWUpAAwAA2HrUSUA=",
          "dtype": "f8"
         },
         "yaxis": "y13"
        },
        {
         "line": {
          "color": "white",
          "dash": "dot",
          "width": 1
         },
         "mode": "lines",
         "name": "Resistance",
         "showlegend": true,
         "type": "scatter",
         "x": {
          "bdata": "AAECAwQFBgcICQoLDA0ODxAREhMUFRYXGBkaGxwdHh8gISIjJCUmJygpKissLS4vMA==",
          "dtype": "i1"
         },
         "xaxis": "x13",
         "y": {
          "bdata": "AAAAAAAA+H8AAAAAAAD4fwAAAAAAAPh/AAAAAAAA+H8AAAAAAAD4fwAAAAAAAPh/AAAAAAAA+H8AAAAAAAD4fwAAAAAAAPh/AAAAAAAA+H8AAAAAAAD4fwAAAAAAAPh/AAAAAAAA+H8AAAAAAAD4fwAAAAAAAPh/AAAAAAAA+H8AAAAAAAD4fwAAAAAAAPh/AAAAAAAA+H8AAAAAAAD4fwAAAAAAAPh/AAAAAAAA+H8AAAAAAAD4fwAAAAAAAPh/AAAAAAAA+H8AAAAAAAD4fwAAAAAAAPh/AAAAAAAA+H8AAAAAAAD4fwAAAAAAAPh/AAAAAAAA+H8AAAAAAAD4fwAAAAAAAPh/AAAAAAAA+H8AAAAAAAD4fwAAAAAAAPh/AAAAAAAA+H9JkiQ5u9BMQP///5+DQkxAb9u2LWyqS0CQJEnSxlhKQP7//8/ZhUlAAQAAQI9CSkAAAACgHm1LQEiSJLlEP0tA/f//Z7jWS0ABAAAApFhMQG3btm1mNkxAJkmSPAoXTEA=",
          "dtype": "f8"
         },
         "yaxis": "y13"
        },
        {
         "mode": "lines",
         "name": "EMA",
         "showlegend": true,
         "type": "scatter",
         "x": {
          "bdata": "AAECAwQFBgcICQoLDA0ODxAREhMUFRYXGBkaGxwdHh8gISIjJCUmJygpKissLS4vMA==",
          "dtype": "i1"
         },
         "xaxis": "x13",
         "y": {
          "bdata": "AAAAAAAA+H8AAAAAAAD4fwAAAAAAAPh/AAAAAAAA+H8AAAAAAAD4fwAAAAAAAPh/AAAAAAAA+H8AAAAAAAD4fwAAAAAAAPh/AAAAAAAA+H8AAAAAAAD4fwAAAAAAAPh/AAAAAAAA+H8AAAAAAAD4fwAAAAAAAPh/AAAAAAAA+H8AAAAAAAD4fwAAAAAAAPh/AAAAAAAA+H8AAAAAAAD4fwAAAAAAAPh/AAAAAAAA+H8AAAAAAAD4fwAAAAAAAPh/AAAAAAAA+H8AAAAAAAD4fwAAAAAAAPh/AAAAAAAA+H8AAAAAAAD4fwAAAAAAAPh/AAAAYI+iTEAXXXQxuqhMQIr3I6d7m0xAT/g371ucTEBebWEc7qZMQCdMQWtSpExArxYkDdCDTEBZ/drOOl5MQDmJmApWM0xAkcLnAGz6S0BVghjYMMNLQNjqoX6kn0tAxOx7Z2GKS0BskRN+I29LQNYPKaGvZEtATrGZb19fS0DpidFZC01LQHbaMsBiQUtAgmnoaAAeS0A=",
          "dtype": "f8"
         },
         "yaxis": "y13"
        },
        {
         "marker": {
          "color": "red",
          "line": {
           "color": "black",
           "width": 2
          },
          "size": 12,
          "symbol": "triangle-down"
         },
         "mode": "markers",
         "name": "Short Signals",
         "showlegend": true,
         "type": "scatter",
         "x": {
          "bdata": "MA==",
          "dtype": "i1"
         },
         "xaxis": "x13",
         "y": {
          "bdata": "AAAAACm8SUA=",
          "dtype": "f8"
         },
         "yaxis": "y13"
        },
        {
         "close": {
          "bdata": "AAAAAAAA+H8AAAAAAAD4fwAAAAAAAPh/AAAAAAAA+H8AAAAAAAD4fwAAAAAAAPh/AAAAAAAA+H8AAAAAAAD4fwAAAAAAAPh/AAAAAAAA+H8AAAAAAAD4fwAAAAAAAPh/AAAAAAAA+H8AAAAAAAD4fwAAAAAAAPh/AAAAAAAA+H8AAAAAAAD4fwAAAAAAAPh/AAAAAAAA+H8AAAAAAAD4fwAAAAAAAPh/AAAAAAAA+H8AAAAAAAD4fwAAAAAAAPh/AAAAAAAA+H8AAAAAAAD4fwAAAAAAAPh/AAAAAAAA+H8AAAAAAAD4fwAAAAAAAPh/AAAAAIoDjUAAAAAgF1KNQAAAAOARVo1AAAAAIOYSjUAAAADAzbGMQAAAAEAqBo1AAAAAwKL4jEAAAABAxzGNQAAAAAAXO41AAAAAgGGXjEAAAACAdkKMQAAAAIDCL4xAAAAAgD1yjEAAAABACnOMQAAAAMD1RIxAAAAA4KN0jEAAAADgUXCMQAAAAAApyIxAAAAAQDM/i0A=",
          "dtype": "f8"
         },
         "decreasing": {
          "line": {
           "color": "#EF5350"
          }
         },
         "high": {
          "bdata": "AAAAAAAA+H8AAAAAAAD4fwAAAAAAAPh/AAAAAAAA+H8AAAAAAAD4fwAAAAAAAPh/AAAAAAAA+H8AAAAAAAD4fwAAAAAAAPh/AAAAAAAA+H8AAAAAAAD4fwAAAAAAAPh/AAAAAAAA+H8AAAAAAAD4fwAAAAAAAPh/AAAAAAAA+H8AAAAAAAD4fwAAAAAAAPh/AAAAAAAA+H8AAAAAAAD4fwAAAAAAAPh/AAAAAAAA+H8AAAAAAAD4fwAAAAAAAPh/AAAAAAAA+H8AAAAAAAD4fwAAAAAAAPh/AAAAAAAA+H8AAAAAAAD4fwAAAAAAAPh//zRHvbxQjUC5J9I4JlaNQB/yahJ1WI1AffLg03VIjUCblnlWsr6MQNyoVULTo41Ahd+mNmoyjUCoImcY3zaNQJowZox3P41Aeh2LbuMUjUADrZqS7ZmMQBpd96UZcYxAAAAAoJmljEAAAADgo76MQAAAAAAAkIxAAAAAYLjMjEAAAABA4ayMQAAAAOCj+IxAAAAAAACUjEA=",
          "dtype": "f8"
         },
         "increasing": {
          "line": {
           "color": "#26A69A"
          }
         },
         "low": {
          "bdata": "AAAAAAAA+H8AAAAAAAD4fwAAAAAAAPh/AAAAAAAA+H8AAAAAAAD4fwAAAAAAAPh/AAAAAAAA+H8AAAAAAAD4fwAAAAAAAPh/AAAAAAAA+H8AAAAAAAD4fwAAAAAAAPh/AAAAAAAA+H8AAAAAAAD4fwAAAAAAAPh/AAAAAAAA+H8AAAAAAAD4fwAAAAAAAPh/AAAAAAAA+H8AAAAAAAD4fwAAAAAAAPh/AAAAAAAA+H8AAAAAAAD4fwAAAAAAAPh/AAAAAAAA+H8AAAAAAAD4fwAAAAAAAPh/AAAAAAAA+H8AAAAAAAD4fwAAAAAAAPh/WqShi8LgjECOBx6d/tmMQLaZLCj6zYxAVTiYRIu1jEACjgBaK6uLQG70kcGXpIxAyaD0Dyw1jECmrBt/776MQIZDYI3g0YxAYfFfkBJ+jEAq60hEqs6LQGRYMkGNEoxAAAAAoHBZjEAAAAAgrleMQAAAAOB6DoxAAAAAgOs9jEAAAACgcP2LQAAAAIDrQ4xAAAAA4Hoyi0A=",
          "dtype": "f8"
         },
         "name": "Price",
         "open": {
          "bdata": "AAAAAAAA+H8AAAAAAAD4fwAAAAAAAPh/AAAAAAAA+H8AAAAAAAD4fwAAAAAAAPh/AAAAAAAA+H8AAAAAAAD4fwAAAAAAAPh/AAAAAAAA+H8AAAAAAAD4fwAAAAAAAPh/AAAAAAAA+H8AAAAAAAD4fwAAAAAAAPh/AAAAAAAA+H8AAAAAAAD4fwAAAAAAAPh/AAAAAAAA+H8AAAAAAAD4fwAAAAAAAPh/AAAAAAAA+H8AAAAAAAD4fwAAAAAAAPh/AAAAAAAA+H8AAAAAAAD4fwAAAAAAAPh/AAAAAAAA+H8AAAAAAAD4fwAAAAAAAPh/3q6WoIdKjUBwkQgW/heNQFwtOG2N8YxAVTiYRIu1jEBexHQBzPKLQFVpWZX2sYxAouKcfzObjEAZYYz5ePGMQNHZEEXHMY1Axxy3XHcRjUBorYsuuoqMQCbmxa1sOoxAAAAA4KNijEAAAABguJqMQAAAAAAAcIxAAAAAYI+AjEAAAAAA122MQAAAAIDrQ4xAAAAAwMxwjEA=",
          "dtype": "f8"
         },
         "type": "candlestick",
         "x": {
          "bdata": "AAECAwQFBgcICQoLDA0ODxAREhMUFRYXGBkaGxwdHh8gISIjJCUmJygpKissLS4vMA==",
          "dtype": "i1"
         },
         "xaxis": "x14",
         "yaxis": "y14"
        },
        {
         "line": {
          "color": "white",
          "dash": "dot",
          "width": 1
         },
         "mode": "lines",
         "name": "Support",
         "showlegend": true,
         "type": "scatter",
         "x": {
          "bdata": "AAECAwQFBgcICQoLDA0ODxAREhMUFRYXGBkaGxwdHh8gISIjJCUmJygpKissLS4vMA==",
          "dtype": "i1"
         },
         "xaxis": "x14",
         "y": {
          "bdata": "AAAAAAAA+H8AAAAAAAD4fwAAAAAAAPh/AAAAAAAA+H8AAAAAAAD4fwAAAAAAAPh/AAAAAAAA+H8AAAAAAAD4fwAAAAAAAPh/AAAAAAAA+H8AAAAAAAD4fwAAAAAAAPh/AAAAAAAA+H8AAAAAAAD4fwAAAAAAAPh/AAAAAAAA+H8AAAAAAAD4fwAAAAAAAPh/AAAAAAAA+H8AAAAAAAD4fwAAAAAAAPh/AAAAAAAA+H8AAAAAAAD4fwAAAAAAAPh/AAAAAAAA+H8AAAAAAAD4fwAAAAAAAPh/AAAAAAAA+H8AAAAAAAD4fwAAAAAAAPh/AAAAAAAA+H8AAAAAAAD4fwAAAAAAAPh/AAAAAAAA+H8AAAAAAAD4fwAAAAAAAPh/AAAAAAAA+H+5+9uIy4WLQHBpt4fOgItAufvbiGS0i0An15KO8p+LQAKOAJriMItAyKD0Ty48i0DHoPSfNRGLQCvrSES7NItAK+tI1FxGi0Ao60i00ceLQNu2bfOnBYxAt23b5u8djEA=",
          "dtype": "f8"
         },
         "yaxis": "y14"
        },
        {
         "line": {
          "color": "white",
          "dash": "dot",
          "width": 1
         },
         "mode": "lines",
         "name": "Resistance",
         "showlegend": true,
         "type": "scatter",
         "x": {
          "bdata": "AAECAwQFBgcICQoLDA0ODxAREhMUFRYXGBkaGxwdHh8gISIjJCUmJygpKissLS4vMA==",
          "dtype": "i1"
         },
         "xaxis": "x14",
         "y": {
          "bdata": "AAAAAAAA+H8AAAAAAAD4fwAAAAAAAPh/AAAAAAAA+H8AAAAAAAD4fwAAAAAAAPh/AAAAAAAA+H8AAAAAAAD4fwAAAAAAAPh/AAAAAAAA+H8AAAAAAAD4fwAAAAAAAPh/AAAAAAAA+H8AAAAAAAD4fwAAAAAAAPh/AAAAAAAA+H8AAAAAAAD4fwAAAAAAAPh/AAAAAAAA+H8AAAAAAAD4fwAAAAAAAPh/AAAAAAAA+H8AAAAAAAD4fwAAAAAAAPh/AAAAAAAA+H8AAAAAAAD4fwAAAAAAAPh/AAAAAAAA+H8AAAAAAAD4fwAAAAAAAPh/AAAAAAAA+H8AAAAAAAD4fwAAAAAAAPh/AAAAAAAA+H8AAAAAAAD4fwAAAAAAAPh/AAAAAAAA+H8B8ue26IqNQG/NnqQNhI1Abs2eNDSrjUAmO3pDeZqNQLdfw50CO41AmjBmDHmZjECSJEki5HuMQAAAACAomIxAAAAAgB6IjEB4HYvG5gyNQG7bti2B34xASpIkEeIPjUA=",
          "dtype": "f8"
         },
         "yaxis": "y14"
        },
        {
         "mode": "lines",
         "name": "EMA",
         "showlegend": true,
         "type": "scatter",
         "x": {
          "bdata": "AAECAwQFBgcICQoLDA0ODxAREhMUFRYXGBkaGxwdHh8gISIjJCUmJygpKissLS4vMA==",
          "dtype": "i1"
         },
         "xaxis": "x14",
         "y": {
          "bdata": "AAAAAAAA+H8AAAAAAAD4fwAAAAAAAPh/AAAAAAAA+H8AAAAAAAD4fwAAAAAAAPh/AAAAAAAA+H8AAAAAAAD4fwAAAAAAAPh/AAAAAAAA+H8AAAAAAAD4fwAAAAAAAPh/AAAAAAAA+H8AAAAAAAD4fwAAAAAAAPh/AAAAAAAA+H8AAAAAAAD4fwAAAAAAAPh/AAAAAAAA+H8AAAAAAAD4fwAAAAAAAPh/AAAAAAAA+H8AAAAAAAD4fwAAAAAAAPh/AAAAAAAA+H8AAAAAAAD4fwAAAAAAAPh/AAAAAAAA+H8AAAAAAAD4fwAAAAAAAPh/AAAAAIoDjUCiiy4argqNQKtnh6CIEY1AyoxMZqgRjUDPxf+c8QiNQNOzovGwCI1ABdI2SjsHjUDtvtR3GQuNQO8hqlV2D41AfKqatosEjUC3gy/g5vKMQBvsE2Mp4YxA6e1X8RPXjEBI2PLJ+82MQLUhUeCGwYxAu3syg4m6jECSzdBFyrOMQCjSvVaktYxAJBzbDpqTjEA=",
          "dtype": "f8"
         },
         "yaxis": "y14"
        },
        {
         "marker": {
          "color": "red",
          "line": {
           "color": "black",
           "width": 2
          },
          "size": 12,
          "symbol": "triangle-down"
         },
         "mode": "markers",
         "name": "Short Signals",
         "showlegend": true,
         "type": "scatter",
         "x": {
          "bdata": "MA==",
          "dtype": "i1"
         },
         "xaxis": "x14",
         "y": {
          "bdata": "AAAAQDM/i0A=",
          "dtype": "f8"
         },
         "yaxis": "y14"
        },
        {
         "close": {
          "bdata": "AAAAAAAA+H8AAAAAAAD4fwAAAAAAAPh/AAAAAAAA+H8AAAAAAAD4fwAAAAAAAPh/AAAAAAAA+H8AAAAAAAD4fwAAAAAAAPh/AAAAAAAA+H8AAAAAAAD4fwAAAAAAAPh/AAAAAAAA+H8AAAAAAAD4fwAAAAAAAPh/AAAAAAAA+H8AAAAAAAD4fwAAAAAAAPh/AAAAAAAA+H8AAAAAAAD4fwAAAAAAAPh/AAAAAAAA+H8AAAAAAAD4fwAAAAAAAPh/AAAAAAAA+H8AAAAAAAD4fwAAAAAAAPh/AAAAAAAA+H8AAAAAAAD4fwAAAAAAAPh/AAAA4Lt6SUAAAADgv6tKQAAAAEDuzEpAAAAAgIkbSkAAAAAAWVtKQAAAAODQokpAAAAAANfjSkAAAABguB5LQAAAACCuR0pAAAAAYLgeSUAAAACAPQpJQAAAACCFa0hAAAAAwB5lSEAAAADgo1BHQAAAAIDCFUhAAAAAQOFaSEAAAAAAAABJQAAAAOCjEElAAAAA4HoUR0A=",
          "dtype": "f8"
         },
         "decreasing": {
          "line": {
           "color": "#EF5350"
          }
         },
         "high": {
          "bdata": "AAAAAAAA+H8AAAAAAAD4fwAAAAAAAPh/AAAAAAAA+H8AAAAAAAD4fwAAAAAAAPh/AAAAAAAA+H8AAAAAAAD4fwAAAAAAAPh/AAAAAAAA+H8AAAAAAAD4fwAAAAAAAPh/AAAAAAAA+H8AAAAAAAD4fwAAAAAAAPh/AAAAAAAA+H8AAAAAAAD4fwAAAAAAAPh/AAAAAAAA+H8AAAAAAAD4fwAAAAAAAPh/AAAAAAAA+H8AAAAAAAD4fwAAAAAAAPh/AAAAAAAA+H8AAAAAAAD4fwAAAAAAAPh/AAAAAAAA+H8AAAAAAAD4fwAAAAAAAPh/ZdArssPpSUCSqdyuuMJKQA5G8gIzL0tAoEQPRZn5SkC4b6SdSolKQFUWgZWW1EpAAAAAYGZGS0AAAADgelRMQAAAAKBHAUtAAAAAwB5FSkAAAABAM1NJQAAAAMD1CElAAAAAgBTuSEAAAADAzKxIQAAAAKBHIUhAAAAAgMK1SEAAAABA4ZpJQAAAACCFK0lAAAAAQAq3SEA=",
          "dtype": "f8"
         },
         "increasing": {
          "line": {
           "color": "#26A69A"
          }
         },
         "low": {
          "bdata": "AAAAAAAA+H8AAAAAAAD4fwAAAAAAAPh/AAAAAAAA+H8AAAAAAAD4fwAAAAAAAPh/AAAAAAAA+H8AAAAAAAD4fwAAAAAAAPh/AAAAAAAA+H8AAAAAAAD4fwAAAAAAAPh/AAAAAAAA+H8AAAAAAAD4fwAAAAAAAPh/AAAAAAAA+H8AAAAAAAD4fwAAAAAAAPh/AAAAAAAA+H8AAAAAAAD4fwAAAAAAAPh/AAAAAAAA+H8AAAAAAAD4fwAAAAAAAPh/AAAAAAAA+H8AAAAAAAD4fwAAAAAAAPh/AAAAAAAA+H8AAAAAAAD4fwAAAAAAAPh/obV2moNLSUDxIYpUyK1JQNIJ3kuigUpAUASV9Bi9SUCYWjNuG+JJQNDTPvSVTkpAAAAAoJlZSkAAAADAHgVLQAAAAKBw3UlAAAAAwB7lSEAAAAAAAIBIQAAAAKBw/UdAAAAAgOtRSEAAAACA6zFHQAAAAKCZGUdAAAAAANcDSEAAAACgcL1HQAAAAKBHYUhAAAAAACn8RkA=",
          "dtype": "f8"
         },
         "name": "Price",
         "open": {
          "bdata": "AAAAAAAA+H8AAAAAAAD4fwAAAAAAAPh/AAAAAAAA+H8AAAAAAAD4fwAAAAAAAPh/AAAAAAAA+H8AAAAAAAD4fwAAAAAAAPh/AAAAAAAA+H8AAAAAAAD4fwAAAAAAAPh/AAAAAAAA+H8AAAAAAAD4fwAAAAAAAPh/AAAAAAAA+H8AAAAAAAD4fwAAAAAAAPh/AAAAAAAA+H8AAAAAAAD4fwAAAAAAAPh/AAAAAAAA+H8AAAAAAAD4fwAAAAAAAPh/AAAAAAAA+H8AAAAAAAD4fwAAAAAAAPh/AAAAAAAA+H8AAAAAAAD4fwAAAAAAAPh/GfdjRziGSUAoTQNst7ZJQH12F5H1tUpAYAMxuMm5SkA1rMTJ4zhKQPNDMvtHZEpAAAAAIFzPSkAAAAAAKXxLQAAAAAAAwEpAAAAAAABASkAAAADA9QhJQAAAAAAAAElAAAAAwB7FSEAAAAAgrodIQAAAAIA9KkdAAAAAwMxsSEAAAABAM1NIQAAAAMAe5UhAAAAAwMyMSEA=",
          "dtype": "f8"
         },
         "type": "candlestick",
         "x": {
          "bdata": "AAECAwQFBgcICQoLDA0ODxAREhMUFRYXGBkaGxwdHh8gISIjJCUmJygpKissLS4vMA==",
          "dtype": "i1"
         },
         "xaxis": "x15",
         "yaxis": "y15"
        },
        {
         "line": {
          "color": "white",
          "dash": "dot",
          "width": 1
         },
         "mode": "lines",
         "name": "Support",
         "showlegend": true,
         "type": "scatter",
         "x": {
          "bdata": "AAECAwQFBgcICQoLDA0ODxAREhMUFRYXGBkaGxwdHh8gISIjJCUmJygpKissLS4vMA==",
          "dtype": "i1"
         },
         "xaxis": "x15",
         "y": {
          "bdata": "AAAAAAAA+H8AAAAAAAD4fwAAAAAAAPh/AAAAAAAA+H8AAAAAAAD4fwAAAAAAAPh/AAAAAAAA+H8AAAAAAAD4fwAAAAAAAPh/AAAAAAAA+H8AAAAAAAD4fwAAAAAAAPh/AAAAAAAA+H8AAAAAAAD4fwAAAAAAAPh/AAAAAAAA+H8AAAAAAAD4fwAAAAAAAPh/AAAAAAAA+H8AAAAAAAD4fwAAAAAAAPh/AAAAAAAA+H8AAAAAAAD4fwAAAAAAAPh/AAAAAAAA+H8AAAAAAAD4fwAAAAAAAPh/AAAAAAAA+H8AAAAAAAD4fwAAAAAAAPh/AAAAAAAA+H8AAAAAAAD4fwAAAAAAAPh/AAAAAAAA+H8AAAAAAAD4fwAAAAAAAPh/AAAAAAAA+H+htXYiezlKQCq7AhgHG0pAAAAACI3mSUAlSZKMDc1IQJRaM1Yw/EdAztM+ZFA4R0D9//+nmdFGQLZt29byDkZAkSRJ4rNrRkBs27YlRqBGQG7btm09CkdASJIkyaayR0A=",
          "dtype": "f8"
         },
         "yaxis": "y15"
        },
        {
         "line": {
          "color": "white",
          "dash": "dot",
          "width": 1
         },
         "mode": "lines",
         "name": "Resistance",
         "showlegend": true,
         "type": "scatter",
         "x": {
          "bdata": "AAECAwQFBgcICQoLDA0ODxAREhMUFRYXGBkaGxwdHh8gISIjJCUmJygpKissLS4vMA==",
          "dtype": "i1"
         },
         "xaxis": "x15",
         "y": {
          "bdata": "AAAAAAAA+H8AAAAAAAD4fwAAAAAAAPh/AAAAAAAA+H8AAAAAAAD4fwAAAAAAAPh/AAAAAAAA+H8AAAAAAAD4fwAAAAAAAPh/AAAAAAAA+H8AAAAAAAD4fwAAAAAAAPh/AAAAAAAA+H8AAAAAAAD4fwAAAAAAAPh/AAAAAAAA+H8AAAAAAAD4fwAAAAAAAPh/AAAAAAAA+H8AAAAAAAD4fwAAAAAAAPh/AAAAAAAA+H8AAAAAAAD4fwAAAAAAAPh/AAAAAAAA+H8AAAAAAAD4fwAAAAAAAPh/AAAAAAAA+H8AAAAAAAD4fwAAAAAAAPh/AAAAAAAA+H8AAAAAAAD4fwAAAAAAAPh/AAAAAAAA+H8AAAAAAAD4fwAAAAAAAPh/AAAAAAAA+H/p/F/2LNlLQJIkSRpEZ0xAAAAAsLNmTEBu27ZFRwxMQLVt2/bPPktA2rZtCwAgSkBHkiR5n01JQP/////WW0hA/P//94RLSED8//+XR/FIQCVJkoTClUlA////x8wUSkA=",
          "dtype": "f8"
         },
         "yaxis": "y15"
        },
        {
         "mode": "lines",
         "name": "EMA",
         "showlegend": true,
         "type": "scatter",
         "x": {
          "bdata": "AAECAwQFBgcICQoLDA0ODxAREhMUFRYXGBkaGxwdHh8gISIjJCUmJygpKissLS4vMA==",
          "dtype": "i1"
         },
         "xaxis": "x15",
         "y": {
          "bdata": "AAAAAAAA+H8AAAAAAAD4fwAAAAAAAPh/AAAAAAAA+H8AAAAAAAD4fwAAAAAAAPh/AAAAAAAA+H8AAAAAAAD4fwAAAAAAAPh/AAAAAAAA+H8AAAAAAAD4fwAAAAAAAPh/AAAAAAAA+H8AAAAAAAD4fwAAAAAAAPh/AAAAAAAA+H8AAAAAAAD4fwAAAAAAAPh/AAAAAAAA+H8AAAAAAAD4fwAAAAAAAPh/AAAAAAAA+H8AAAAAAAD4fwAAAAAAAPh/AAAAAAAA+H8AAAAAAAD4fwAAAAAAAPh/AAAAAAAA+H8AAAAAAAD4fwAAAAAAAPh/AAAA4Lt6SUC66KJrdpZJQHp2CNyvsklAKT02Aji8SUAOCRpfr8pJQDsIjFNV3klAZKrzSxv2SUDPPcZNEhFKQOogVzIJFkpAMjVPfI3/SUCiR19lQOlJQDaeVnaMxklAjng3N2umSUDehI9GE3BJQJu+mZGXUElAdmcXLUE6SUBUdc9u9TRJQB08SDOoMUlA603NiHUASUA=",
          "dtype": "f8"
         },
         "yaxis": "y15"
        },
        {
         "marker": {
          "color": "red",
          "line": {
           "color": "black",
           "width": 2
          },
          "size": 12,
          "symbol": "triangle-down"
         },
         "mode": "markers",
         "name": "Short Signals",
         "showlegend": true,
         "type": "scatter",
         "x": {
          "bdata": "MA==",
          "dtype": "i1"
         },
         "xaxis": "x15",
         "y": {
          "bdata": "AAAA4HoUR0A=",
          "dtype": "f8"
         },
         "yaxis": "y15"
        },
        {
         "close": {
          "bdata": "AAAAAAAA+H8AAAAAAAD4fwAAAAAAAPh/AAAAAAAA+H8AAAAAAAD4fwAAAAAAAPh/AAAAAAAA+H8AAAAAAAD4fwAAAAAAAPh/AAAAAAAA+H8AAAAAAAD4fwAAAAAAAPh/AAAAAAAA+H8AAAAAAAD4fwAAAAAAAPh/AAAAAAAA+H8AAAAAAAD4fwAAAAAAAPh/AAAAAAAA+H8AAAAAAAD4fwAAAAAAAPh/AAAAAAAA+H8AAAAAAAD4fwAAAAAAAPh/AAAAAAAA+H8AAAAAAAD4fwAAAAAAAPh/AAAAAAAA+H8AAAAAAAD4fwAAAAAAAPh/AAAAgJ/YcEAAAACASLVwQAAAACCCz3BAAAAA4L8UcUAAAACA59VwQAAAAICJm3BAAAAAoILLcEAAAADAvtVwQAAAAGCPunBAAAAAANc3cEAAAABgZi5wQAAAAEAzH3BAAAAAIFw/cEAAAACgmTFwQAAAACBcj3BAAAAAoEd5cEAAAADA9ThwQAAAAADXN3BAAAAAANdjb0A=",
          "dtype": "f8"
         },
         "decreasing": {
          "line": {
           "color": "#EF5350"
          }
         },
         "high": {
          "bdata": "AAAAAAAA+H8AAAAAAAD4fwAAAAAAAPh/AAAAAAAA+H8AAAAAAAD4fwAAAAAAAPh/AAAAAAAA+H8AAAAAAAD4fwAAAAAAAPh/AAAAAAAA+H8AAAAAAAD4fwAAAAAAAPh/AAAAAAAA+H8AAAAAAAD4fwAAAAAAAPh/AAAAAAAA+H8AAAAAAAD4fwAAAAAAAPh/AAAAAAAA+H8AAAAAAAD4fwAAAAAAAPh/AAAAAAAA+H8AAAAAAAD4fwAAAAAAAPh/AAAAAAAA+H8AAAAAAAD4fwAAAAAAAPh/AAAAAAAA+H8AAAAAAAD4fwAAAAAAAPh/CjbYMmwgcUCdQLlYFvVwQNUUghDQ63BALGOuBQUmcUA+RxGsDTFxQMIK3jqS7XBA+O9x42LScED9VlYhfutwQEmZb8mK2nBAAAAAoHDdcEAAAABguIpwQAAAAEAzP3BAAAAAwMxscEAAAACA63lwQAAAAAAplHBAAAAAgD2+cEAAAADA9WxwQAAAAADXS3BAAAAAoHADcEA=",
          "dtype": "f8"
         },
         "increasing": {
          "line": {
           "color": "#26A69A"
          }
         },
         "low": {
          "bdata": "AAAAAAAA+H8AAAAAAAD4fwAAAAAAAPh/AAAAAAAA+H8AAAAAAAD4fwAAAAAAAPh/AAAAAAAA+H8AAAAAAAD4fwAAAAAAAPh/AAAAAAAA+H8AAAAAAAD4fwAAAAAAAPh/AAAAAAAA+H8AAAAAAAD4fwAAAAAAAPh/AAAAAAAA+H8AAAAAAAD4fwAAAAAAAPh/AAAAAAAA+H8AAAAAAAD4fwAAAAAAAPh/AAAAAAAA+H8AAAAAAAD4fwAAAAAAAPh/AAAAAAAA+H8AAAAAAAD4fwAAAAAAAPh/AAAAAAAA+H8AAAAAAAD4fwAAAAAAAPh/fmpFxfTAcEB+9RJOqZRwQPH7IaqkbXBAe+cmHVHAcEAzL9+D67lwQINpVcn8iHBAlv92w1JtcEDpXGTTSqVwQENb6UW0j3BAAAAAwMwMcEAAAACgmSFwQAAAAKBwxW9AAAAAYLgycEAAAACA6yVwQAAAAEAzP3BAAAAAANdPcEAAAABA4fJvQAAAAEAK929AAAAAIDFKb0A=",
          "dtype": "f8"
         },
         "name": "Price",
         "open": {
          "bdata": "AAAAAAAA+H8AAAAAAAD4fwAAAAAAAPh/AAAAAAAA+H8AAAAAAAD4fwAAAAAAAPh/AAAAAAAA+H8AAAAAAAD4fwAAAAAAAPh/AAAAAAAA+H8AAAAAAAD4fwAAAAAAAPh/AAAAAAAA+H8AAAAAAAD4fwAAAAAAAPh/AAAAAAAA+H8AAAAAAAD4fwAAAAAAAPh/AAAAAAAA+H8AAAAAAAD4fwAAAAAAAPh/AAAAAAAA+H8AAAAAAAD4fwAAAAAAAPh/AAAAAAAA+H8AAAAAAAD4fwAAAAAAAPh/AAAAAAAA+H8AAAAAAAD4fwAAAAAAAPh/WLvOILPecEBEKyiMVO9wQC6FfoSjdXBAbm9K93nAcEA+RxGsDTFxQE0LFpwN6nBA3XbmFhmacED8sVH1R7lwQC9CB4rI2HBAAAAAwPXIcEAAAACgR2FwQAAAAEAzP3BAAAAAgD1CcEAAAAAgXE9wQAAAAEDhQnBAAAAAYGaOcEAAAABACjtwQAAAAMDMOHBAAAAAYI/ib0A=",
          "dtype": "f8"
         },
         "type": "candlestick",
         "x": {
          "bdata": "AAECAwQFBgcICQoLDA0ODxAREhMUFRYXGBkaGxwdHh8gISIjJCUmJygpKissLS4vMA==",
          "dtype": "i1"
         },
         "xaxis": "x16",
         "yaxis": "y16"
        },
        {
         "line": {
          "color": "white",
          "dash": "dot",
          "width": 1
         },
         "mode": "lines",
         "name": "Support",
         "showlegend": true,
         "type": "scatter",
         "x": {
          "bdata": "AAECAwQFBgcICQoLDA0ODxAREhMUFRYXGBkaGxwdHh8gISIjJCUmJygpKissLS4vMA==",
          "dtype": "i1"
         },
         "xaxis": "x16",
         "y": {
          "bdata": "AAAAAAAA+H8AAAAAAAD4fwAAAAAAAPh/AAAAAAAA+H8AAAAAAAD4fwAAAAAAAPh/AAAAAAAA+H8AAAAAAAD4fwAAAAAAAPh/AAAAAAAA+H8AAAAAAAD4fwAAAAAAAPh/AAAAAAAA+H8AAAAAAAD4fwAAAAAAAPh/AAAAAAAA+H8AAAAAAAD4fwAAAAAAAPh/AAAAAAAA+H8AAAAAAAD4fwAAAAAAAPh/AAAAAAAA+H8AAAAAAAD4fwAAAAAAAPh/AAAAAAAA+H8AAAAAAAD4fwAAAAAAAPh/AAAAAAAA+H8AAAAAAAD4fwAAAAAAAPh/AAAAAAAA+H8AAAAAAAD4fwAAAAAAAPh/AAAAAAAA+H8AAAAAAAD4fwAAAAAAAPh/AAAAAAAA+H+CIGvMkF5wQMyyj/XSZnBA8fsh0tQ7cECTJElig+pvQLdt29bnsm9AtG3btn9kb0At/+3GywtvQAIAABDuCG9A3LZt+7Chb0Dbtm37sCtwQLdt297cA3BASZIkSUMAcEA=",
          "dtype": "f8"
         },
         "yaxis": "y16"
        },
        {
         "line": {
          "color": "white",
          "dash": "dot",
          "width": 1
         },
         "mode": "lines",
         "name": "Resistance",
         "showlegend": true,
         "type": "scatter",
         "x": {
          "bdata": "AAECAwQFBgcICQoLDA0ODxAREhMUFRYXGBkaGxwdHh8gISIjJCUmJygpKissLS4vMA==",
          "dtype": "i1"
         },
         "xaxis": "x16",
         "y": {
          "bdata": "AAAAAAAA+H8AAAAAAAD4fwAAAAAAAPh/AAAAAAAA+H8AAAAAAAD4fwAAAAAAAPh/AAAAAAAA+H8AAAAAAAD4fwAAAAAAAPh/AAAAAAAA+H8AAAAAAAD4fwAAAAAAAPh/AAAAAAAA+H8AAAAAAAD4fwAAAAAAAPh/AAAAAAAA+H8AAAAAAAD4fwAAAAAAAPh/AAAAAAAA+H8AAAAAAAD4fwAAAAAAAPh/AAAAAAAA+H8AAAAAAAD4fwAAAAAAAPh/AAAAAAAA+H8AAAAAAAD4fwAAAAAAAPh/AAAAAAAA+H8AAAAAAAD4fwAAAAAAAPh/AAAAAAAA+H8AAAAAAAD4fwAAAAAAAPh/AAAAAAAA+H8AAAAAAAD4fwAAAAAAAPh/AAAAAAAA+H9ikKPAAShxQNBrWt6BLHFA0GtaNnkNcUBKkiSR5cVwQNu2bcsXqnBA2rZtu+OCcEBJkiRpMllwQAAAACinXnBAJUmS5KDCcED///+PmUNxQAAAABiu03BA27Zt+3fMcEA=",
          "dtype": "f8"
         },
         "yaxis": "y16"
        },
        {
         "mode": "lines",
         "name": "EMA",
         "showlegend": true,
         "type": "scatter",
         "x": {
          "bdata": "AAECAwQFBgcICQoLDA0ODxAREhMUFRYXGBkaGxwdHh8gISIjJCUmJygpKissLS4vMA==",
          "dtype": "i1"
         },
         "xaxis": "x16",
         "y": {
          "bdata": "AAAAAAAA+H8AAAAAAAD4fwAAAAAAAPh/AAAAAAAA+H8AAAAAAAD4fwAAAAAAAPh/AAAAAAAA+H8AAAAAAAD4fwAAAAAAAPh/AAAAAAAA+H8AAAAAAAD4fwAAAAAAAPh/AAAAAAAA+H8AAAAAAAD4fwAAAAAAAPh/AAAAAAAA+H8AAAAAAAD4fwAAAAAAAPh/AAAAAAAA+H8AAAAAAAD4fwAAAAAAAPh/AAAAAAAA+H8AAAAAAAD4fwAAAAAAAPh/AAAAAAAA+H8AAAAAAAD4fwAAAAAAAPh/AAAAAAAA+H8AAAAAAAD4fwAAAAAAAPh/AAAAgJ/YcEC66KILadVwQMCNZbDf1HBAUVJcQK7acEAyv5kXP9pwQLlQuqyL1HBAeabAZbnTcEBu9PRt6NNwQHv19YOa0XBA5MeZA6DDcECJ+0UjD7ZwQAhZKD1YqHBA8FCw9MyecEAJG+aP35RwQKt16D9flHBAVd8BveiRcEDBswGm0olwQMcXMK5egnBA+4lxe2tvcEA=",
          "dtype": "f8"
         },
         "yaxis": "y16"
        },
        {
         "marker": {
          "color": "red",
          "line": {
           "color": "black",
           "width": 2
          },
          "size": 12,
          "symbol": "triangle-down"
         },
         "mode": "markers",
         "name": "Short Signals",
         "showlegend": true,
         "type": "scatter",
         "x": {
          "bdata": "MA==",
          "dtype": "i1"
         },
         "xaxis": "x16",
         "y": {
          "bdata": "AAAAANdjb0A=",
          "dtype": "f8"
         },
         "yaxis": "y16"
        },
        {
         "close": {
          "bdata": "AAAAAAAA+H8AAAAAAAD4fwAAAAAAAPh/AAAAAAAA+H8AAAAAAAD4fwAAAAAAAPh/AAAAAAAA+H8AAAAAAAD4fwAAAAAAAPh/AAAAAAAA+H8AAAAAAAD4fwAAAAAAAPh/AAAAAAAA+H8AAAAAAAD4fwAAAAAAAPh/AAAAAAAA+H8AAAAAAAD4fwAAAAAAAPh/AAAAAAAA+H8AAAAAAAD4fwAAAAAAAPh/AAAAAAAA+H8AAAAAAAD4fwAAAAAAAPh/AAAAAAAA+H8AAAAAAAD4fwAAAAAAAPh/AAAAAAAA+H8AAAAAAAD4fwAAAAAAAPh/AAAAgD0KO0AAAACA6xE7QAAAAIA9yjpAAAAAIK5HOkAAAAAgXI86QAAAAMDMjDpAAAAAAADAOkAAAAAA1+M6QAAAAEAKlzpAAAAAwPVoOkAAAADgUXg6QAAAAKCZGTpAAAAAIIUrOkAAAACAwjU6QAAAAKCZGTtAAAAAANcjO0AAAACgcP06QAAAAEDhujpAAAAAIFxPOkA=",
          "dtype": "f8"
         },
         "decreasing": {
          "line": {
           "color": "#EF5350"
          }
         },
         "high": {
          "bdata": "AAAAAAAA+H8AAAAAAAD4fwAAAAAAAPh/AAAAAAAA+H8AAAAAAAD4fwAAAAAAAPh/AAAAAAAA+H8AAAAAAAD4fwAAAAAAAPh/AAAAAAAA+H8AAAAAAAD4fwAAAAAAAPh/AAAAAAAA+H8AAAAAAAD4fwAAAAAAAPh/AAAAAAAA+H8AAAAAAAD4fwAAAAAAAPh/AAAAAAAA+H8AAAAAAAD4fwAAAAAAAPh/AAAAAAAA+H8AAAAAAAD4fwAAAAAAAPh/AAAAAAAA+H8AAAAAAAD4fwAAAAAAAPh/AAAAAAAA+H8AAAAAAAD4fwAAAAAAAPh/AAAA4FE4O0AAAACAPUo7QAAAAKBw/TpAAAAAoJnZOkAAAAAAAMA6QAAAAIDC9TpAAAAAQDPzOkAAAABAMzM7QAAAAOBRuDpAAAAAIFzPOkAAAADgetQ6QAAAAAAAgDpAAAAAIFxPOkAAAADAzIw6QAAAAGC4HjtAAAAAANfjO0AAAADAzIw7QAAAAEAz8zpAAAAAwB6FOkA=",
          "dtype": "f8"
         },
         "increasing": {
          "line": {
           "color": "#26A69A"
          }
         },
         "low": {
          "bdata": "AAAAAAAA+H8AAAAAAAD4fwAAAAAAAPh/AAAAAAAA+H8AAAAAAAD4fwAAAAAAAPh/AAAAAAAA+H8AAAAAAAD4fwAAAAAAAPh/AAAAAAAA+H8AAAAAAAD4fwAAAAAAAPh/AAAAAAAA+H8AAAAAAAD4fwAAAAAAAPh/AAAAAAAA+H8AAAAAAAD4fwAAAAAAAPh/AAAAAAAA+H8AAAAAAAD4fwAAAAAAAPh/AAAAAAAA+H8AAAAAAAD4fwAAAAAAAPh/AAAAAAAA+H8AAAAAAAD4fwAAAAAAAPh/AAAAAAAA+H8AAAAAAAD4fwAAAAAAAPh/AAAA4HqUOkAAAACgcL06QAAAAADXYzpAAAAAoEchOkAAAACAFC46QAAAAIA9ijpAAAAAIFyPOkAAAABgZqY6QAAAAOBRODpAAAAA4KMwOkAAAACAFC46QAAAAIAUbjlAAAAAgBTuOUAAAAAA1+M5QAAAAIAULjpAAAAA4KPwOkAAAABguJ46QAAAAOBRODpAAAAAQOHaOUA=",
          "dtype": "f8"
         },
         "name": "Price",
         "open": {
          "bdata": "AAAAAAAA+H8AAAAAAAD4fwAAAAAAAPh/AAAAAAAA+H8AAAAAAAD4fwAAAAAAAPh/AAAAAAAA+H8AAAAAAAD4fwAAAAAAAPh/AAAAAAAA+H8AAAAAAAD4fwAAAAAAAPh/AAAAAAAA+H8AAAAAAAD4fwAAAAAAAPh/AAAAAAAA+H8AAAAAAAD4fwAAAAAAAPh/AAAAAAAA+H8AAAAAAAD4fwAAAAAAAPh/AAAAAAAA+H8AAAAAAAD4fwAAAAAAAPh/AAAAAAAA+H8AAAAAAAD4fwAAAAAAAPh/AAAAAAAA+H8AAAAAAAD4fwAAAAAAAPh/AAAAACncOkAAAABAMzM7QAAAAKBw/TpAAAAAQDNzOkAAAAAAKVw6QAAAAGBmpjpAAAAAoJmZOkAAAAAAAMA6QAAAAADXozpAAAAAgD2KOkAAAAAgroc6QAAAAEAzczpAAAAAACkcOkAAAADAHkU6QAAAAOCjMDpAAAAAAACAO0AAAADA9eg6QAAAAMDMzDpAAAAAwPVoOkA=",
          "dtype": "f8"
         },
         "type": "candlestick",
         "x": {
          "bdata": "AAECAwQFBgcICQoLDA0ODxAREhMUFRYXGBkaGxwdHh8gISIjJCUmJygpKissLS4vMA==",
          "dtype": "i1"
         },
         "xaxis": "x17",
         "yaxis": "y17"
        },
        {
         "line": {
          "color": "white",
          "dash": "dot",
          "width": 1
         },
         "mode": "lines",
         "name": "Support",
         "showlegend": true,
         "type": "scatter",
         "x": {
          "bdata": "AAECAwQFBgcICQoLDA0ODxAREhMUFRYXGBkaGxwdHh8gISIjJCUmJygpKissLS4vMA==",
          "dtype": "i1"
         },
         "xaxis": "x17",
         "y": {
          "bdata": "AAAAAAAA+H8AAAAAAAD4fwAAAAAAAPh/AAAAAAAA+H8AAAAAAAD4fwAAAAAAAPh/AAAAAAAA+H8AAAAAAAD4fwAAAAAAAPh/AAAAAAAA+H8AAAAAAAD4fwAAAAAAAPh/AAAAAAAA+H8AAAAAAAD4fwAAAAAAAPh/AAAAAAAA+H8AAAAAAAD4fwAAAAAAAPh/AAAAAAAA+H8AAAAAAAD4fwAAAAAAAPh/AAAAAAAA+H8AAAAAAAD4fwAAAAAAAPh/AAAAAAAA+H8AAAAAAAD4fwAAAAAAAPh/AAAAAAAA+H8AAAAAAAD4fwAAAAAAAPh/AAAAAAAA+H8AAAAAAAD4fwAAAAAAAPh/AAAAAAAA+H8AAAAAAAD4fwAAAAAAAPh/AAAAAAAA+H9KkiRJBNM5QNu2bZNHETpAkiRJurk/OkAkSZLs3Dc6QAIAAOCjADpAkiRJijpYOUABAABgLS85QJMkSTqVFjlAkCRJMm+MOUCSJEmq0hA6QLdt2/bGaDpASZIk0RhhOkA=",
          "dtype": "f8"
         },
         "yaxis": "y17"
        },
        {
         "line": {
          "color": "white",
          "dash": "dot",
          "width": 1
         },
         "mode": "lines",
         "name": "Resistance",
         "showlegend": true,
         "type": "scatter",
         "x": {
          "bdata": "AAECAwQFBgcICQoLDA0ODxAREhMUFRYXGBkaGxwdHh8gISIjJCUmJygpKissLS4vMA==",
          "dtype": "i1"
         },
         "xaxis": "x17",
         "y": {
          "bdata": "AAAAAAAA+H8AAAAAAAD4fwAAAAAAAPh/AAAAAAAA+H8AAAAAAAD4fwAAAAAAAPh/AAAAAAAA+H8AAAAAAAD4fwAAAAAAAPh/AAAAAAAA+H8AAAAAAAD4fwAAAAAAAPh/AAAAAAAA+H8AAAAAAAD4fwAAAAAAAPh/AAAAAAAA+H8AAAAAAAD4fwAAAAAAAPh/AAAAAAAA+H8AAAAAAAD4fwAAAAAAAPh/AAAAAAAA+H8AAAAAAAD4fwAAAAAAAPh/AAAAAAAA+H8AAAAAAAD4fwAAAAAAAPh/AAAAAAAA+H8AAAAAAAD4fwAAAAAAAPh/AAAAAAAA+H8AAAAAAAD4fwAAAAAAAPh/AAAAAAAA+H8AAAAAAAD4fwAAAAAAAPh/AAAAAAAA+H+SJElqot86QAAAAAjXMztAJEmS9AJCO0Bu27Zl3kg7QEqSJAk8GTtA3bZtc/HFOkADAADgfXY6QNu2bVOibzpAJEmSDE8mO0C3bdtuYwQ8QJMkSdJnNzxA27Zt0ytePEA=",
          "dtype": "f8"
         },
         "yaxis": "y17"
        },
        {
         "mode": "lines",
         "name": "EMA",
         "showlegend": true,
         "type": "scatter",
         "x": {
          "bdata": "AAECAwQFBgcICQoLDA0ODxAREhMUFRYXGBkaGxwdHh8gISIjJCUmJygpKissLS4vMA==",
          "dtype": "i1"
         },
         "xaxis": "x17",
         "y": {
          "bdata": "AAAAAAAA+H8AAAAAAAD4fwAAAAAAAPh/AAAAAAAA+H8AAAAAAAD4fwAAAAAAAPh/AAAAAAAA+H8AAAAAAAD4fwAAAAAAAPh/AAAAAAAA+H8AAAAAAAD4fwAAAAAAAPh/AAAAAAAA+H8AAAAAAAD4fwAAAAAAAPh/AAAAAAAA+H8AAAAAAAD4fwAAAAAAAPh/AAAAAAAA+H8AAAAAAAD4fwAAAAAAAPh/AAAAAAAA+H8AAAAAAAD4fwAAAAAAAPh/AAAAAAAA+H8AAAAAAAD4fwAAAAAAAPh/AAAAAAAA+H8AAAAAAAD4fwAAAAAAAPh/AAAAgD0KO0Cjiy468Ao7QAjcWIYOBTtANYI5N9fzOkC76r/AtOo6QAdhUUwr4jpAB57VFhDfOkB71U1Df986QEF8L/3o2DpAaUKImrvOOkAZJZOJ4MY6QEVQtOgftzpAszG77W6qOkCj/u+d0586QMP+H57lqjpAg4ruSeS1OkCmZgdpZbw6QH8Xex9CvDpA0OZvwluyOkA=",
          "dtype": "f8"
         },
         "yaxis": "y17"
        },
        {
         "marker": {
          "color": "red",
          "line": {
           "color": "black",
           "width": 2
          },
          "size": 12,
          "symbol": "triangle-down"
         },
         "mode": "markers",
         "name": "Short Signals",
         "showlegend": true,
         "type": "scatter",
         "x": {
          "bdata": "MA==",
          "dtype": "i1"
         },
         "xaxis": "x17",
         "y": {
          "bdata": "AAAAIFxPOkA=",
          "dtype": "f8"
         },
         "yaxis": "y17"
        },
        {
         "close": {
          "bdata": "AAAAAAAA+H8AAAAAAAD4fwAAAAAAAPh/AAAAAAAA+H8AAAAAAAD4fwAAAAAAAPh/AAAAAAAA+H8AAAAAAAD4fwAAAAAAAPh/AAAAAAAA+H8AAAAAAAD4fwAAAAAAAPh/AAAAAAAA+H8AAAAAAAD4fwAAAAAAAPh/AAAAAAAA+H8AAAAAAAD4fwAAAAAAAPh/AAAAAAAA+H8AAAAAAAD4fwAAAAAAAPh/AAAAAAAA+H8AAAAAAAD4fwAAAAAAAPh/AAAAAAAA+H8AAAAAAAD4fwAAAAAAAPh/AAAAAAAA+H8AAAAAAAD4fwAAAAAAAPh/AAAAoHCvj0AAAABgZg6QQAAAAOCjgI9AAAAAgD0NkEAAAACAwk6QQAAAAGBmipBAAAAAYGYvkEAAAADgUU2QQAAAAAApApBAAAAAQDNZj0AAAACAwuOOQAAAAIDriY5AAAAA4HrwjkAAAABgjxiOQAAAAOB6pI5AAAAAoJltjkAAAADgo2SOQAAAACBc945AAAAAQOFSjEA=",
          "dtype": "f8"
         },
         "decreasing": {
          "line": {
           "color": "#EF5350"
          }
         },
         "high": {
          "bdata": "AAAAAAAA+H8AAAAAAAD4fwAAAAAAAPh/AAAAAAAA+H8AAAAAAAD4fwAAAAAAAPh/AAAAAAAA+H8AAAAAAAD4fwAAAAAAAPh/AAAAAAAA+H8AAAAAAAD4fwAAAAAAAPh/AAAAAAAA+H8AAAAAAAD4fwAAAAAAAPh/AAAAAAAA+H8AAAAAAAD4fwAAAAAAAPh/AAAAAAAA+H8AAAAAAAD4fwAAAAAAAPh/AAAAAAAA+H8AAAAAAAD4fwAAAAAAAPh/AAAAAAAA+H8AAAAAAAD4fwAAAAAAAPh/AAAAAAAA+H8AAAAAAAD4fwAAAAAAAPh/AAAAQAoPkEAAAABgZiOQQAAAACCF9Y9AAAAAwPUOkEAAAADA9VeQQAAAAAAAopBAAAAAAACYkEAAAAAAAFSQQAAAAAAAVJBAAAAAIIUhkEAAAAAgXLmPQAAAAEAzE49AAAAAwB5Hj0AAAAAA10WPQAAAAAApso5AAAAAoHAXj0AAAADgetKOQAAAAMDMHI9AAAAAIIVtjkA=",
          "dtype": "f8"
         },
         "increasing": {
          "line": {
           "color": "#26A69A"
          }
         },
         "low": {
          "bdata": "AAAAAAAA+H8AAAAAAAD4fwAAAAAAAPh/AAAAAAAA+H8AAAAAAAD4fwAAAAAAAPh/AAAAAAAA+H8AAAAAAAD4fwAAAAAAAPh/AAAAAAAA+H8AAAAAAAD4fwAAAAAAAPh/AAAAAAAA+H8AAAAAAAD4fwAAAAAAAPh/AAAAAAAA+H8AAAAAAAD4fwAAAAAAAPh/AAAAAAAA+H8AAAAAAAD4fwAAAAAAAPh/AAAAAAAA+H8AAAAAAAD4fwAAAAAAAPh/AAAAAAAA+H8AAAAAAAD4fwAAAAAAAPh/AAAAAAAA+H8AAAAAAAD4fwAAAAAAAPh/AAAAIFxtj0AAAABACr+PQAAAAKCZV49AAAAAwMwyj0AAAABgZgSQQAAAAIDCRpBAAAAAAAD+j0AAAABACgKQQAAAAGC4vI9AAAAAwB47j0AAAAAA18OOQAAAAAAA2I1AAAAAQDOHjkAAAADgow6OQAAAACBc8Y1AAAAA4HomjkAAAAAgrqGNQAAAAADXS45AAAAAAAAYjEA=",
          "dtype": "f8"
         },
         "name": "Price",
         "open": {
          "bdata": "AAAAAAAA+H8AAAAAAAD4fwAAAAAAAPh/AAAAAAAA+H8AAAAAAAD4fwAAAAAAAPh/AAAAAAAA+H8AAAAAAAD4fwAAAAAAAPh/AAAAAAAA+H8AAAAAAAD4fwAAAAAAAPh/AAAAAAAA+H8AAAAAAAD4fwAAAAAAAPh/AAAAAAAA+H8AAAAAAAD4fwAAAAAAAPh/AAAAAAAA+H8AAAAAAAD4fwAAAAAAAPh/AAAAAAAA+H8AAAAAAAD4fwAAAAAAAPh/AAAAAAAA+H8AAAAAAAD4fwAAAAAAAPh/AAAAAAAA+H8AAAAAAAD4fwAAAAAAAPh/AAAAAADIj0AAAABgZviPQAAAAOBR5o9AAAAAgOtrj0AAAAAghQqQQAAAAMDMU5BAAAAAAACQkEAAAABguCyQQAAAAAAASJBAAAAAIK4VkEAAAAAAAICPQAAAAEAz645AAAAAwMyMjkAAAAAAABiPQAAAAOB6TI5AAAAAAAC4jkAAAABA4VyOQAAAAMD1bI5AAAAAgOtnjkA=",
          "dtype": "f8"
         },
         "type": "candlestick",
         "x": {
          "bdata": "AAECAwQFBgcICQoLDA0ODxAREhMUFRYXGBkaGxwdHh8gISIjJCUmJygpKissLS4vMA==",
          "dtype": "i1"
         },
         "xaxis": "x18",
         "yaxis": "y18"
        },
        {
         "line": {
          "color": "white",
          "dash": "dot",
          "width": 1
         },
         "mode": "lines",
         "name": "Support",
         "showlegend": true,
         "type": "scatter",
         "x": {
          "bdata": "AAECAwQFBgcICQoLDA0ODxAREhMUFRYXGBkaGxwdHh8gISIjJCUmJygpKissLS4vMA==",
          "dtype": "i1"
         },
         "xaxis": "x18",
         "y": {
          "bdata": "AAAAAAAA+H8AAAAAAAD4fwAAAAAAAPh/AAAAAAAA+H8AAAAAAAD4fwAAAAAAAPh/AAAAAAAA+H8AAAAAAAD4fwAAAAAAAPh/AAAAAAAA+H8AAAAAAAD4fwAAAAAAAPh/AAAAAAAA+H8AAAAAAAD4fwAAAAAAAPh/AAAAAAAA+H8AAAAAAAD4fwAAAAAAAPh/AAAAAAAA+H8AAAAAAAD4fwAAAAAAAPh/AAAAAAAA+H8AAAAAAAD4fwAAAAAAAPh/AAAAAAAA+H8AAAAAAAD4fwAAAAAAAPh/AAAAAAAA+H8AAAAAAAD4fwAAAAAAAPh/AAAAAAAA+H8AAAAAAAD4fwAAAAAAAPh/AAAAAAAA+H8AAAAAAAD4fwAAAAAAAPh/AAAAAAAA+H/etm0bgu2PQJAkSbJB8o9AAwAA0O+wj0D8//8vszaOQP7//28PyY1Atm3bZrVrjUDbtm0rXCmNQLdt285MuIxAAAAAwGrnjECSJEli8S6NQJIkSYLbaY1AAAAAkDqrjUA=",
          "dtype": "f8"
         },
         "yaxis": "y18"
        },
        {
         "line": {
          "color": "white",
          "dash": "dot",
          "width": 1
         },
         "mode": "lines",
         "name": "Resistance",
         "showlegend": true,
         "type": "scatter",
         "x": {
          "bdata": "AAECAwQFBgcICQoLDA0ODxAREhMUFRYXGBkaGxwdHh8gISIjJCUmJygpKissLS4vMA==",
          "dtype": "i1"
         },
         "xaxis": "x18",
         "y": {
          "bdata": "AAAAAAAA+H8AAAAAAAD4fwAAAAAAAPh/AAAAAAAA+H8AAAAAAAD4fwAAAAAAAPh/AAAAAAAA+H8AAAAAAAD4fwAAAAAAAPh/AAAAAAAA+H8AAAAAAAD4fwAAAAAAAPh/AAAAAAAA+H8AAAAAAAD4fwAAAAAAAPh/AAAAAAAA+H8AAAAAAAD4fwAAAAAAAPh/AAAAAAAA+H8AAAAAAAD4fwAAAAAAAPh/AAAAAAAA+H8AAAAAAAD4fwAAAAAAAPh/AAAAAAAA+H8AAAAAAAD4fwAAAAAAAPh/AAAAAAAA+H8AAAAAAAD4fwAAAAAAAPh/AAAAAAAA+H8AAAAAAAD4fwAAAAAAAPh/AAAAAAAA+H8AAAAAAAD4fwAAAAAAAPh/AAAAAAAA+H+4bdtWrdCQQJEkSeJv25BAAAAAsAvMkECRJEmy+E+QQLZt2yZBsY9AJkmSdCr+jkAjSZJsZvOOQJIkSZrw5Y5AAAAA0PoCj0AAAAAwXFaPQAAAADjcOI9AAQAAEMRjj0A=",
          "dtype": "f8"
         },
         "yaxis": "y18"
        },
        {
         "mode": "lines",
         "name": "EMA",
         "showlegend": true,
         "type": "scatter",
         "x": {
          "bdata": "AAECAwQFBgcICQoLDA0ODxAREhMUFRYXGBkaGxwdHh8gISIjJCUmJygpKissLS4vMA==",
          "dtype": "i1"
         },
         "xaxis": "x18",
         "y": {
          "bdata": "AAAAAAAA+H8AAAAAAAD4fwAAAAAAAPh/AAAAAAAA+H8AAAAAAAD4fwAAAAAAAPh/AAAAAAAA+H8AAAAAAAD4fwAAAAAAAPh/AAAAAAAA+H8AAAAAAAD4fwAAAAAAAPh/AAAAAAAA+H8AAAAAAAD4fwAAAAAAAPh/AAAAAAAA+H8AAAAAAAD4fwAAAAAAAPh/AAAAAAAA+H8AAAAAAAD4fwAAAAAAAPh/AAAAAAAA+H8AAAAAAAD4fwAAAAAAAPh/AAAAAAAA+H8AAAAAAAD4fwAAAAAAAPh/AAAAAAAA+H8AAAAAAAD4fwAAAAAAAPh/AAAAoHCvj0Cjiy66YbmPQMLE+zE5tI9AauHk/oS9j0DUb0QW4tGPQKll+Dw9749AJUWzjmH5j0A/ZfQ9BQSQQDkWgfLZA5BAZyi8vtb3j0BHU8Khvd6PQLRLPM3Bv49AddA25umsj0BTA+x8J4iPQEsaBeN0c49ARIynxaZbj0Dg8yMlMkWPQMw6T7AePo9A6AZIYDD6jkA=",
          "dtype": "f8"
         },
         "yaxis": "y18"
        },
        {
         "marker": {
          "color": "red",
          "line": {
           "color": "black",
           "width": 2
          },
          "size": 12,
          "symbol": "triangle-down"
         },
         "mode": "markers",
         "name": "Short Signals",
         "showlegend": true,
         "type": "scatter",
         "x": {
          "bdata": "MA==",
          "dtype": "i1"
         },
         "xaxis": "x18",
         "y": {
          "bdata": "AAAAQOFSjEA=",
          "dtype": "f8"
         },
         "yaxis": "y18"
        },
        {
         "close": {
          "bdata": "AAAAAAAA+H8AAAAAAAD4fwAAAAAAAPh/AAAAAAAA+H8AAAAAAAD4fwAAAAAAAPh/AAAAAAAA+H8AAAAAAAD4fwAAAAAAAPh/AAAAAAAA+H8AAAAAAAD4fwAAAAAAAPh/AAAAAAAA+H8AAAAAAAD4fwAAAAAAAPh/AAAAAAAA+H8AAAAAAAD4fwAAAAAAAPh/AAAAAAAA+H8AAAAAAAD4fwAAAAAAAPh/AAAAAAAA+H8AAAAAAAD4fwAAAAAAAPh/AAAAAAAA+H8AAAAAAAD4fwAAAAAAAPh/AAAAAAAA+H8AAAAAAAD4fwAAAAAAAPh/AAAAoEexcUAAAACgcNVxQAAAAAApxHFAAAAAwMx4cUAAAACA66FxQAAAAMD1iHFAAAAAIFyLcUAAAABA4bpxQAAAAOCjBHJAAAAAwMyscUAAAAAgrrdxQAAAAEDhqnBAAAAAgD3qcEAAAACgcLFwQAAAAOBRBHFAAAAAgD0KcUAAAABAM9twQAAAAMD17HBAAAAAYLg6cEA=",
          "dtype": "f8"
         },
         "decreasing": {
          "line": {
           "color": "#EF5350"
          }
         },
         "high": {
          "bdata": "AAAAAAAA+H8AAAAAAAD4fwAAAAAAAPh/AAAAAAAA+H8AAAAAAAD4fwAAAAAAAPh/AAAAAAAA+H8AAAAAAAD4fwAAAAAAAPh/AAAAAAAA+H8AAAAAAAD4fwAAAAAAAPh/AAAAAAAA+H8AAAAAAAD4fwAAAAAAAPh/AAAAAAAA+H8AAAAAAAD4fwAAAAAAAPh/AAAAAAAA+H8AAAAAAAD4fwAAAAAAAPh/AAAAAAAA+H8AAAAAAAD4fwAAAAAAAPh/AAAAAAAA+H8AAAAAAAD4fwAAAAAAAPh/AAAAAAAA+H8AAAAAAAD4fwAAAAAAAPh/AAAAIFwXckAAAACgcOlxQAAAAAAA8HFAAAAAYLiucUAAAAAgrq9xQAAAAADXv3FAAAAAYGbGcUAAAABAMw9yQAAAAEDhDnJAAAAAYI/qcUAAAABAM/txQAAAAKBHtXFAAAAAQOEGcUAAAADAzOxwQAAAACCuC3FAAAAAgD16cUAAAAAghRNxQAAAAIAU/nBAAAAAoEfZcEA=",
          "dtype": "f8"
         },
         "increasing": {
          "line": {
           "color": "#26A69A"
          }
         },
         "low": {
          "bdata": "AAAAAAAA+H8AAAAAAAD4fwAAAAAAAPh/AAAAAAAA+H8AAAAAAAD4fwAAAAAAAPh/AAAAAAAA+H8AAAAAAAD4fwAAAAAAAPh/AAAAAAAA+H8AAAAAAAD4fwAAAAAAAPh/AAAAAAAA+H8AAAAAAAD4fwAAAAAAAPh/AAAAAAAA+H8AAAAAAAD4fwAAAAAAAPh/AAAAAAAA+H8AAAAAAAD4fwAAAAAAAPh/AAAAAAAA+H8AAAAAAAD4fwAAAAAAAPh/AAAAAAAA+H8AAAAAAAD4fwAAAAAAAPh/AAAAAAAA+H8AAAAAAAD4fwAAAAAAAPh/AAAAwPWscUAAAACgmYlxQAAAAIDCsXFAAAAAQApvcUAAAADAzGRxQAAAAMDMdHFAAAAAAADgcEAAAABAM39xQAAAAIDCmXFAAAAAgOstcUAAAABgZp5xQAAAAGC4RnBAAAAAgMKVcEAAAACgcHVwQAAAAEAzb3BAAAAAIIXrcEAAAAAAAFRwQAAAAIDCtXBAAAAAIHMwcEA=",
          "dtype": "f8"
         },
         "name": "Price",
         "open": {
          "bdata": "AAAAAAAA+H8AAAAAAAD4fwAAAAAAAPh/AAAAAAAA+H8AAAAAAAD4fwAAAAAAAPh/AAAAAAAA+H8AAAAAAAD4fwAAAAAAAPh/AAAAAAAA+H8AAAAAAAD4fwAAAAAAAPh/AAAAAAAA+H8AAAAAAAD4fwAAAAAAAPh/AAAAAAAA+H8AAAAAAAD4fwAAAAAAAPh/AAAAAAAA+H8AAAAAAAD4fwAAAAAAAPh/AAAAAAAA+H8AAAAAAAD4fwAAAAAAAPh/AAAAAAAA+H8AAAAAAAD4fwAAAAAAAPh/AAAAAAAA+H8AAAAAAAD4fwAAAAAAAPh/AAAAYLj6cUAAAACAwsVxQAAAAGCPwnFAAAAAIIWDcUAAAADAHpVxQAAAAEDhmnFAAAAAQDODcUAAAACAPY5xQAAAAIDCmXFAAAAAoJlFcUAAAABACrtxQAAAAMAeqXFAAAAAgMKhcEAAAAAAKdhwQAAAAIA9vnBAAAAAgOsNcUAAAACA6wFxQAAAAIDr1XBAAAAAoEfZcEA=",
          "dtype": "f8"
         },
         "type": "candlestick",
         "x": {
          "bdata": "AAECAwQFBgcICQoLDA0ODxAREhMUFRYXGBkaGxwdHh8gISIjJCUmJygpKissLS4vMA==",
          "dtype": "i1"
         },
         "xaxis": "x19",
         "yaxis": "y19"
        },
        {
         "line": {
          "color": "white",
          "dash": "dot",
          "width": 1
         },
         "mode": "lines",
         "name": "Support",
         "showlegend": true,
         "type": "scatter",
         "x": {
          "bdata": "AAECAwQFBgcICQoLDA0ODxAREhMUFRYXGBkaGxwdHh8gISIjJCUmJygpKissLS4vMA==",
          "dtype": "i1"
         },
         "xaxis": "x19",
         "y": {
          "bdata": "AAAAAAAA+H8AAAAAAAD4fwAAAAAAAPh/AAAAAAAA+H8AAAAAAAD4fwAAAAAAAPh/AAAAAAAA+H8AAAAAAAD4fwAAAAAAAPh/AAAAAAAA+H8AAAAAAAD4fwAAAAAAAPh/AAAAAAAA+H8AAAAAAAD4fwAAAAAAAPh/AAAAAAAA+H8AAAAAAAD4fwAAAAAAAPh/AAAAAAAA+H8AAAAAAAD4fwAAAAAAAPh/AAAAAAAA+H8AAAAAAAD4fwAAAAAAAPh/AAAAAAAA+H8AAAAAAAD4fwAAAAAAAPh/AAAAAAAA+H8AAAAAAAD4fwAAAAAAAPh/AAAAAAAA+H8AAAAAAAD4fwAAAAAAAPh/AAAAAAAA+H8AAAAAAAD4fwAAAAAAAPh/AAAAAAAA+H9u27ZdQNVwQEqSJDlZ03BAJEmS9HcAcUC3bdt2nxlxQJMkSUodDnFA3LZtu5YxcED+//8v15dvQG3btt2AMm9Abdu27WfnbkD///9vf2FvQG7btm3hzm9AJUmStFpmcEA=",
          "dtype": "f8"
         },
         "yaxis": "y19"
        },
        {
         "line": {
          "color": "white",
          "dash": "dot",
          "width": 1
         },
         "mode": "lines",
         "name": "Resistance",
         "showlegend": true,
         "type": "scatter",
         "x": {
          "bdata": "AAECAwQFBgcICQoLDA0ODxAREhMUFRYXGBkaGxwdHh8gISIjJCUmJygpKissLS4vMA==",
          "dtype": "i1"
         },
         "xaxis": "x19",
         "y": {
          "bdata": "AAAAAAAA+H8AAAAAAAD4fwAAAAAAAPh/AAAAAAAA+H8AAAAAAAD4fwAAAAAAAPh/AAAAAAAA+H8AAAAAAAD4fwAAAAAAAPh/AAAAAAAA+H8AAAAAAAD4fwAAAAAAAPh/AAAAAAAA+H8AAAAAAAD4fwAAAAAAAPh/AAAAAAAA+H8AAAAAAAD4fwAAAAAAAPh/AAAAAAAA+H8AAAAAAAD4fwAAAAAAAPh/AAAAAAAA+H8AAAAAAAD4fwAAAAAAAPh/AAAAAAAA+H8AAAAAAAD4fwAAAAAAAPh/AAAAAAAA+H8AAAAAAAD4fwAAAAAAAPh/AAAAAAAA+H8AAAAAAAD4fwAAAAAAAPh/AAAAAAAA+H8AAAAAAAD4fwAAAAAAAPh/AAAAAAAA+H8AAACwHsxxQCVJktzfCHJA////j8I7ckBJkiTZajpyQNy2bXsXNHJAt23b9u/QcUAkSZJc4YRxQEqSJKnoE3FAJUmSvG3zcEAAAAD4PlxxQAAAAFAKjHFAAQAAGIX1cUA=",
          "dtype": "f8"
         },
         "yaxis": "y19"
        },
        {
         "mode": "lines",
         "name": "EMA",
         "showlegend": true,
         "type": "scatter",
         "x": {
          "bdata": "AAECAwQFBgcICQoLDA0ODxAREhMUFRYXGBkaGxwdHh8gISIjJCUmJygpKissLS4vMA==",
          "dtype": "i1"
         },
         "xaxis": "x19",
         "y": {
          "bdata": "AAAAAAAA+H8AAAAAAAD4fwAAAAAAAPh/AAAAAAAA+H8AAAAAAAD4fwAAAAAAAPh/AAAAAAAA+H8AAAAAAAD4fwAAAAAAAPh/AAAAAAAA+H8AAAAAAAD4fwAAAAAAAPh/AAAAAAAA+H8AAAAAAAD4fwAAAAAAAPh/AAAAAAAA+H8AAAAAAAD4fwAAAAAAAPh/AAAAAAAA+H8AAAAAAAD4fwAAAAAAAPh/AAAAAAAA+H8AAAAAAAD4fwAAAAAAAPh/AAAAAAAA+H8AAAAAAAD4fwAAAAAAAPh/AAAAAAAA+H8AAAAAAAD4fwAAAAAAAPh/AAAAoEexcUC66KIrkbRxQMCNZRD8tXFAUVJcIGywcUCPM2udGq9xQLB0Yeaiq3FAK8cSvbOocUBVzPnIWqpxQGRFnfmPsnFALJwa3QmycUAQ6wApjbJxQLLVAM6UmnFA500v3oyKcUCjjFke0HZxQCCXC41nbHFABhU5AHtjcUC/nhxjF1dxQMVhjmtxTXFAbYfe3nc0cUA=",
          "dtype": "f8"
         },
         "yaxis": "y19"
        },
        {
         "marker": {
          "color": "red",
          "line": {
           "color": "black",
           "width": 2
          },
          "size": 12,
          "symbol": "triangle-down"
         },
         "mode": "markers",
         "name": "Short Signals",
         "showlegend": true,
         "type": "scatter",
         "x": {
          "bdata": "MA==",
          "dtype": "i1"
         },
         "xaxis": "x19",
         "y": {
          "bdata": "AAAAYLg6cEA=",
          "dtype": "f8"
         },
         "yaxis": "y19"
        }
       ],
       "layout": {
        "annotations": [
         {
          "font": {
           "size": 16
          },
          "showarrow": false,
          "text": "ADM",
          "x": 0.5,
          "xanchor": "center",
          "xref": "paper",
          "y": 1,
          "yanchor": "bottom",
          "yref": "paper"
         },
         {
          "font": {
           "size": 16
          },
          "showarrow": false,
          "text": "AOS",
          "x": 0.5,
          "xanchor": "center",
          "xref": "paper",
          "y": 0.9447368421052633,
          "yanchor": "bottom",
          "yref": "paper"
         },
         {
          "font": {
           "size": 16
          },
          "showarrow": false,
          "text": "BG",
          "x": 0.5,
          "xanchor": "center",
          "xref": "paper",
          "y": 0.8894736842105264,
          "yanchor": "bottom",
          "yref": "paper"
         },
         {
          "font": {
           "size": 16
          },
          "showarrow": false,
          "text": "DHR",
          "x": 0.5,
          "xanchor": "center",
          "xref": "paper",
          "y": 0.8342105263157895,
          "yanchor": "bottom",
          "yref": "paper"
         },
         {
          "font": {
           "size": 16
          },
          "showarrow": false,
          "text": "EL",
          "x": 0.5,
          "xanchor": "center",
          "xref": "paper",
          "y": 0.7789473684210527,
          "yanchor": "bottom",
          "yref": "paper"
         },
         {
          "font": {
           "size": 16
          },
          "showarrow": false,
          "text": "FMC",
          "x": 0.5,
          "xanchor": "center",
          "xref": "paper",
          "y": 0.7236842105263158,
          "yanchor": "bottom",
          "yref": "paper"
         },
         {
          "font": {
           "size": 16
          },
          "showarrow": false,
          "text": "HAS",
          "x": 0.5,
          "xanchor": "center",
          "xref": "paper",
          "y": 0.668421052631579,
          "yanchor": "bottom",
          "yref": "paper"
         },
         {
          "font": {
           "size": 16
          },
          "showarrow": false,
          "text": "POOL",
          "x": 0.5,
          "xanchor": "center",
          "xref": "paper",
          "y": 0.6131578947368421,
          "yanchor": "bottom",
          "yref": "paper"
         },
         {
          "font": {
           "size": 16
          },
          "showarrow": false,
          "text": "REGN",
          "x": 0.5,
          "xanchor": "center",
          "xref": "paper",
          "y": 0.5578947368421052,
          "yanchor": "bottom",
          "yref": "paper"
         },
         {
          "font": {
           "size": 16
          },
          "showarrow": false,
          "text": "STZ",
          "x": 0.5,
          "xanchor": "center",
          "xref": "paper",
          "y": 0.5026315789473684,
          "yanchor": "bottom",
          "yref": "paper"
         },
         {
          "font": {
           "size": 16
          },
          "showarrow": false,
          "text": "BSX",
          "x": 0.5,
          "xanchor": "center",
          "xref": "paper",
          "y": 0.44736842105263164,
          "yanchor": "bottom",
          "yref": "paper"
         },
         {
          "font": {
           "size": 16
          },
          "showarrow": false,
          "text": "CBRE",
          "x": 0.5,
          "xanchor": "center",
          "xref": "paper",
          "y": 0.3921052631578948,
          "yanchor": "bottom",
          "yref": "paper"
         },
         {
          "font": {
           "size": 16
          },
          "showarrow": false,
          "text": "CMG",
          "x": 0.5,
          "xanchor": "center",
          "xref": "paper",
          "y": 0.33684210526315794,
          "yanchor": "bottom",
          "yref": "paper"
         },
         {
          "font": {
           "size": 16
          },
          "showarrow": false,
          "text": "EQIX",
          "x": 0.5,
          "xanchor": "center",
          "xref": "paper",
          "y": 0.28157894736842104,
          "yanchor": "bottom",
          "yref": "paper"
         },
         {
          "font": {
           "size": 16
          },
          "showarrow": false,
          "text": "EQT",
          "x": 0.5,
          "xanchor": "center",
          "xref": "paper",
          "y": 0.22631578947368422,
          "yanchor": "bottom",
          "yref": "paper"
         },
         {
          "font": {
           "size": 16
          },
          "showarrow": false,
          "text": "HLT",
          "x": 0.5,
          "xanchor": "center",
          "xref": "paper",
          "y": 0.17105263157894737,
          "yanchor": "bottom",
          "yref": "paper"
         },
         {
          "font": {
           "size": 16
          },
          "showarrow": false,
          "text": "KMI",
          "x": 0.5,
          "xanchor": "center",
          "xref": "paper",
          "y": 0.11578947368421054,
          "yanchor": "bottom",
          "yref": "paper"
         },
         {
          "font": {
           "size": 16
          },
          "showarrow": false,
          "text": "NFLX",
          "x": 0.5,
          "xanchor": "center",
          "xref": "paper",
          "y": 0.06052631578947369,
          "yanchor": "bottom",
          "yref": "paper"
         },
         {
          "font": {
           "size": 16
          },
          "showarrow": false,
          "text": "PODD",
          "x": 0.5,
          "xanchor": "center",
          "xref": "paper",
          "y": 0.005263157894736841,
          "yanchor": "bottom",
          "yref": "paper"
         }
        ],
        "height": 7600,
        "legend": {
         "bgcolor": "rgba(0,0,0,0.5)",
         "bordercolor": "rgba(255,255,255,0.2)"
        },
        "showlegend": true,
        "template": {
         "data": {
          "bar": [
           {
            "error_x": {
             "color": "#2a3f5f"
            },
            "error_y": {
             "color": "#2a3f5f"
            },
            "marker": {
             "line": {
              "color": "#E5ECF6",
              "width": 0.5
             },
             "pattern": {
              "fillmode": "overlay",
              "size": 10,
              "solidity": 0.2
             }
            },
            "type": "bar"
           }
          ],
          "barpolar": [
           {
            "marker": {
             "line": {
              "color": "#E5ECF6",
              "width": 0.5
             },
             "pattern": {
              "fillmode": "overlay",
              "size": 10,
              "solidity": 0.2
             }
            },
            "type": "barpolar"
           }
          ],
          "carpet": [
           {
            "aaxis": {
             "endlinecolor": "#2a3f5f",
             "gridcolor": "white",
             "linecolor": "white",
             "minorgridcolor": "white",
             "startlinecolor": "#2a3f5f"
            },
            "baxis": {
             "endlinecolor": "#2a3f5f",
             "gridcolor": "white",
             "linecolor": "white",
             "minorgridcolor": "white",
             "startlinecolor": "#2a3f5f"
            },
            "type": "carpet"
           }
          ],
          "choropleth": [
           {
            "colorbar": {
             "outlinewidth": 0,
             "ticks": ""
            },
            "type": "choropleth"
           }
          ],
          "contour": [
           {
            "colorbar": {
             "outlinewidth": 0,
             "ticks": ""
            },
            "colorscale": [
             [
              0,
              "#0d0887"
             ],
             [
              0.1111111111111111,
              "#46039f"
             ],
             [
              0.2222222222222222,
              "#7201a8"
             ],
             [
              0.3333333333333333,
              "#9c179e"
             ],
             [
              0.4444444444444444,
              "#bd3786"
             ],
             [
              0.5555555555555556,
              "#d8576b"
             ],
             [
              0.6666666666666666,
              "#ed7953"
             ],
             [
              0.7777777777777778,
              "#fb9f3a"
             ],
             [
              0.8888888888888888,
              "#fdca26"
             ],
             [
              1,
              "#f0f921"
             ]
            ],
            "type": "contour"
           }
          ],
          "contourcarpet": [
           {
            "colorbar": {
             "outlinewidth": 0,
             "ticks": ""
            },
            "type": "contourcarpet"
           }
          ],
          "heatmap": [
           {
            "colorbar": {
             "outlinewidth": 0,
             "ticks": ""
            },
            "colorscale": [
             [
              0,
              "#0d0887"
             ],
             [
              0.1111111111111111,
              "#46039f"
             ],
             [
              0.2222222222222222,
              "#7201a8"
             ],
             [
              0.3333333333333333,
              "#9c179e"
             ],
             [
              0.4444444444444444,
              "#bd3786"
             ],
             [
              0.5555555555555556,
              "#d8576b"
             ],
             [
              0.6666666666666666,
              "#ed7953"
             ],
             [
              0.7777777777777778,
              "#fb9f3a"
             ],
             [
              0.8888888888888888,
              "#fdca26"
             ],
             [
              1,
              "#f0f921"
             ]
            ],
            "type": "heatmap"
           }
          ],
          "histogram": [
           {
            "marker": {
             "pattern": {
              "fillmode": "overlay",
              "size": 10,
              "solidity": 0.2
             }
            },
            "type": "histogram"
           }
          ],
          "histogram2d": [
           {
            "colorbar": {
             "outlinewidth": 0,
             "ticks": ""
            },
            "colorscale": [
             [
              0,
              "#0d0887"
             ],
             [
              0.1111111111111111,
              "#46039f"
             ],
             [
              0.2222222222222222,
              "#7201a8"
             ],
             [
              0.3333333333333333,
              "#9c179e"
             ],
             [
              0.4444444444444444,
              "#bd3786"
             ],
             [
              0.5555555555555556,
              "#d8576b"
             ],
             [
              0.6666666666666666,
              "#ed7953"
             ],
             [
              0.7777777777777778,
              "#fb9f3a"
             ],
             [
              0.8888888888888888,
              "#fdca26"
             ],
             [
              1,
              "#f0f921"
             ]
            ],
            "type": "histogram2d"
           }
          ],
          "histogram2dcontour": [
           {
            "colorbar": {
             "outlinewidth": 0,
             "ticks": ""
            },
            "colorscale": [
             [
              0,
              "#0d0887"
             ],
             [
              0.1111111111111111,
              "#46039f"
             ],
             [
              0.2222222222222222,
              "#7201a8"
             ],
             [
              0.3333333333333333,
              "#9c179e"
             ],
             [
              0.4444444444444444,
              "#bd3786"
             ],
             [
              0.5555555555555556,
              "#d8576b"
             ],
             [
              0.6666666666666666,
              "#ed7953"
             ],
             [
              0.7777777777777778,
              "#fb9f3a"
             ],
             [
              0.8888888888888888,
              "#fdca26"
             ],
             [
              1,
              "#f0f921"
             ]
            ],
            "type": "histogram2dcontour"
           }
          ],
          "mesh3d": [
           {
            "colorbar": {
             "outlinewidth": 0,
             "ticks": ""
            },
            "type": "mesh3d"
           }
          ],
          "parcoords": [
           {
            "line": {
             "colorbar": {
              "outlinewidth": 0,
              "ticks": ""
             }
            },
            "type": "parcoords"
           }
          ],
          "pie": [
           {
            "automargin": true,
            "type": "pie"
           }
          ],
          "scatter": [
           {
            "fillpattern": {
             "fillmode": "overlay",
             "size": 10,
             "solidity": 0.2
            },
            "type": "scatter"
           }
          ],
          "scatter3d": [
           {
            "line": {
             "colorbar": {
              "outlinewidth": 0,
              "ticks": ""
             }
            },
            "marker": {
             "colorbar": {
              "outlinewidth": 0,
              "ticks": ""
             }
            },
            "type": "scatter3d"
           }
          ],
          "scattercarpet": [
           {
            "marker": {
             "colorbar": {
              "outlinewidth": 0,
              "ticks": ""
             }
            },
            "type": "scattercarpet"
           }
          ],
          "scattergeo": [
           {
            "marker": {
             "colorbar": {
              "outlinewidth": 0,
              "ticks": ""
             }
            },
            "type": "scattergeo"
           }
          ],
          "scattergl": [
           {
            "marker": {
             "colorbar": {
              "outlinewidth": 0,
              "ticks": ""
             }
            },
            "type": "scattergl"
           }
          ],
          "scattermap": [
           {
            "marker": {
             "colorbar": {
              "outlinewidth": 0,
              "ticks": ""
             }
            },
            "type": "scattermap"
           }
          ],
          "scattermapbox": [
           {
            "marker": {
             "colorbar": {
              "outlinewidth": 0,
              "ticks": ""
             }
            },
            "type": "scattermapbox"
           }
          ],
          "scatterpolar": [
           {
            "marker": {
             "colorbar": {
              "outlinewidth": 0,
              "ticks": ""
             }
            },
            "type": "scatterpolar"
           }
          ],
          "scatterpolargl": [
           {
            "marker": {
             "colorbar": {
              "outlinewidth": 0,
              "ticks": ""
             }
            },
            "type": "scatterpolargl"
           }
          ],
          "scatterternary": [
           {
            "marker": {
             "colorbar": {
              "outlinewidth": 0,
              "ticks": ""
             }
            },
            "type": "scatterternary"
           }
          ],
          "surface": [
           {
            "colorbar": {
             "outlinewidth": 0,
             "ticks": ""
            },
            "colorscale": [
             [
              0,
              "#0d0887"
             ],
             [
              0.1111111111111111,
              "#46039f"
             ],
             [
              0.2222222222222222,
              "#7201a8"
             ],
             [
              0.3333333333333333,
              "#9c179e"
             ],
             [
              0.4444444444444444,
              "#bd3786"
             ],
             [
              0.5555555555555556,
              "#d8576b"
             ],
             [
              0.6666666666666666,
              "#ed7953"
             ],
             [
              0.7777777777777778,
              "#fb9f3a"
             ],
             [
              0.8888888888888888,
              "#fdca26"
             ],
             [
              1,
              "#f0f921"
             ]
            ],
            "type": "surface"
           }
          ],
          "table": [
           {
            "cells": {
             "fill": {
              "color": "#EBF0F8"
             },
             "line": {
              "color": "white"
             }
            },
            "header": {
             "fill": {
              "color": "#C8D4E3"
             },
             "line": {
              "color": "white"
             }
            },
            "type": "table"
           }
          ]
         },
         "layout": {
          "annotationdefaults": {
           "arrowcolor": "#2a3f5f",
           "arrowhead": 0,
           "arrowwidth": 1
          },
          "autotypenumbers": "strict",
          "coloraxis": {
           "colorbar": {
            "outlinewidth": 0,
            "ticks": ""
           }
          },
          "colorscale": {
           "diverging": [
            [
             0,
             "#8e0152"
            ],
            [
             0.1,
             "#c51b7d"
            ],
            [
             0.2,
             "#de77ae"
            ],
            [
             0.3,
             "#f1b6da"
            ],
            [
             0.4,
             "#fde0ef"
            ],
            [
             0.5,
             "#f7f7f7"
            ],
            [
             0.6,
             "#e6f5d0"
            ],
            [
             0.7,
             "#b8e186"
            ],
            [
             0.8,
             "#7fbc41"
            ],
            [
             0.9,
             "#4d9221"
            ],
            [
             1,
             "#276419"
            ]
           ],
           "sequential": [
            [
             0,
             "#0d0887"
            ],
            [
             0.1111111111111111,
             "#46039f"
            ],
            [
             0.2222222222222222,
             "#7201a8"
            ],
            [
             0.3333333333333333,
             "#9c179e"
            ],
            [
             0.4444444444444444,
             "#bd3786"
            ],
            [
             0.5555555555555556,
             "#d8576b"
            ],
            [
             0.6666666666666666,
             "#ed7953"
            ],
            [
             0.7777777777777778,
             "#fb9f3a"
            ],
            [
             0.8888888888888888,
             "#fdca26"
            ],
            [
             1,
             "#f0f921"
            ]
           ],
           "sequentialminus": [
            [
             0,
             "#0d0887"
            ],
            [
             0.1111111111111111,
             "#46039f"
            ],
            [
             0.2222222222222222,
             "#7201a8"
            ],
            [
             0.3333333333333333,
             "#9c179e"
            ],
            [
             0.4444444444444444,
             "#bd3786"
            ],
            [
             0.5555555555555556,
             "#d8576b"
            ],
            [
             0.6666666666666666,
             "#ed7953"
            ],
            [
             0.7777777777777778,
             "#fb9f3a"
            ],
            [
             0.8888888888888888,
             "#fdca26"
            ],
            [
             1,
             "#f0f921"
            ]
           ]
          },
          "colorway": [
           "#636efa",
           "#EF553B",
           "#00cc96",
           "#ab63fa",
           "#FFA15A",
           "#19d3f3",
           "#FF6692",
           "#B6E880",
           "#FF97FF",
           "#FECB52"
          ],
          "font": {
           "color": "#2a3f5f"
          },
          "geo": {
           "bgcolor": "white",
           "lakecolor": "white",
           "landcolor": "#E5ECF6",
           "showlakes": true,
           "showland": true,
           "subunitcolor": "white"
          },
          "hoverlabel": {
           "align": "left"
          },
          "hovermode": "closest",
          "mapbox": {
           "style": "light"
          },
          "paper_bgcolor": "white",
          "plot_bgcolor": "#E5ECF6",
          "polar": {
           "angularaxis": {
            "gridcolor": "white",
            "linecolor": "white",
            "ticks": ""
           },
           "bgcolor": "#E5ECF6",
           "radialaxis": {
            "gridcolor": "white",
            "linecolor": "white",
            "ticks": ""
           }
          },
          "scene": {
           "xaxis": {
            "backgroundcolor": "#E5ECF6",
            "gridcolor": "white",
            "gridwidth": 2,
            "linecolor": "white",
            "showbackground": true,
            "ticks": "",
            "zerolinecolor": "white"
           },
           "yaxis": {
            "backgroundcolor": "#E5ECF6",
            "gridcolor": "white",
            "gridwidth": 2,
            "linecolor": "white",
            "showbackground": true,
            "ticks": "",
            "zerolinecolor": "white"
           },
           "zaxis": {
            "backgroundcolor": "#E5ECF6",
            "gridcolor": "white",
            "gridwidth": 2,
            "linecolor": "white",
            "showbackground": true,
            "ticks": "",
            "zerolinecolor": "white"
           }
          },
          "shapedefaults": {
           "line": {
            "color": "#2a3f5f"
           }
          },
          "ternary": {
           "aaxis": {
            "gridcolor": "white",
            "linecolor": "white",
            "ticks": ""
           },
           "baxis": {
            "gridcolor": "white",
            "linecolor": "white",
            "ticks": ""
           },
           "bgcolor": "#E5ECF6",
           "caxis": {
            "gridcolor": "white",
            "linecolor": "white",
            "ticks": ""
           }
          },
          "title": {
           "x": 0.05
          },
          "xaxis": {
           "automargin": true,
           "gridcolor": "white",
           "linecolor": "white",
           "ticks": "",
           "title": {
            "standoff": 15
           },
           "zerolinecolor": "white",
           "zerolinewidth": 2
          },
          "yaxis": {
           "automargin": true,
           "gridcolor": "white",
           "linecolor": "white",
           "ticks": "",
           "title": {
            "standoff": 15
           },
           "zerolinecolor": "white",
           "zerolinewidth": 2
          }
         }
        },
        "title": {
         "text": "Equity Signals"
        },
        "xaxis": {
         "anchor": "y",
         "domain": [
          0,
          1
         ],
         "rangeslider": {
          "visible": false
         }
        },
        "xaxis10": {
         "anchor": "y10",
         "domain": [
          0,
          1
         ],
         "rangeslider": {
          "visible": false
         }
        },
        "xaxis11": {
         "anchor": "y11",
         "domain": [
          0,
          1
         ],
         "rangeslider": {
          "visible": false
         }
        },
        "xaxis12": {
         "anchor": "y12",
         "domain": [
          0,
          1
         ],
         "rangeslider": {
          "visible": false
         }
        },
        "xaxis13": {
         "anchor": "y13",
         "domain": [
          0,
          1
         ],
         "rangeslider": {
          "visible": false
         }
        },
        "xaxis14": {
         "anchor": "y14",
         "domain": [
          0,
          1
         ],
         "rangeslider": {
          "visible": false
         }
        },
        "xaxis15": {
         "anchor": "y15",
         "domain": [
          0,
          1
         ],
         "rangeslider": {
          "visible": false
         }
        },
        "xaxis16": {
         "anchor": "y16",
         "domain": [
          0,
          1
         ],
         "rangeslider": {
          "visible": false
         }
        },
        "xaxis17": {
         "anchor": "y17",
         "domain": [
          0,
          1
         ],
         "rangeslider": {
          "visible": false
         }
        },
        "xaxis18": {
         "anchor": "y18",
         "domain": [
          0,
          1
         ],
         "rangeslider": {
          "visible": false
         }
        },
        "xaxis19": {
         "anchor": "y19",
         "domain": [
          0,
          1
         ],
         "rangeslider": {
          "visible": false
         }
        },
        "xaxis2": {
         "anchor": "y2",
         "domain": [
          0,
          1
         ],
         "rangeslider": {
          "visible": false
         }
        },
        "xaxis3": {
         "anchor": "y3",
         "domain": [
          0,
          1
         ],
         "rangeslider": {
          "visible": false
         }
        },
        "xaxis4": {
         "anchor": "y4",
         "domain": [
          0,
          1
         ],
         "rangeslider": {
          "visible": false
         }
        },
        "xaxis5": {
         "anchor": "y5",
         "domain": [
          0,
          1
         ],
         "rangeslider": {
          "visible": false
         }
        },
        "xaxis6": {
         "anchor": "y6",
         "domain": [
          0,
          1
         ],
         "rangeslider": {
          "visible": false
         }
        },
        "xaxis7": {
         "anchor": "y7",
         "domain": [
          0,
          1
         ],
         "rangeslider": {
          "visible": false
         }
        },
        "xaxis8": {
         "anchor": "y8",
         "domain": [
          0,
          1
         ],
         "rangeslider": {
          "visible": false
         }
        },
        "xaxis9": {
         "anchor": "y9",
         "domain": [
          0,
          1
         ],
         "rangeslider": {
          "visible": false
         }
        },
        "yaxis": {
         "anchor": "x",
         "domain": [
          0.9947368421052631,
          1
         ]
        },
        "yaxis10": {
         "anchor": "x10",
         "domain": [
          0.49736842105263157,
          0.5026315789473684
         ]
        },
        "yaxis11": {
         "anchor": "x11",
         "domain": [
          0.4421052631578948,
          0.44736842105263164
         ]
        },
        "yaxis12": {
         "anchor": "x12",
         "domain": [
          0.38684210526315793,
          0.3921052631578948
         ]
        },
        "yaxis13": {
         "anchor": "x13",
         "domain": [
          0.3315789473684211,
          0.33684210526315794
         ]
        },
        "yaxis14": {
         "anchor": "x14",
         "domain": [
          0.2763157894736842,
          0.28157894736842104
         ]
        },
        "yaxis15": {
         "anchor": "x15",
         "domain": [
          0.2210526315789474,
          0.22631578947368422
         ]
        },
        "yaxis16": {
         "anchor": "x16",
         "domain": [
          0.16578947368421054,
          0.17105263157894737
         ]
        },
        "yaxis17": {
         "anchor": "x17",
         "domain": [
          0.1105263157894737,
          0.11578947368421054
         ]
        },
        "yaxis18": {
         "anchor": "x18",
         "domain": [
          0.05526315789473685,
          0.06052631578947369
         ]
        },
        "yaxis19": {
         "anchor": "x19",
         "domain": [
          0,
          0.005263157894736841
         ]
        },
        "yaxis2": {
         "anchor": "x2",
         "domain": [
          0.9394736842105265,
          0.9447368421052633
         ]
        },
        "yaxis3": {
         "anchor": "x3",
         "domain": [
          0.8842105263157896,
          0.8894736842105264
         ]
        },
        "yaxis4": {
         "anchor": "x4",
         "domain": [
          0.8289473684210527,
          0.8342105263157895
         ]
        },
        "yaxis5": {
         "anchor": "x5",
         "domain": [
          0.7736842105263159,
          0.7789473684210527
         ]
        },
        "yaxis6": {
         "anchor": "x6",
         "domain": [
          0.718421052631579,
          0.7236842105263158
         ]
        },
        "yaxis7": {
         "anchor": "x7",
         "domain": [
          0.6631578947368422,
          0.668421052631579
         ]
        },
        "yaxis8": {
         "anchor": "x8",
         "domain": [
          0.6078947368421053,
          0.6131578947368421
         ]
        },
        "yaxis9": {
         "anchor": "x9",
         "domain": [
          0.5526315789473684,
          0.5578947368421052
         ]
        }
       }
      }
     },
     "metadata": {},
     "output_type": "display_data"
    }
   ],
   "source": [
    "def plot_ohlcv(data: pd.DataFrame, lookback: int = 7):\n",
    "    \"\"\"\n",
    "    Creates a single plot with OHLCV data and technical indicators.\n",
    "    \"\"\"\n",
    "    # Reset index to get numerical indices for plotting\n",
    "    data = data.reset_index(drop=True)\n",
    "    close_prices = data['Close']\n",
    "\n",
    "    # Calculate trendlines\n",
    "    s_tl, r_tl, signals, ema, r_slopes, s_slopes = trendline_breakout_hl(data, lookback)\n",
    "    \n",
    "    # Create the main figure\n",
    "    fig = go.Figure()\n",
    "    \n",
    "    # Add candlestick chart\n",
    "    fig.add_trace(\n",
    "        go.Candlestick(\n",
    "            x=data.index,\n",
    "            open=data['Open'],\n",
    "            high=data['High'],\n",
    "            low=data['Low'],\n",
    "            close=data['Close'],\n",
    "            increasing_line_color='#26A69A',  # Green candles\n",
    "            decreasing_line_color='#EF5350',  # Red candles\n",
    "            name='Price'\n",
    "        )\n",
    "    )\n",
    "    \n",
    "    # Add support trendline\n",
    "    fig.add_trace(\n",
    "        go.Scatter(\n",
    "            x=data.index,\n",
    "            y=s_tl,\n",
    "            mode='lines',\n",
    "            name='Support',\n",
    "            line=dict(color='white', width=1, dash='dot'),\n",
    "            showlegend=True\n",
    "        )\n",
    "    )\n",
    "    \n",
    "    # Add resistance trendline\n",
    "    fig.add_trace(\n",
    "        go.Scatter(\n",
    "            x=data.index,\n",
    "            y=r_tl,\n",
    "            mode='lines',\n",
    "            name='Resistance',\n",
    "            line=dict(color='white', width=1, dash='dot'),\n",
    "            showlegend=True\n",
    "        )\n",
    "    )\n",
    "    \n",
    "    # Add EMA\n",
    "    fig.add_trace(\n",
    "        go.Scatter(\n",
    "            x=data.index,\n",
    "            y=ema,\n",
    "            mode='lines',\n",
    "            name='EMA',\n",
    "            showlegend=True\n",
    "        )\n",
    "    )\n",
    "    \n",
    "    # Find long and short signals directly\n",
    "    long_mask = signals == 1\n",
    "    short_mask = signals == -1\n",
    "    \n",
    "    # Add markers for long signals (up arrows)\n",
    "    if long_mask.any():\n",
    "        fig.add_trace(\n",
    "            go.Scatter(\n",
    "                x=data.index[long_mask],\n",
    "                y=close_prices[long_mask],\n",
    "                mode='markers',\n",
    "                name='Long Signals',\n",
    "                marker=dict(\n",
    "                    size=12,\n",
    "                    symbol='triangle-up',\n",
    "                    color='lime',\n",
    "                    line=dict(color='black', width=2)\n",
    "                ),\n",
    "                showlegend=True\n",
    "            )\n",
    "        )\n",
    "    \n",
    "    # Add markers for short signals (down arrows)\n",
    "    if short_mask.any():\n",
    "        fig.add_trace(\n",
    "            go.Scatter(\n",
    "                x=data.index[short_mask],\n",
    "                y=close_prices[short_mask],\n",
    "                mode='markers',\n",
    "                name='Short Signals',\n",
    "                marker=dict(\n",
    "                    size=12,\n",
    "                    symbol='triangle-down',\n",
    "                    color='red',\n",
    "                    line=dict(color='black', width=2)\n",
    "                ),\n",
    "                showlegend=True\n",
    "            )\n",
    "        )\n",
    "    \n",
    "    # Update layout\n",
    "    fig.update_layout(\n",
    "        title='Charlotte',\n",
    "        xaxis_rangeslider_visible=False,\n",
    "        height=800,\n",
    "        yaxis=dict(\n",
    "            gridcolor='rgba(128,128,128,0.1)',\n",
    "            zerolinecolor='rgba(128,128,128,0.1)',\n",
    "        ),\n",
    "        xaxis=dict(\n",
    "            gridcolor='rgba(128,128,128,0.1)',\n",
    "            zerolinecolor='rgba(128,128,128,0.1)',\n",
    "        ),\n",
    "        showlegend=True,\n",
    "        legend=dict(\n",
    "            bgcolor='rgba(0,0,0,0.5)',\n",
    "            bordercolor='rgba(255,255,255,0.2)'\n",
    "        )\n",
    "    )\n",
    "    \n",
    "    return fig\n",
    "\n",
    "def plot_categorized_results(data: pd.DataFrame, categorized_results: dict):\n",
    "    \"\"\"\n",
    "    Creates plots for categorized crypto and equity signals.\n",
    "    \"\"\"\n",
    "    plots = {}\n",
    "    \n",
    "    # Plot crypto signals\n",
    "    crypto_tickers = categorized_results['crypto']['long'] + categorized_results['crypto']['short']\n",
    "    if crypto_tickers:\n",
    "        crypto_fig = make_subplots(\n",
    "            rows=len(crypto_tickers),\n",
    "            cols=1,\n",
    "            subplot_titles=[f\"{ticker.split('/')[0]}\" for ticker in crypto_tickers],\n",
    "            vertical_spacing=0.05\n",
    "        )\n",
    "        \n",
    "        for idx, ticker in enumerate(crypto_tickers, 1):\n",
    "            try:\n",
    "                ticker_data = data[ticker].copy()  # Make a copy to avoid modifying original\n",
    "                individual_fig = plot_ohlcv(ticker_data)\n",
    "                \n",
    "                for trace in individual_fig.data:\n",
    "                    crypto_fig.add_trace(trace, row=idx, col=1)\n",
    "            except Exception as e:\n",
    "                print(f\"Error plotting {ticker}: {str(e)}\")\n",
    "                continue\n",
    "        \n",
    "        crypto_fig.update_layout(\n",
    "            title='Crypto Signals',\n",
    "            height=400 * len(crypto_tickers),\n",
    "            showlegend=True,\n",
    "            legend=dict(\n",
    "                bgcolor='rgba(0,0,0,0.5)',\n",
    "                bordercolor='rgba(255,255,255,0.2)'\n",
    "            )\n",
    "        )\n",
    "        \n",
    "        crypto_fig.update_xaxes(rangeslider_visible=False)\n",
    "        plots['crypto'] = crypto_fig\n",
    "    \n",
    "    # Plot equity signals\n",
    "    equity_tickers = categorized_results['equities']['long'] + categorized_results['equities']['short']\n",
    "    if equity_tickers:\n",
    "        equity_fig = make_subplots(\n",
    "            rows=len(equity_tickers),\n",
    "            cols=1,\n",
    "            subplot_titles=equity_tickers,\n",
    "            vertical_spacing=0.05\n",
    "        )\n",
    "        \n",
    "        for idx, ticker in enumerate(equity_tickers, 1):\n",
    "            try:\n",
    "                ticker_data = data[ticker].copy()  # Make a copy to avoid modifying original\n",
    "                individual_fig = plot_ohlcv(ticker_data)\n",
    "                \n",
    "                for trace in individual_fig.data:\n",
    "                    equity_fig.add_trace(trace, row=idx, col=1)\n",
    "            except Exception as e:\n",
    "                print(f\"Error plotting {ticker}: {str(e)}\")\n",
    "                continue\n",
    "        \n",
    "        equity_fig.update_layout(\n",
    "            title='Equity Signals',\n",
    "            height=400 * len(equity_tickers),\n",
    "            showlegend=True,\n",
    "            legend=dict(\n",
    "                bgcolor='rgba(0,0,0,0.5)',\n",
    "                bordercolor='rgba(255,255,255,0.2)'\n",
    "            )\n",
    "        )\n",
    "        \n",
    "        equity_fig.update_xaxes(rangeslider_visible=False)\n",
    "        plots['equities'] = equity_fig\n",
    "    \n",
    "    return plots\n",
    "\n",
    "# Usage:\n",
    "\"\"\"\n",
    "# Categorize results\n",
    "categorized_results = categorize_tickers(long_tickers, short_tickers)\n",
    "\n",
    "# Create plots\n",
    "plots = plot_categorized_results(data, categorized_results)\n",
    "\n",
    "# Display plots\n",
    "if 'crypto' in plots:\n",
    "    plots['crypto'].show()\n",
    "if 'equities' in plots:\n",
    "    plots['equities'].show()\n",
    "\"\"\"\n",
    "\n",
    "# Example usage:\n",
    "# First categorize the results\n",
    "categorized_results = categorize_tickers(long_tickers, short_tickers)\n",
    "\n",
    "# Then create the plots\n",
    "plots = plot_categorized_results(combined_data, categorized_results)\n",
    "\n",
    "# Show crypto plots if they exist\n",
    "if 'crypto' in plots:\n",
    "    plots['crypto'].show()\n",
    "\n",
    "# Show equity plots if they exist\n",
    "if 'equities' in plots:\n",
    "    plots['equities'].show()"
   ]
  }
 ],
 "metadata": {
  "kernelspec": {
   "display_name": "Python 3",
   "language": "python",
   "name": "python3"
  },
  "language_info": {
   "codemirror_mode": {
    "name": "ipython",
    "version": 3
   },
   "file_extension": ".py",
   "mimetype": "text/x-python",
   "name": "python",
   "nbconvert_exporter": "python",
   "pygments_lexer": "ipython3",
   "version": "3.10.11"
  }
 },
 "nbformat": 4,
 "nbformat_minor": 2
}
